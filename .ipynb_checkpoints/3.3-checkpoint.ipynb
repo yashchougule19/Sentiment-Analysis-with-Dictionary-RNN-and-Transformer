{
 "cells": [
  {
   "cell_type": "code",
   "execution_count": 194,
   "metadata": {},
   "outputs": [
    {
     "name": "stdout",
     "output_type": "stream",
     "text": [
      "Collecting pipreqs\n",
      "  Downloading pipreqs-0.5.0-py3-none-any.whl.metadata (7.9 kB)\n",
      "Collecting docopt==0.6.2 (from pipreqs)\n",
      "  Downloading docopt-0.6.2.tar.gz (25 kB)\n",
      "  Preparing metadata (setup.py): started\n",
      "  Preparing metadata (setup.py): finished with status 'done'\n",
      "Collecting ipython==8.12.3 (from pipreqs)\n",
      "  Downloading ipython-8.12.3-py3-none-any.whl.metadata (5.7 kB)\n",
      "Collecting nbconvert<8.0.0,>=7.11.0 (from pipreqs)\n",
      "  Downloading nbconvert-7.16.4-py3-none-any.whl.metadata (8.5 kB)\n",
      "Collecting yarg==0.1.9 (from pipreqs)\n",
      "  Downloading yarg-0.1.9-py2.py3-none-any.whl.metadata (4.6 kB)\n",
      "Collecting backcall (from ipython==8.12.3->pipreqs)\n",
      "  Downloading backcall-0.2.0-py2.py3-none-any.whl.metadata (2.0 kB)\n",
      "Requirement already satisfied: decorator in c:\\users\\diya\\anaconda3\\envs\\delta\\lib\\site-packages (from ipython==8.12.3->pipreqs) (5.1.1)\n",
      "Requirement already satisfied: jedi>=0.16 in c:\\users\\diya\\anaconda3\\envs\\delta\\lib\\site-packages (from ipython==8.12.3->pipreqs) (0.18.1)\n",
      "Requirement already satisfied: matplotlib-inline in c:\\users\\diya\\anaconda3\\envs\\delta\\lib\\site-packages (from ipython==8.12.3->pipreqs) (0.1.6)\n",
      "Collecting pickleshare (from ipython==8.12.3->pipreqs)\n",
      "  Downloading pickleshare-0.7.5-py2.py3-none-any.whl.metadata (1.5 kB)\n",
      "Requirement already satisfied: prompt-toolkit!=3.0.37,<3.1.0,>=3.0.30 in c:\\users\\diya\\anaconda3\\envs\\delta\\lib\\site-packages (from ipython==8.12.3->pipreqs) (3.0.43)\n",
      "Requirement already satisfied: pygments>=2.4.0 in c:\\users\\diya\\anaconda3\\envs\\delta\\lib\\site-packages (from ipython==8.12.3->pipreqs) (2.15.1)\n",
      "Requirement already satisfied: stack-data in c:\\users\\diya\\anaconda3\\envs\\delta\\lib\\site-packages (from ipython==8.12.3->pipreqs) (0.2.0)\n",
      "Requirement already satisfied: traitlets>=5 in c:\\users\\diya\\anaconda3\\envs\\delta\\lib\\site-packages (from ipython==8.12.3->pipreqs) (5.7.1)\n",
      "Requirement already satisfied: colorama in c:\\users\\diya\\anaconda3\\envs\\delta\\lib\\site-packages (from ipython==8.12.3->pipreqs) (0.4.6)\n",
      "Requirement already satisfied: requests in c:\\users\\diya\\anaconda3\\envs\\delta\\lib\\site-packages (from yarg==0.1.9->pipreqs) (2.31.0)\n",
      "Requirement already satisfied: beautifulsoup4 in c:\\users\\diya\\anaconda3\\envs\\delta\\lib\\site-packages (from nbconvert<8.0.0,>=7.11.0->pipreqs) (4.12.2)\n",
      "Requirement already satisfied: bleach!=5.0.0 in c:\\users\\diya\\anaconda3\\envs\\delta\\lib\\site-packages (from nbconvert<8.0.0,>=7.11.0->pipreqs) (4.1.0)\n",
      "Requirement already satisfied: defusedxml in c:\\users\\diya\\anaconda3\\envs\\delta\\lib\\site-packages (from nbconvert<8.0.0,>=7.11.0->pipreqs) (0.7.1)\n",
      "Requirement already satisfied: jinja2>=3.0 in c:\\users\\diya\\anaconda3\\envs\\delta\\lib\\site-packages (from nbconvert<8.0.0,>=7.11.0->pipreqs) (3.1.3)\n",
      "Requirement already satisfied: jupyter-core>=4.7 in c:\\users\\diya\\anaconda3\\envs\\delta\\lib\\site-packages (from nbconvert<8.0.0,>=7.11.0->pipreqs) (5.5.0)\n",
      "Requirement already satisfied: jupyterlab-pygments in c:\\users\\diya\\anaconda3\\envs\\delta\\lib\\site-packages (from nbconvert<8.0.0,>=7.11.0->pipreqs) (0.1.2)\n",
      "Requirement already satisfied: markupsafe>=2.0 in c:\\users\\diya\\anaconda3\\envs\\delta\\lib\\site-packages (from nbconvert<8.0.0,>=7.11.0->pipreqs) (2.1.3)\n",
      "Requirement already satisfied: mistune<4,>=2.0.3 in c:\\users\\diya\\anaconda3\\envs\\delta\\lib\\site-packages (from nbconvert<8.0.0,>=7.11.0->pipreqs) (2.0.4)\n",
      "Requirement already satisfied: nbclient>=0.5.0 in c:\\users\\diya\\anaconda3\\envs\\delta\\lib\\site-packages (from nbconvert<8.0.0,>=7.11.0->pipreqs) (0.8.0)\n",
      "Requirement already satisfied: nbformat>=5.7 in c:\\users\\diya\\anaconda3\\envs\\delta\\lib\\site-packages (from nbconvert<8.0.0,>=7.11.0->pipreqs) (5.9.2)\n",
      "Requirement already satisfied: packaging in c:\\users\\diya\\anaconda3\\envs\\delta\\lib\\site-packages (from nbconvert<8.0.0,>=7.11.0->pipreqs) (23.2)\n",
      "Requirement already satisfied: pandocfilters>=1.4.1 in c:\\users\\diya\\anaconda3\\envs\\delta\\lib\\site-packages (from nbconvert<8.0.0,>=7.11.0->pipreqs) (1.5.0)\n",
      "Requirement already satisfied: tinycss2 in c:\\users\\diya\\anaconda3\\envs\\delta\\lib\\site-packages (from nbconvert<8.0.0,>=7.11.0->pipreqs) (1.2.1)\n",
      "Requirement already satisfied: six>=1.9.0 in c:\\users\\diya\\anaconda3\\envs\\delta\\lib\\site-packages (from bleach!=5.0.0->nbconvert<8.0.0,>=7.11.0->pipreqs) (1.16.0)\n",
      "Requirement already satisfied: webencodings in c:\\users\\diya\\anaconda3\\envs\\delta\\lib\\site-packages (from bleach!=5.0.0->nbconvert<8.0.0,>=7.11.0->pipreqs) (0.5.1)\n",
      "Requirement already satisfied: parso<0.9.0,>=0.8.0 in c:\\users\\diya\\anaconda3\\envs\\delta\\lib\\site-packages (from jedi>=0.16->ipython==8.12.3->pipreqs) (0.8.3)\n",
      "Requirement already satisfied: platformdirs>=2.5 in c:\\users\\diya\\anaconda3\\envs\\delta\\lib\\site-packages (from jupyter-core>=4.7->nbconvert<8.0.0,>=7.11.0->pipreqs) (3.10.0)\n",
      "Requirement already satisfied: pywin32>=300 in c:\\users\\diya\\anaconda3\\envs\\delta\\lib\\site-packages (from jupyter-core>=4.7->nbconvert<8.0.0,>=7.11.0->pipreqs) (305.1)\n",
      "Requirement already satisfied: jupyter-client>=6.1.12 in c:\\users\\diya\\anaconda3\\envs\\delta\\lib\\site-packages (from nbclient>=0.5.0->nbconvert<8.0.0,>=7.11.0->pipreqs) (8.6.0)\n",
      "Requirement already satisfied: fastjsonschema in c:\\users\\diya\\anaconda3\\envs\\delta\\lib\\site-packages (from nbformat>=5.7->nbconvert<8.0.0,>=7.11.0->pipreqs) (2.16.2)\n",
      "Requirement already satisfied: jsonschema>=2.6 in c:\\users\\diya\\anaconda3\\envs\\delta\\lib\\site-packages (from nbformat>=5.7->nbconvert<8.0.0,>=7.11.0->pipreqs) (4.19.2)\n",
      "Requirement already satisfied: wcwidth in c:\\users\\diya\\anaconda3\\envs\\delta\\lib\\site-packages (from prompt-toolkit!=3.0.37,<3.1.0,>=3.0.30->ipython==8.12.3->pipreqs) (0.2.5)\n",
      "Requirement already satisfied: soupsieve>1.2 in c:\\users\\diya\\anaconda3\\envs\\delta\\lib\\site-packages (from beautifulsoup4->nbconvert<8.0.0,>=7.11.0->pipreqs) (2.5)\n",
      "Requirement already satisfied: charset-normalizer<4,>=2 in c:\\users\\diya\\anaconda3\\envs\\delta\\lib\\site-packages (from requests->yarg==0.1.9->pipreqs) (2.0.4)\n",
      "Requirement already satisfied: idna<4,>=2.5 in c:\\users\\diya\\anaconda3\\envs\\delta\\lib\\site-packages (from requests->yarg==0.1.9->pipreqs) (3.7)\n",
      "Requirement already satisfied: urllib3<3,>=1.21.1 in c:\\users\\diya\\anaconda3\\envs\\delta\\lib\\site-packages (from requests->yarg==0.1.9->pipreqs) (2.1.0)\n",
      "Requirement already satisfied: certifi>=2017.4.17 in c:\\users\\diya\\anaconda3\\envs\\delta\\lib\\site-packages (from requests->yarg==0.1.9->pipreqs) (2024.2.2)\n",
      "Requirement already satisfied: executing in c:\\users\\diya\\anaconda3\\envs\\delta\\lib\\site-packages (from stack-data->ipython==8.12.3->pipreqs) (0.8.3)\n",
      "Requirement already satisfied: asttokens in c:\\users\\diya\\anaconda3\\envs\\delta\\lib\\site-packages (from stack-data->ipython==8.12.3->pipreqs) (2.0.5)\n",
      "Requirement already satisfied: pure-eval in c:\\users\\diya\\anaconda3\\envs\\delta\\lib\\site-packages (from stack-data->ipython==8.12.3->pipreqs) (0.2.2)\n",
      "Requirement already satisfied: attrs>=22.2.0 in c:\\users\\diya\\anaconda3\\envs\\delta\\lib\\site-packages (from jsonschema>=2.6->nbformat>=5.7->nbconvert<8.0.0,>=7.11.0->pipreqs) (23.1.0)\n",
      "Requirement already satisfied: jsonschema-specifications>=2023.03.6 in c:\\users\\diya\\anaconda3\\envs\\delta\\lib\\site-packages (from jsonschema>=2.6->nbformat>=5.7->nbconvert<8.0.0,>=7.11.0->pipreqs) (2023.7.1)\n",
      "Requirement already satisfied: referencing>=0.28.4 in c:\\users\\diya\\anaconda3\\envs\\delta\\lib\\site-packages (from jsonschema>=2.6->nbformat>=5.7->nbconvert<8.0.0,>=7.11.0->pipreqs) (0.30.2)\n",
      "Requirement already satisfied: rpds-py>=0.7.1 in c:\\users\\diya\\anaconda3\\envs\\delta\\lib\\site-packages (from jsonschema>=2.6->nbformat>=5.7->nbconvert<8.0.0,>=7.11.0->pipreqs) (0.10.6)\n",
      "Requirement already satisfied: python-dateutil>=2.8.2 in c:\\users\\diya\\anaconda3\\envs\\delta\\lib\\site-packages (from jupyter-client>=6.1.12->nbclient>=0.5.0->nbconvert<8.0.0,>=7.11.0->pipreqs) (2.8.2)\n",
      "Requirement already satisfied: pyzmq>=23.0 in c:\\users\\diya\\anaconda3\\envs\\delta\\lib\\site-packages (from jupyter-client>=6.1.12->nbclient>=0.5.0->nbconvert<8.0.0,>=7.11.0->pipreqs) (25.1.2)\n",
      "Requirement already satisfied: tornado>=6.2 in c:\\users\\diya\\anaconda3\\envs\\delta\\lib\\site-packages (from jupyter-client>=6.1.12->nbclient>=0.5.0->nbconvert<8.0.0,>=7.11.0->pipreqs) (6.3.3)\n",
      "Downloading pipreqs-0.5.0-py3-none-any.whl (33 kB)\n",
      "Downloading ipython-8.12.3-py3-none-any.whl (798 kB)\n",
      "   ---------------------------------------- 0.0/798.3 kB ? eta -:--:--\n",
      "   ------ --------------------------------- 122.9/798.3 kB 3.6 MB/s eta 0:00:01\n",
      "   ---------- ----------------------------- 204.8/798.3 kB 2.1 MB/s eta 0:00:01\n",
      "   --------------- ------------------------ 317.4/798.3 kB 2.5 MB/s eta 0:00:01\n",
      "   --------------------- ------------------ 419.8/798.3 kB 2.4 MB/s eta 0:00:01\n",
      "   -------------------------- ------------- 522.2/798.3 kB 2.5 MB/s eta 0:00:01\n",
      "   -------------------------------- ------- 645.1/798.3 kB 2.5 MB/s eta 0:00:01\n",
      "   ------------------------------------ --- 737.3/798.3 kB 2.4 MB/s eta 0:00:01\n",
      "   ---------------------------------------- 798.3/798.3 kB 2.3 MB/s eta 0:00:00\n",
      "Downloading yarg-0.1.9-py2.py3-none-any.whl (19 kB)\n",
      "Downloading nbconvert-7.16.4-py3-none-any.whl (257 kB)\n",
      "   ---------------------------------------- 0.0/257.4 kB ? eta -:--:--\n",
      "   ---------------------- ----------------- 143.4/257.4 kB 4.3 MB/s eta 0:00:01\n",
      "   ---------------------------------------- 257.4/257.4 kB 3.2 MB/s eta 0:00:00\n",
      "Downloading backcall-0.2.0-py2.py3-none-any.whl (11 kB)\n",
      "Downloading pickleshare-0.7.5-py2.py3-none-any.whl (6.9 kB)\n",
      "Building wheels for collected packages: docopt\n",
      "  Building wheel for docopt (setup.py): started\n",
      "  Building wheel for docopt (setup.py): finished with status 'done'\n",
      "  Created wheel for docopt: filename=docopt-0.6.2-py2.py3-none-any.whl size=13773 sha256=801f8d1a0b3f4c898d0ba1231e8a6bcb52512e7c093896643af506d831cd2595\n",
      "  Stored in directory: c:\\users\\diya\\appdata\\local\\pip\\cache\\wheels\\1a\\b0\\8c\\4b75c4116c31f83c8f9f047231251e13cc74481cca4a78a9ce\n",
      "Successfully built docopt\n",
      "Installing collected packages: pickleshare, docopt, backcall, yarg, ipython, nbconvert, pipreqs\n",
      "  Attempting uninstall: ipython\n",
      "    Found existing installation: ipython 8.20.0\n",
      "    Uninstalling ipython-8.20.0:\n",
      "      Successfully uninstalled ipython-8.20.0\n",
      "  Attempting uninstall: nbconvert\n",
      "    Found existing installation: nbconvert 7.10.0\n",
      "    Uninstalling nbconvert-7.10.0:\n",
      "      Successfully uninstalled nbconvert-7.10.0\n",
      "Successfully installed backcall-0.2.0 docopt-0.6.2 ipython-8.12.3 nbconvert-7.16.4 pickleshare-0.7.5 pipreqs-0.5.0 yarg-0.1.9\n"
     ]
    }
   ],
   "source": [
    "! pip install pipreqs"
   ]
  },
  {
   "cell_type": "code",
   "execution_count": null,
   "metadata": {},
   "outputs": [],
   "source": [
    "! pipreqs "
   ]
  },
  {
   "cell_type": "markdown",
   "metadata": {},
   "source": [
    "# 0. Import Libraries "
   ]
  },
  {
   "cell_type": "code",
   "execution_count": 193,
   "metadata": {},
   "outputs": [],
   "source": [
    "# For preprocessing\n",
    "import pandas as pd\n",
    "import numpy as np\n",
    "from sklearn.feature_extraction.text import TfidfVectorizer\n",
    "from sklearn.metrics.pairwise import cosine_similarity\n",
    "from collections import Counter\n",
    "from imblearn.over_sampling import SMOTE\n",
    "import nltk\n",
    "from nltk.corpus import stopwords\n",
    "import re\n",
    "from bs4 import BeautifulSoup\n",
    "import emoji\n",
    "from urllib.parse import urlparse\n",
    "import seaborn as sns\n",
    "import matplotlib.pyplot as plt\n",
    "\n",
    "from ClassificationScores import ClassificationEvaluator\n",
    "\n",
    "# For VaderSentiment\n",
    "from vaderSentiment.vaderSentiment import SentimentIntensityAnalyzer\n",
    "\n",
    "# For RNN model \n",
    "from gensim.models import FastText\n",
    "from sklearn.model_selection import train_test_split\n",
    "from tensorflow.keras.preprocessing.text import Tokenizer\n",
    "from tensorflow.keras.preprocessing.sequence import pad_sequences\n",
    "from tensorflow.keras.models import Sequential\n",
    "from tensorflow.keras.layers import Input, Embedding, LSTM, GRU, Dense, Dropout\n",
    "from tensorflow.keras.callbacks import EarlyStopping\n",
    "from tensorflow.keras.optimizers import Adam\n",
    "from keras.regularizers import l2\n",
    "from sklearn.model_selection import train_test_split\n",
    "from sklearn.utils import class_weight\n",
    "\n",
    "# For DistilBERT\n",
    "import tensorflow as tf\n",
    "from transformers import DistilBertTokenizer, TFDistilBertForSequenceClassification"
   ]
  },
  {
   "cell_type": "markdown",
   "metadata": {},
   "source": [
    "# 1. Data Preprocessing"
   ]
  },
  {
   "cell_type": "markdown",
   "metadata": {},
   "source": [
    "### 1.1. Importing the data and getting known to it."
   ]
  },
  {
   "cell_type": "code",
   "execution_count": 2,
   "metadata": {},
   "outputs": [],
   "source": [
    "# Importing the train and test datasets\n",
    "train_df = pd.read_parquet('btc_tweets_train.parquet.gzip')\n",
    "test_df = pd.read_parquet('btc_tweets_test.parquet.gzip')"
   ]
  },
  {
   "cell_type": "code",
   "execution_count": 3,
   "metadata": {},
   "outputs": [],
   "source": [
    "train_df = train_df.reset_index()\n",
    "test_df = test_df.reset_index()"
   ]
  },
  {
   "cell_type": "code",
   "execution_count": 4,
   "metadata": {},
   "outputs": [],
   "source": [
    "def df_info(df):\n",
    "    return df.shape, df.isnull().sum().sum(), df.info()"
   ]
  },
  {
   "cell_type": "code",
   "execution_count": 5,
   "metadata": {},
   "outputs": [
    {
     "name": "stdout",
     "output_type": "stream",
     "text": [
      "<class 'pandas.core.frame.DataFrame'>\n",
      "RangeIndex: 1500 entries, 0 to 1499\n",
      "Data columns (total 6 columns):\n",
      " #   Column            Non-Null Count  Dtype \n",
      "---  ------            --------------  ----- \n",
      " 0   tweet ID          1500 non-null   int64 \n",
      " 1   hashtags          1500 non-null   object\n",
      " 2   content           1500 non-null   object\n",
      " 3   username          1500 non-null   object\n",
      " 4   user_displayname  1500 non-null   object\n",
      " 5   sentiment         1500 non-null   bool  \n",
      "dtypes: bool(1), int64(1), object(4)\n",
      "memory usage: 60.2+ KB\n"
     ]
    },
    {
     "data": {
      "text/plain": [
       "((1500, 6), 0, None)"
      ]
     },
     "execution_count": 5,
     "metadata": {},
     "output_type": "execute_result"
    }
   ],
   "source": [
    "# Running a few checks to understand the datasets\n",
    "df_info(train_df)"
   ]
  },
  {
   "cell_type": "code",
   "execution_count": 6,
   "metadata": {},
   "outputs": [
    {
     "name": "stdout",
     "output_type": "stream",
     "text": [
      "<class 'pandas.core.frame.DataFrame'>\n",
      "RangeIndex: 500 entries, 0 to 499\n",
      "Data columns (total 6 columns):\n",
      " #   Column            Non-Null Count  Dtype \n",
      "---  ------            --------------  ----- \n",
      " 0   tweet ID          500 non-null    int64 \n",
      " 1   hashtags          500 non-null    object\n",
      " 2   content           500 non-null    object\n",
      " 3   username          500 non-null    object\n",
      " 4   user_displayname  500 non-null    object\n",
      " 5   sentiment         500 non-null    bool  \n",
      "dtypes: bool(1), int64(1), object(4)\n",
      "memory usage: 20.1+ KB\n"
     ]
    },
    {
     "data": {
      "text/plain": [
       "((500, 6), 0, None)"
      ]
     },
     "execution_count": 6,
     "metadata": {},
     "output_type": "execute_result"
    }
   ],
   "source": [
    "df_info(test_df)"
   ]
  },
  {
   "cell_type": "code",
   "execution_count": 7,
   "metadata": {},
   "outputs": [],
   "source": [
    "# Dropping the unnecessary features (Hashtags in the tweets are seperately handled ahead)\n",
    "train_df = train_df.drop(['tweet ID', 'user_displayname', 'hashtags'], axis=1)\n",
    "test_df = test_df.drop(['tweet ID', 'user_displayname', 'hashtags'], axis=1)"
   ]
  },
  {
   "cell_type": "code",
   "execution_count": 8,
   "metadata": {},
   "outputs": [],
   "source": [
    "# Converting the sentiment labels from bool to int\n",
    "train_df['sentiment'] = train_df['sentiment'].astype(int)\n",
    "test_df['sentiment'] = test_df['sentiment'].astype(int)"
   ]
  },
  {
   "cell_type": "markdown",
   "metadata": {},
   "source": [
    "### 1.2. DataPreprocessor Class"
   ]
  },
  {
   "cell_type": "code",
   "execution_count": 139,
   "metadata": {},
   "outputs": [],
   "source": []
  },
  {
   "cell_type": "code",
   "execution_count": 188,
   "metadata": {},
   "outputs": [],
   "source": [
    "# Initialize the class for train and test df\n",
    "train_datapreprocessor = DataPreprocessor(df=train_df, content_column='content')\n",
    "test_datapreprocessor = DataPreprocessor(df=test_df, content_column='content')"
   ]
  },
  {
   "cell_type": "markdown",
   "metadata": {},
   "source": [
    "### 1.3. ClassificationEvaluator Class"
   ]
  },
  {
   "cell_type": "code",
   "execution_count": 159,
   "metadata": {},
   "outputs": [],
   "source": []
  },
  {
   "cell_type": "markdown",
   "metadata": {},
   "source": [
    "### A few trials"
   ]
  },
  {
   "cell_type": "code",
   "execution_count": null,
   "metadata": {},
   "outputs": [],
   "source": [
    "def extract_special_characters(text):\n",
    "    # Regular expression to match special characters\n",
    "    return re.findall(r'[^a-zA-Z0-9\\s]', text)\n",
    "\n",
    "# Extract special characters from the selected column (e.g., 'content')\n",
    "df = train_df.copy()\n",
    "df['special_chars'] = df['content'].apply(extract_special_characters)\n",
    "\n",
    "# Flatten the list of special characters and count their frequency\n",
    "special_chars_list = df['special_chars'].sum()\n",
    "special_chars_count = Counter(special_chars_list)\n",
    "\n",
    "# Get the most common special characters\n",
    "most_common_special_chars = special_chars_count.most_common()\n",
    "\n",
    "# Display the results\n",
    "for char, count in most_common_special_chars:\n",
    "    print(f\"'{char}': {count}\")"
   ]
  },
  {
   "cell_type": "code",
   "execution_count": null,
   "metadata": {},
   "outputs": [],
   "source": [
    "🤔😂😳😂"
   ]
  },
  {
   "cell_type": "code",
   "execution_count": 60,
   "metadata": {},
   "outputs": [
    {
     "name": "stdout",
     "output_type": "stream",
     "text": [
      "🔥: 136\n",
      "🚀: 115\n",
      "👇: 107\n",
      "🚨: 95\n",
      "✅: 69\n",
      "👀: 47\n",
      "📈: 46\n",
      "⚡: 40\n",
      "‼: 38\n",
      "🎁: 38\n",
      "🏆: 36\n",
      "🟢: 29\n",
      "👉: 27\n",
      "💎: 26\n",
      "🤔: 25\n",
      "⬇: 25\n",
      "🪙: 24\n",
      "🙏: 23\n",
      "💥: 22\n",
      "❤: 21\n",
      "😂: 19\n",
      "⏰: 19\n",
      "💰: 19\n",
      "🙌: 18\n",
      "🏻: 18\n",
      "🤝: 16\n",
      "🧵: 16\n",
      "🧡: 15\n",
      "💯: 14\n",
      "🎉: 13\n",
      "➡: 12\n",
      "💪: 12\n",
      "🔔: 12\n",
      "💸: 12\n",
      "☀: 11\n",
      "🫡: 11\n",
      "🟧: 11\n",
      "📢: 10\n",
      "🤩: 10\n",
      "♥: 10\n",
      "📱: 9\n",
      "⭐: 9\n",
      "🤯: 8\n",
      "☕: 8\n",
      "🤑: 8\n",
      "💜: 8\n",
      "▶: 7\n",
      "👑: 7\n",
      "🤣: 7\n",
      "♂: 7\n",
      "💛: 7\n",
      "💚: 7\n",
      "💙: 7\n",
      "🌟: 7\n",
      "🔗: 7\n",
      "🎯: 7\n",
      "🥇: 7\n",
      "📉: 7\n",
      "🥳: 7\n",
      "✍: 7\n",
      "🔹: 7\n",
      "😱: 6\n",
      "✨: 6\n",
      "📊: 6\n",
      "💧: 6\n",
      "⏳: 6\n",
      "🏼: 6\n",
      "📍: 6\n",
      "😎: 6\n",
      "⚔: 6\n",
      "☠: 5\n",
      "😉: 5\n",
      "👋: 5\n",
      "🌕: 5\n",
      "♀: 5\n",
      "📎: 5\n",
      "🔶: 5\n",
      "😅: 5\n",
      "👌: 5\n",
      "💵: 5\n",
      "🏽: 5\n",
      "🔸: 5\n",
      "🧪: 5\n",
      "👍: 5\n",
      "🤘: 4\n",
      "🦉: 4\n",
      "🎰: 4\n",
      "💊: 4\n",
      "🐉: 4\n",
      "🥊: 4\n",
      "🍀: 4\n",
      "🥈: 4\n",
      "🥉: 4\n",
      "🔍: 4\n",
      "🌐: 4\n",
      "🔁: 4\n",
      "⬅: 4\n",
      "🌞: 4\n",
      "🧐: 4\n",
      "🐦: 4\n",
      "👥: 4\n",
      "🔄: 4\n",
      "🌍: 4\n",
      "❓: 4\n",
      "➕: 4\n",
      "💻: 4\n",
      "🦅: 4\n",
      "🏾: 3\n",
      "⛓: 3\n",
      "♾: 3\n",
      "🌎: 3\n",
      "💡: 3\n",
      "™: 3\n",
      "😭: 3\n",
      "🗣: 3\n",
      "🦾: 3\n",
      "📌: 3\n",
      "📣: 3\n",
      "😏: 3\n",
      "🤓: 3\n",
      "🍖: 3\n",
      "☑: 3\n",
      "💨: 3\n",
      "🚫: 3\n",
      "💳: 3\n",
      "🧘: 3\n",
      "🍌: 3\n",
      "😲: 3\n",
      "😁: 3\n",
      "🙂: 3\n",
      "🥂: 3\n",
      "📰: 3\n",
      "🔰: 3\n",
      "🤷: 3\n",
      "👏: 3\n",
      "⚠: 3\n",
      "👧: 3\n",
      "⬜: 3\n",
      "🫂: 3\n",
      "🤲: 3\n",
      "🔴: 3\n",
      "🦁: 3\n",
      "♻: 3\n",
      "🥰: 2\n",
      "🎸: 2\n",
      "🎲: 2\n",
      "🃏: 2\n",
      "😼: 2\n",
      "🏎: 2\n",
      "🧙: 2\n",
      "🎟: 2\n",
      "🍊: 2\n",
      "🎙: 2\n",
      "🤫: 2\n",
      "❗: 2\n",
      "🦜: 2\n",
      "😔: 2\n",
      "👈: 2\n",
      "😈: 2\n",
      "😃: 2\n",
      "🏴: 2\n",
      "🌏: 2\n",
      "🐸: 2\n",
      "😮: 2\n",
      "◾: 2\n",
      "💀: 2\n",
      "🦊: 2\n",
      "🎮: 2\n",
      "💬: 2\n",
      "🙃: 2\n",
      "🏦: 2\n",
      "💫: 2\n",
      "♣: 2\n",
      "🎖: 2\n",
      "🌠: 2\n",
      "📅: 2\n",
      "⚪: 2\n",
      "🌙: 2\n",
      "🤜: 2\n",
      "🤛: 2\n",
      "🐕: 2\n",
      "😬: 2\n",
      "🤡: 2\n",
      "🥚: 2\n",
      "💣: 2\n",
      "👨: 2\n",
      "👩: 2\n",
      "🔛: 2\n",
      "🔐: 2\n",
      "🍻: 2\n",
      "✔: 2\n",
      "🧑: 2\n",
      "💕: 2\n",
      "🐝: 2\n",
      "📺: 2\n",
      "😆: 2\n",
      "🍐: 2\n",
      "🏖: 2\n",
      "🔵: 2\n",
      "😳: 2\n"
     ]
    }
   ],
   "source": [
    "def extract_emojis(text):\n",
    "    return ''.join(char for char in text if char in emoji.EMOJI_DATA)\n",
    "\n",
    "# Extract emojis from the selected column (e.g., 'content')\n",
    "#column_to_use = 'cleaned_content' if 'cleaned_content' in df.columns else 'content'\n",
    "df = train_df.copy()\n",
    "df['emojis'] = df['content'].apply(extract_emojis)\n",
    "\n",
    "# Flatten the list of emojis and count the frequency of each emoji\n",
    "emoji_list = df['emojis'].sum()\n",
    "emoji_count = Counter(emoji_list)\n",
    "\n",
    "# Get the top 50 most used emojis\n",
    "top_50_emojis = emoji_count.most_common(200)\n",
    "\n",
    "# Display the results\n",
    "for emoji_char, count in top_50_emojis:\n",
    "    print(f\"{emoji_char}: {count}\")\n"
   ]
  },
  {
   "cell_type": "markdown",
   "metadata": {},
   "source": [
    "**NOTE: both the cleaned datasets above are still imbalanced with True values largly outnumbered than False. The imbalance needs to be taken care of by assigning class weights dring model training.**"
   ]
  },
  {
   "cell_type": "markdown",
   "metadata": {},
   "source": [
    "# 2. Benchmark: vaderSentiment Sentiment Dictionary"
   ]
  },
  {
   "cell_type": "markdown",
   "metadata": {},
   "source": [
    "For sentiment analysis using VADER, it's best to apply VADER to the raw, uncleaned text to leverage its strengths in handling informal language, punctuation, and emojis. However, when it comes to Links, it is best to remove them. Links are irrelevent to the sentiment and could add unnecessary noise, potentially influencing the sentiment."
   ]
  },
  {
   "cell_type": "markdown",
   "metadata": {},
   "source": [
    "The preprocessing flow for vaderSentiment\n",
    "- Remove spam tweets\n",
    "- Remove links\n",
    "- Remove unnecessary hashtags\n",
    "- Then apply vader sentiment dictionary on the cleaned tweets"
   ]
  },
  {
   "cell_type": "markdown",
   "metadata": {},
   "source": [
    "### 2.1. Getting the dataset ready for VaderSentiment"
   ]
  },
  {
   "cell_type": "code",
   "execution_count": 24,
   "metadata": {},
   "outputs": [],
   "source": [
    "vader_test_df = test_df.copy()\n",
    "vader_datapreprocessor = DataPreprocessor(df=vader_test_df, content_column='content')"
   ]
  },
  {
   "cell_type": "code",
   "execution_count": 25,
   "metadata": {},
   "outputs": [
    {
     "name": "stderr",
     "output_type": "stream",
     "text": [
      "C:\\Users\\Diya\\AppData\\Local\\Temp\\ipykernel_5400\\1562336574.py:99: MarkupResemblesLocatorWarning: The input looks more like a filename than markup. You may want to open this file and pass the filehandle into Beautiful Soup.\n",
      "  tweet = BeautifulSoup(tweet, 'html.parser').get_text()\n"
     ]
    }
   ],
   "source": [
    "# Getting the dataset ready by removing spam, unnecessary hashtags, links, whitespace and HTML\n",
    "vader_test_df = vader_datapreprocessor.preprocess( remove_spam=True,\n",
    "                                                   remove_hashtags=True, \n",
    "                                                   remove_link=True, \n",
    "                                                   remove_whitespace_html=True, \n",
    "                                                   remove_emoji=True)"
   ]
  },
  {
   "cell_type": "code",
   "execution_count": 26,
   "metadata": {},
   "outputs": [
    {
     "data": {
      "text/html": [
       "<div>\n",
       "<style scoped>\n",
       "    .dataframe tbody tr th:only-of-type {\n",
       "        vertical-align: middle;\n",
       "    }\n",
       "\n",
       "    .dataframe tbody tr th {\n",
       "        vertical-align: top;\n",
       "    }\n",
       "\n",
       "    .dataframe thead th {\n",
       "        text-align: right;\n",
       "    }\n",
       "</style>\n",
       "<table border=\"1\" class=\"dataframe\">\n",
       "  <thead>\n",
       "    <tr style=\"text-align: right;\">\n",
       "      <th></th>\n",
       "      <th>content</th>\n",
       "      <th>username</th>\n",
       "      <th>sentiment</th>\n",
       "      <th>cleaned_content</th>\n",
       "    </tr>\n",
       "  </thead>\n",
       "  <tbody>\n",
       "    <tr>\n",
       "      <th>0</th>\n",
       "      <td>#crypto $crypto #btc \\nI am Chinese crypto alp...</td>\n",
       "      <td>huahuayjy</td>\n",
       "      <td>1</td>\n",
       "      <td>#crypto $crypto #btc I am Chinese crypto alpha...</td>\n",
       "    </tr>\n",
       "    <tr>\n",
       "      <th>1</th>\n",
       "      <td>#Bitcoin would have to fall another 80% to rea...</td>\n",
       "      <td>luke_broyles</td>\n",
       "      <td>0</td>\n",
       "      <td>#Bitcoin would have to fall another 80% to rea...</td>\n",
       "    </tr>\n",
       "    <tr>\n",
       "      <th>2</th>\n",
       "      <td>#Giveaway $1000 Matic in 3Days\\n\\n🏆To win\\n1️⃣...</td>\n",
       "      <td>cryptomarsdo</td>\n",
       "      <td>1</td>\n",
       "      <td>#Giveaway $1000 Matic in 3Days To win 1️⃣ Foll...</td>\n",
       "    </tr>\n",
       "    <tr>\n",
       "      <th>3</th>\n",
       "      <td>Up or Down?\\n\\n!!! $EOS #EOS !!!\\n\\nVS\\n\\n$USD...</td>\n",
       "      <td>andreyukrnet</td>\n",
       "      <td>1</td>\n",
       "      <td>Up or Down? !!! $EOS !!! VS $USDT #USDT AND $B...</td>\n",
       "    </tr>\n",
       "    <tr>\n",
       "      <th>4</th>\n",
       "      <td>Mid Day Mix-up is LIVE! Never know who might s...</td>\n",
       "      <td>JustAman04</td>\n",
       "      <td>1</td>\n",
       "      <td>Mid Day Mix-up is LIVE! Never know who might s...</td>\n",
       "    </tr>\n",
       "    <tr>\n",
       "      <th>5</th>\n",
       "      <td>#Bitcoin Bear Market already ended! 🚨\\n\\n@rove...</td>\n",
       "      <td>BezosCrypto</td>\n",
       "      <td>1</td>\n",
       "      <td>#Bitcoin Bear Market already ended!  @rovercrc...</td>\n",
       "    </tr>\n",
       "    <tr>\n",
       "      <th>6</th>\n",
       "      <td>Spend your #Bitcoin and replace 2x</td>\n",
       "      <td>callebtc</td>\n",
       "      <td>1</td>\n",
       "      <td>Spend your #Bitcoin and replace 2x</td>\n",
       "    </tr>\n",
       "    <tr>\n",
       "      <th>7</th>\n",
       "      <td>#Hex launched &amp;amp; gained 11,900%\\n(Nomics .c...</td>\n",
       "      <td>Abhinav18755615</td>\n",
       "      <td>1</td>\n",
       "      <td>launched &amp; gained 11,900% (Nomics .com) 2 do- ...</td>\n",
       "    </tr>\n",
       "    <tr>\n",
       "      <th>8</th>\n",
       "      <td>#Bitcoin : Your Shield Against Inflation and E...</td>\n",
       "      <td>croxroadnews</td>\n",
       "      <td>1</td>\n",
       "      <td>#Bitcoin : Your Shield Against Inflation and E...</td>\n",
       "    </tr>\n",
       "    <tr>\n",
       "      <th>9</th>\n",
       "      <td>Another day, another emission reduction🔥\\n\\n$O...</td>\n",
       "      <td>OnyxDAO</td>\n",
       "      <td>1</td>\n",
       "      <td>Another day, another emission reduction $ONYX ...</td>\n",
       "    </tr>\n",
       "    <tr>\n",
       "      <th>10</th>\n",
       "      <td>Watched &amp;amp; enjoyed the video again @BossCat...</td>\n",
       "      <td>CNFT_FRIEND</td>\n",
       "      <td>1</td>\n",
       "      <td>Watched &amp; enjoyed the video again @BossCatRC  ...</td>\n",
       "    </tr>\n",
       "    <tr>\n",
       "      <th>11</th>\n",
       "      <td>Break out of the Matrix with #Bitcoin https://...</td>\n",
       "      <td>BoldBitcoin</td>\n",
       "      <td>1</td>\n",
       "      <td>Break out of the Matrix with #Bitcoin</td>\n",
       "    </tr>\n",
       "    <tr>\n",
       "      <th>12</th>\n",
       "      <td>🕰️ Patience is key when it comes to #Bitcoin a...</td>\n",
       "      <td>bitfinex</td>\n",
       "      <td>0</td>\n",
       "      <td>️ Patience is key when it comes to #Bitcoin ad...</td>\n",
       "    </tr>\n",
       "    <tr>\n",
       "      <th>13</th>\n",
       "      <td>Alpha for the weekend:\\n\\nEarly #btc STAMPS, f...</td>\n",
       "      <td>XCPinata</td>\n",
       "      <td>1</td>\n",
       "      <td>Alpha for the weekend: Early #btc STAMPS, firs...</td>\n",
       "    </tr>\n",
       "    <tr>\n",
       "      <th>14</th>\n",
       "      <td>#Bitcoin / $BTC\\n\\nResume the pump https://t.c...</td>\n",
       "      <td>CryptoKaleo</td>\n",
       "      <td>1</td>\n",
       "      <td>#Bitcoin / $BTC Resume the pump</td>\n",
       "    </tr>\n",
       "    <tr>\n",
       "      <th>15</th>\n",
       "      <td>Be ready for next hidden #gem #rwa coin next 1...</td>\n",
       "      <td>gaza_occupation</td>\n",
       "      <td>1</td>\n",
       "      <td>Be ready for next hidden coin next 12 to 16 ho...</td>\n",
       "    </tr>\n",
       "    <tr>\n",
       "      <th>16</th>\n",
       "      <td>🗓️2023 will be our year! 💹\\n\\nI believe we'll ...</td>\n",
       "      <td>100xAltcoinGems</td>\n",
       "      <td>1</td>\n",
       "      <td>️2023 will be our year!  I believe we'll see a...</td>\n",
       "    </tr>\n",
       "    <tr>\n",
       "      <th>17</th>\n",
       "      <td>JUST IN: Tron CEO Justin Sun, who is also unde...</td>\n",
       "      <td>WhaleWire</td>\n",
       "      <td>0</td>\n",
       "      <td>JUST IN: Tron CEO Justin Sun, who is also unde...</td>\n",
       "    </tr>\n",
       "    <tr>\n",
       "      <th>18</th>\n",
       "      <td>Solid first principles of $XEN \\n1️⃣ Decentral...</td>\n",
       "      <td>crypto_memories</td>\n",
       "      <td>1</td>\n",
       "      <td>Solid first principles of $XEN 1️⃣ Decentraliz...</td>\n",
       "    </tr>\n",
       "    <tr>\n",
       "      <th>19</th>\n",
       "      <td>You know you want to… 🙋‍♂️ #Bitcoin https://t....</td>\n",
       "      <td>ronin21btc</td>\n",
       "      <td>1</td>\n",
       "      <td>You know you want to… ‍️ #Bitcoin</td>\n",
       "    </tr>\n",
       "  </tbody>\n",
       "</table>\n",
       "</div>"
      ],
      "text/plain": [
       "                                              content         username  \\\n",
       "0   #crypto $crypto #btc \\nI am Chinese crypto alp...        huahuayjy   \n",
       "1   #Bitcoin would have to fall another 80% to rea...     luke_broyles   \n",
       "2   #Giveaway $1000 Matic in 3Days\\n\\n🏆To win\\n1️⃣...     cryptomarsdo   \n",
       "3   Up or Down?\\n\\n!!! $EOS #EOS !!!\\n\\nVS\\n\\n$USD...     andreyukrnet   \n",
       "4   Mid Day Mix-up is LIVE! Never know who might s...       JustAman04   \n",
       "5   #Bitcoin Bear Market already ended! 🚨\\n\\n@rove...      BezosCrypto   \n",
       "6                  Spend your #Bitcoin and replace 2x         callebtc   \n",
       "7   #Hex launched &amp; gained 11,900%\\n(Nomics .c...  Abhinav18755615   \n",
       "8   #Bitcoin : Your Shield Against Inflation and E...     croxroadnews   \n",
       "9   Another day, another emission reduction🔥\\n\\n$O...          OnyxDAO   \n",
       "10  Watched &amp; enjoyed the video again @BossCat...      CNFT_FRIEND   \n",
       "11  Break out of the Matrix with #Bitcoin https://...      BoldBitcoin   \n",
       "12  🕰️ Patience is key when it comes to #Bitcoin a...         bitfinex   \n",
       "13  Alpha for the weekend:\\n\\nEarly #btc STAMPS, f...         XCPinata   \n",
       "14  #Bitcoin / $BTC\\n\\nResume the pump https://t.c...      CryptoKaleo   \n",
       "15  Be ready for next hidden #gem #rwa coin next 1...  gaza_occupation   \n",
       "16  🗓️2023 will be our year! 💹\\n\\nI believe we'll ...  100xAltcoinGems   \n",
       "17  JUST IN: Tron CEO Justin Sun, who is also unde...        WhaleWire   \n",
       "18  Solid first principles of $XEN \\n1️⃣ Decentral...  crypto_memories   \n",
       "19  You know you want to… 🙋‍♂️ #Bitcoin https://t....       ronin21btc   \n",
       "\n",
       "    sentiment                                    cleaned_content  \n",
       "0           1  #crypto $crypto #btc I am Chinese crypto alpha...  \n",
       "1           0  #Bitcoin would have to fall another 80% to rea...  \n",
       "2           1  #Giveaway $1000 Matic in 3Days To win 1️⃣ Foll...  \n",
       "3           1  Up or Down? !!! $EOS !!! VS $USDT #USDT AND $B...  \n",
       "4           1  Mid Day Mix-up is LIVE! Never know who might s...  \n",
       "5           1  #Bitcoin Bear Market already ended!  @rovercrc...  \n",
       "6           1                 Spend your #Bitcoin and replace 2x  \n",
       "7           1  launched & gained 11,900% (Nomics .com) 2 do- ...  \n",
       "8           1  #Bitcoin : Your Shield Against Inflation and E...  \n",
       "9           1  Another day, another emission reduction $ONYX ...  \n",
       "10          1  Watched & enjoyed the video again @BossCatRC  ...  \n",
       "11          1              Break out of the Matrix with #Bitcoin  \n",
       "12          0  ️ Patience is key when it comes to #Bitcoin ad...  \n",
       "13          1  Alpha for the weekend: Early #btc STAMPS, firs...  \n",
       "14          1                    #Bitcoin / $BTC Resume the pump  \n",
       "15          1  Be ready for next hidden coin next 12 to 16 ho...  \n",
       "16          1  ️2023 will be our year!  I believe we'll see a...  \n",
       "17          0  JUST IN: Tron CEO Justin Sun, who is also unde...  \n",
       "18          1  Solid first principles of $XEN 1️⃣ Decentraliz...  \n",
       "19          1                  You know you want to… ‍️ #Bitcoin  "
      ]
     },
     "execution_count": 26,
     "metadata": {},
     "output_type": "execute_result"
    }
   ],
   "source": [
    "vader_test_df.head(20)"
   ]
  },
  {
   "cell_type": "code",
   "execution_count": 27,
   "metadata": {},
   "outputs": [
    {
     "data": {
      "text/plain": [
       "('Mid Day Mix-up is LIVE! Never know who might stop by! #BTC #ETH #BSC #GroveToken\\n\\nhttps://t.co/zV22py2sxp',\n",
       " 'Mid Day Mix-up is LIVE! Never know who might stop by! #BTC #ETH')"
      ]
     },
     "execution_count": 27,
     "metadata": {},
     "output_type": "execute_result"
    }
   ],
   "source": [
    "# look over on example to see if the tweets are cleaned as expected\n",
    "index = 4\n",
    "vader_test_df['content'].iloc[index], vader_test_df['cleaned_content'].iloc[index]"
   ]
  },
  {
   "cell_type": "markdown",
   "metadata": {},
   "source": [
    "### 2.2. Fitting the VaderSentiment on processed test data"
   ]
  },
  {
   "cell_type": "code",
   "execution_count": 28,
   "metadata": {},
   "outputs": [],
   "source": [
    "# Initialize the VADER sentiment analyzer\n",
    "analyzer = SentimentIntensityAnalyzer()\n",
    "\n",
    "# Function to apply VADER sentiment analysis and get the compound score\n",
    "def get_sentiment_score(text):\n",
    "    sentiment_dict = analyzer.polarity_scores(text)\n",
    "    return sentiment_dict['compound']  # 'compound' score is a normalized score between -1 (negative) and +1 (positive)\n",
    "\n",
    "# Apply sentiment analysis to the 'content' column and create a new column for the sentiment score\n",
    "vader_test_df['vader_sentiment'] = vader_test_df['cleaned_content'].apply(get_sentiment_score)\n",
    "\n",
    "# Classify the sentiment based on the compound score\n",
    "def classify_sentiment(score):\n",
    "    if score >= 0:\n",
    "        return True\n",
    "    else:\n",
    "        return False\n",
    "\n",
    "# Apply the classification and create a new column for the sentiment label\n",
    "vader_test_df['vader_sentiment_label'] = vader_test_df['vader_sentiment'].apply(classify_sentiment).astype(int)\n"
   ]
  },
  {
   "cell_type": "markdown",
   "metadata": {},
   "source": [
    "### 2.3. Evaluating the vaderSentiment classification performance"
   ]
  },
  {
   "cell_type": "code",
   "execution_count": 31,
   "metadata": {},
   "outputs": [],
   "source": [
    "# Initializing the performance evaluator class for vader\n",
    "vader_performance_evaluator = ClassificationEvaluator(true_labels=vader_test_df['sentiment'], predicted_labels=vader_test_df['vader_sentiment_label'])"
   ]
  },
  {
   "cell_type": "code",
   "execution_count": 32,
   "metadata": {},
   "outputs": [
    {
     "name": "stdout",
     "output_type": "stream",
     "text": [
      "Classification report:\n",
      "\n",
      "              precision    recall  f1-score   support\n",
      "\n",
      "           0       0.57      0.45      0.50        96\n",
      "           1       0.87      0.92      0.89       387\n",
      "\n",
      "    accuracy                           0.82       483\n",
      "   macro avg       0.72      0.68      0.70       483\n",
      "weighted avg       0.81      0.82      0.82       483\n",
      "\n"
     ]
    },
    {
     "data": {
      "image/png": "[encoded data removed]",
      "text/plain": [
       "<Figure size 600x300 with 2 Axes>"
      ]
     },
     "metadata": {},
     "output_type": "display_data"
    }
   ],
   "source": [
    "vader_performance_evaluator.evaluate()\n",
    "vader_performance_evaluator.plot_confusion_matrix()"
   ]
  },
  {
   "cell_type": "markdown",
   "metadata": {},
   "source": [
    "# 3. RNN "
   ]
  },
  {
   "cell_type": "markdown",
   "metadata": {},
   "source": [
    "### 3.1. Getting the dataset ready for generating the embeddings"
   ]
  },
  {
   "cell_type": "code",
   "execution_count": 141,
   "metadata": {},
   "outputs": [
    {
     "name": "stderr",
     "output_type": "stream",
     "text": [
      "C:\\Users\\Diya\\AppData\\Local\\Temp\\ipykernel_5400\\2792385140.py:99: MarkupResemblesLocatorWarning: The input looks more like a filename than markup. You may want to open this file and pass the filehandle into Beautiful Soup.\n",
      "  tweet = BeautifulSoup(tweet, 'html.parser').get_text()\n",
      "[nltk_data] Downloading package stopwords to\n",
      "[nltk_data]     C:\\Users\\Diya\\AppData\\Roaming\\nltk_data...\n",
      "[nltk_data]   Package stopwords is already up-to-date!\n",
      "C:\\Users\\Diya\\AppData\\Local\\Temp\\ipykernel_5400\\2792385140.py:99: MarkupResemblesLocatorWarning: The input looks more like a filename than markup. You may want to open this file and pass the filehandle into Beautiful Soup.\n",
      "  tweet = BeautifulSoup(tweet, 'html.parser').get_text()\n",
      "[nltk_data] Downloading package stopwords to\n",
      "[nltk_data]     C:\\Users\\Diya\\AppData\\Roaming\\nltk_data...\n",
      "[nltk_data]   Package stopwords is already up-to-date!\n"
     ]
    }
   ],
   "source": [
    "# Remove spam samples\n",
    "rnn_train_df = train_datapreprocessor.preprocess(remove_spam=True, remove_hashtags=True, remove_link=True, remove_whitespace_html=True, clean_text=True, balance_classes=False)\n",
    "rnn_test_df = test_datapreprocessor.preprocess(remove_spam=True, remove_hashtags=True, remove_link=True, remove_whitespace_html=True, clean_text=True, balance_classes=False)"
   ]
  },
  {
   "cell_type": "code",
   "execution_count": 142,
   "metadata": {},
   "outputs": [
    {
     "data": {
      "text/plain": [
       "('Using orange tells you a lot about this bullshit.  Normies looking at this thinking isn’t that how it already works 😂\\n\\nDystopian garbage from a falling empire.  Fk the fed and the fed maxis… #Bitcoin is the only way',\n",
       " 'using orange tell you a lot about this bullshit normies looking at this thinking isnt that how it already work dystopian garbage from a falling empire fk the fed and the fed maxi bitcoin is the only way',\n",
       " 0)"
      ]
     },
     "execution_count": 142,
     "metadata": {},
     "output_type": "execute_result"
    }
   ],
   "source": [
    "i = 75\n",
    "rnn_train_df['content'][i], rnn_train_df['cleaned_content'][i], rnn_train_df['sentiment'][i]"
   ]
  },
  {
   "cell_type": "markdown",
   "metadata": {},
   "source": [
    "### 3.2. Training the FastText embeddings"
   ]
  },
  {
   "cell_type": "code",
   "execution_count": 124,
   "metadata": {},
   "outputs": [
    {
     "name": "stderr",
     "output_type": "stream",
     "text": [
      "[nltk_data] Downloading package punkt to\n",
      "[nltk_data]     C:\\Users\\Diya\\AppData\\Roaming\\nltk_data...\n",
      "[nltk_data]   Package punkt is already up-to-date!\n",
      "[nltk_data] Downloading package wordnet to\n",
      "[nltk_data]     C:\\Users\\Diya\\AppData\\Roaming\\nltk_data...\n",
      "[nltk_data]   Package wordnet is already up-to-date!\n"
     ]
    },
    {
     "data": {
      "text/plain": [
       "True"
      ]
     },
     "execution_count": 124,
     "metadata": {},
     "output_type": "execute_result"
    }
   ],
   "source": [
    "nltk.download('punkt')\n",
    "nltk.download('wordnet')"
   ]
  },
  {
   "cell_type": "code",
   "execution_count": 143,
   "metadata": {},
   "outputs": [],
   "source": [
    "# Tokenize the cleaned tweets (split by spaces)\n",
    "tokenized_tweets = [tweet.split() for tweet in rnn_train_df['cleaned_content']]\n",
    "\n",
    "# Train FastText model using Gensim's implementation\n",
    "fasttext_model = FastText(sentences=tokenized_tweets, vector_size=50, window=4, min_count=1, sg=1, epochs=6)\n",
    "\n",
    "# Save the model\n",
    "#fasttext_model.save(\"fasttext_vs50.model\")\n",
    "\n",
    "# Load the model (for future use)\n",
    "#fasttext_model = FastText.load(\"fasttext_vs50.model\")"
   ]
  },
  {
   "cell_type": "code",
   "execution_count": null,
   "metadata": {},
   "outputs": [],
   "source": [
    "# Example: Get vector for a word \n",
    "# print(f\"Vector for 'bitcoin': {fasttext_model.wv['bitcoin']}\")\n",
    "\n",
    "# Example: Get most similar words\n",
    "#print(f\"Words similar to 'bitcoin': {fasttext_model.wv.most_similar('bitcoin')}\")"
   ]
  },
  {
   "cell_type": "markdown",
   "metadata": {},
   "source": [
    "### 3.3. Building and Training the RNN model"
   ]
  },
  {
   "cell_type": "code",
   "execution_count": 144,
   "metadata": {},
   "outputs": [],
   "source": [
    "# Parameters\n",
    "max_sequence_length = 40\n",
    "embedding_dim = 50\n",
    "embedding_matrix = fasttext_model.wv.vectors # Create embedding matrix\n",
    "vocab_size = len(fasttext_model.wv) #len(tokenizer.word_index)+1"
   ]
  },
  {
   "cell_type": "code",
   "execution_count": null,
   "metadata": {},
   "outputs": [],
   "source": [
    "#fasttext_model.wv.vector_size, len(tokenizer.word_counts), vocab_size, tokenizer.word_index.items()"
   ]
  },
  {
   "cell_type": "code",
   "execution_count": 145,
   "metadata": {},
   "outputs": [],
   "source": [
    "# Tokenize the tweets\n",
    "tokenizer = Tokenizer(num_words=vocab_size, oov_token='OOV')\n",
    "tokenizer.fit_on_texts(rnn_train_df['cleaned_content'])\n",
    "\n",
    "train_sequences = tokenizer.texts_to_sequences(rnn_train_df['cleaned_content']) # sequences are arrays where the each word is replaced by number which corresponds to the position of that word in the vocabulary\n",
    "padded_train_sequences = pad_sequences(train_sequences, maxlen=max_sequence_length, padding='post')\n",
    "\n",
    "test_sequences = tokenizer.texts_to_sequences(rnn_test_df['cleaned_content'])\n",
    "padded_test_sequences = pad_sequences(test_sequences, maxlen=max_sequence_length, padding='post')"
   ]
  },
  {
   "cell_type": "code",
   "execution_count": null,
   "metadata": {},
   "outputs": [],
   "source": [
    "# Dimension check\n",
    "padded_train_sequences.shape, rnn_train_df['sentiment'].shape"
   ]
  },
  {
   "cell_type": "code",
   "execution_count": 146,
   "metadata": {},
   "outputs": [],
   "source": [
    "# Split the data to training and validation\n",
    "X_train, X_val, y_train, y_val = train_test_split(padded_train_sequences, rnn_train_df['sentiment'], test_size = 0.2, random_state = 9)\n",
    "# Changing the dtype from series to array\n",
    "y_train = y_train.to_numpy()\n",
    "y_val = y_val.to_numpy()\n",
    "\n",
    "# Preparing the test data\n",
    "rnn_X_test = padded_test_sequences\n",
    "rnn_y_test = rnn_test_df['sentiment'].to_numpy()"
   ]
  },
  {
   "cell_type": "code",
   "execution_count": 129,
   "metadata": {},
   "outputs": [
    {
     "data": {
      "text/plain": [
       "{0: 2.625570776255708, 1: 0.6176154672395274}"
      ]
     },
     "execution_count": 129,
     "metadata": {},
     "output_type": "execute_result"
    }
   ],
   "source": [
    "# Calculate the class weights to handle imbalance\n",
    "class_weights = class_weight.compute_class_weight(class_weight='balanced', classes=np.unique(y_train), y=y_train)\n",
    "class_weights = dict(enumerate(class_weights))\n",
    "class_weights"
   ]
  },
  {
   "cell_type": "markdown",
   "metadata": {},
   "source": [
    "Study about kernel_regularizer, learning_rate"
   ]
  },
  {
   "cell_type": "code",
   "execution_count": 147,
   "metadata": {},
   "outputs": [],
   "source": [
    "# Build the RNN model\n",
    "def build_rnn_model(embd_dim, rnn_type='LSTM'):\n",
    "    model = Sequential()\n",
    "    model.add(Input(shape=(max_sequence_length,)))\n",
    "    model.add(Embedding(input_dim = vocab_size, \n",
    "                        output_dim = embd_dim, \n",
    "                        weights=[embedding_matrix],  \n",
    "                        trainable=False))\n",
    "    \n",
    "    if rnn_type == 'LSTM':\n",
    "        model.add(LSTM(units = 64, return_sequences = False))\n",
    "    elif rnn_type == 'GRU':\n",
    "        model.add(GRU(units = 64, return_sequences= False))\n",
    "        \n",
    "    model.add(Dropout(0.2))\n",
    "    model.add(Dense(1, activation = 'sigmoid', kernel_regularizer=l2(0.02)))\n",
    "    \n",
    "    model.compile(optimizer=Adam(learning_rate=0.0005), loss='binary_crossentropy', metrics=['accuracy'])\n",
    "    return model"
   ]
  },
  {
   "cell_type": "code",
   "execution_count": 148,
   "metadata": {},
   "outputs": [
    {
     "data": {
      "text/html": [
       "<pre style=\"white-space:pre;overflow-x:auto;line-height:normal;font-family:Menlo,'DejaVu Sans Mono',consolas,'Courier New',monospace\"><span style=\"font-weight: bold\">Model: \"sequential_10\"</span>\n",
       "</pre>\n"
      ],
      "text/plain": [
       "\u001b[1mModel: \"sequential_10\"\u001b[0m\n"
      ]
     },
     "metadata": {},
     "output_type": "display_data"
    },
    {
     "data": {
      "text/html": [
       "<pre style=\"white-space:pre;overflow-x:auto;line-height:normal;font-family:Menlo,'DejaVu Sans Mono',consolas,'Courier New',monospace\">┏━━━━━━━━━━━━━━━━━━━━━━━━━━━━━━━━━┳━━━━━━━━━━━━━━━━━━━━━━━━┳━━━━━━━━━━━━━━━┓\n",
       "┃<span style=\"font-weight: bold\"> Layer (type)                    </span>┃<span style=\"font-weight: bold\"> Output Shape           </span>┃<span style=\"font-weight: bold\">       Param # </span>┃\n",
       "┡━━━━━━━━━━━━━━━━━━━━━━━━━━━━━━━━━╇━━━━━━━━━━━━━━━━━━━━━━━━╇━━━━━━━━━━━━━━━┩\n",
       "│ embedding_10 (<span style=\"color: #0087ff; text-decoration-color: #0087ff\">Embedding</span>)        │ (<span style=\"color: #00d7ff; text-decoration-color: #00d7ff\">None</span>, <span style=\"color: #00af00; text-decoration-color: #00af00\">40</span>, <span style=\"color: #00af00; text-decoration-color: #00af00\">50</span>)         │       <span style=\"color: #00af00; text-decoration-color: #00af00\">292,600</span> │\n",
       "├─────────────────────────────────┼────────────────────────┼───────────────┤\n",
       "│ lstm_7 (<span style=\"color: #0087ff; text-decoration-color: #0087ff\">LSTM</span>)                   │ (<span style=\"color: #00d7ff; text-decoration-color: #00d7ff\">None</span>, <span style=\"color: #00af00; text-decoration-color: #00af00\">64</span>)             │        <span style=\"color: #00af00; text-decoration-color: #00af00\">29,440</span> │\n",
       "├─────────────────────────────────┼────────────────────────┼───────────────┤\n",
       "│ dropout_8 (<span style=\"color: #0087ff; text-decoration-color: #0087ff\">Dropout</span>)             │ (<span style=\"color: #00d7ff; text-decoration-color: #00d7ff\">None</span>, <span style=\"color: #00af00; text-decoration-color: #00af00\">64</span>)             │             <span style=\"color: #00af00; text-decoration-color: #00af00\">0</span> │\n",
       "├─────────────────────────────────┼────────────────────────┼───────────────┤\n",
       "│ dense_9 (<span style=\"color: #0087ff; text-decoration-color: #0087ff\">Dense</span>)                 │ (<span style=\"color: #00d7ff; text-decoration-color: #00d7ff\">None</span>, <span style=\"color: #00af00; text-decoration-color: #00af00\">1</span>)              │            <span style=\"color: #00af00; text-decoration-color: #00af00\">65</span> │\n",
       "└─────────────────────────────────┴────────────────────────┴───────────────┘\n",
       "</pre>\n"
      ],
      "text/plain": [
       "┏━━━━━━━━━━━━━━━━━━━━━━━━━━━━━━━━━┳━━━━━━━━━━━━━━━━━━━━━━━━┳━━━━━━━━━━━━━━━┓\n",
       "┃\u001b[1m \u001b[0m\u001b[1mLayer (type)                   \u001b[0m\u001b[1m \u001b[0m┃\u001b[1m \u001b[0m\u001b[1mOutput Shape          \u001b[0m\u001b[1m \u001b[0m┃\u001b[1m \u001b[0m\u001b[1m      Param #\u001b[0m\u001b[1m \u001b[0m┃\n",
       "┡━━━━━━━━━━━━━━━━━━━━━━━━━━━━━━━━━╇━━━━━━━━━━━━━━━━━━━━━━━━╇━━━━━━━━━━━━━━━┩\n",
       "│ embedding_10 (\u001b[38;5;33mEmbedding\u001b[0m)        │ (\u001b[38;5;45mNone\u001b[0m, \u001b[38;5;34m40\u001b[0m, \u001b[38;5;34m50\u001b[0m)         │       \u001b[38;5;34m292,600\u001b[0m │\n",
       "├─────────────────────────────────┼────────────────────────┼───────────────┤\n",
       "│ lstm_7 (\u001b[38;5;33mLSTM\u001b[0m)                   │ (\u001b[38;5;45mNone\u001b[0m, \u001b[38;5;34m64\u001b[0m)             │        \u001b[38;5;34m29,440\u001b[0m │\n",
       "├─────────────────────────────────┼────────────────────────┼───────────────┤\n",
       "│ dropout_8 (\u001b[38;5;33mDropout\u001b[0m)             │ (\u001b[38;5;45mNone\u001b[0m, \u001b[38;5;34m64\u001b[0m)             │             \u001b[38;5;34m0\u001b[0m │\n",
       "├─────────────────────────────────┼────────────────────────┼───────────────┤\n",
       "│ dense_9 (\u001b[38;5;33mDense\u001b[0m)                 │ (\u001b[38;5;45mNone\u001b[0m, \u001b[38;5;34m1\u001b[0m)              │            \u001b[38;5;34m65\u001b[0m │\n",
       "└─────────────────────────────────┴────────────────────────┴───────────────┘\n"
      ]
     },
     "metadata": {},
     "output_type": "display_data"
    },
    {
     "data": {
      "text/html": [
       "<pre style=\"white-space:pre;overflow-x:auto;line-height:normal;font-family:Menlo,'DejaVu Sans Mono',consolas,'Courier New',monospace\"><span style=\"font-weight: bold\"> Total params: </span><span style=\"color: #00af00; text-decoration-color: #00af00\">322,105</span> (1.23 MB)\n",
       "</pre>\n"
      ],
      "text/plain": [
       "\u001b[1m Total params: \u001b[0m\u001b[38;5;34m322,105\u001b[0m (1.23 MB)\n"
      ]
     },
     "metadata": {},
     "output_type": "display_data"
    },
    {
     "data": {
      "text/html": [
       "<pre style=\"white-space:pre;overflow-x:auto;line-height:normal;font-family:Menlo,'DejaVu Sans Mono',consolas,'Courier New',monospace\"><span style=\"font-weight: bold\"> Trainable params: </span><span style=\"color: #00af00; text-decoration-color: #00af00\">29,505</span> (115.25 KB)\n",
       "</pre>\n"
      ],
      "text/plain": [
       "\u001b[1m Trainable params: \u001b[0m\u001b[38;5;34m29,505\u001b[0m (115.25 KB)\n"
      ]
     },
     "metadata": {},
     "output_type": "display_data"
    },
    {
     "data": {
      "text/html": [
       "<pre style=\"white-space:pre;overflow-x:auto;line-height:normal;font-family:Menlo,'DejaVu Sans Mono',consolas,'Courier New',monospace\"><span style=\"font-weight: bold\"> Non-trainable params: </span><span style=\"color: #00af00; text-decoration-color: #00af00\">292,600</span> (1.12 MB)\n",
       "</pre>\n"
      ],
      "text/plain": [
       "\u001b[1m Non-trainable params: \u001b[0m\u001b[38;5;34m292,600\u001b[0m (1.12 MB)\n"
      ]
     },
     "metadata": {},
     "output_type": "display_data"
    }
   ],
   "source": [
    "# Initialize the model\n",
    "model = build_rnn_model(embd_dim=embedding_dim, rnn_type='LSTM')\n",
    "model.summary()"
   ]
  },
  {
   "cell_type": "code",
   "execution_count": 149,
   "metadata": {},
   "outputs": [
    {
     "name": "stdout",
     "output_type": "stream",
     "text": [
      "Epoch 1/15\n",
      "\u001b[1m36/36\u001b[0m \u001b[32m━━━━━━━━━━━━━━━━━━━━\u001b[0m\u001b[37m\u001b[0m \u001b[1m2s\u001b[0m 17ms/step - accuracy: 0.4096 - loss: 0.7508 - val_accuracy: 0.7986 - val_loss: 0.6988\n",
      "Epoch 2/15\n",
      "\u001b[1m36/36\u001b[0m \u001b[32m━━━━━━━━━━━━━━━━━━━━\u001b[0m\u001b[37m\u001b[0m \u001b[1m0s\u001b[0m 10ms/step - accuracy: 0.7110 - loss: 0.7290 - val_accuracy: 0.2014 - val_loss: 0.7491\n",
      "Epoch 3/15\n",
      "\u001b[1m36/36\u001b[0m \u001b[32m━━━━━━━━━━━━━━━━━━━━\u001b[0m\u001b[37m\u001b[0m \u001b[1m0s\u001b[0m 9ms/step - accuracy: 0.6242 - loss: 0.7211 - val_accuracy: 0.6181 - val_loss: 0.7258\n",
      "Epoch 4/15\n",
      "\u001b[1m36/36\u001b[0m \u001b[32m━━━━━━━━━━━━━━━━━━━━\u001b[0m\u001b[37m\u001b[0m \u001b[1m0s\u001b[0m 10ms/step - accuracy: 0.4985 - loss: 0.7007 - val_accuracy: 0.6944 - val_loss: 0.7064\n",
      "Epoch 5/15\n",
      "\u001b[1m36/36\u001b[0m \u001b[32m━━━━━━━━━━━━━━━━━━━━\u001b[0m\u001b[37m\u001b[0m \u001b[1m0s\u001b[0m 9ms/step - accuracy: 0.6707 - loss: 0.6992 - val_accuracy: 0.2014 - val_loss: 0.7399\n",
      "Epoch 6/15\n",
      "\u001b[1m36/36\u001b[0m \u001b[32m━━━━━━━━━━━━━━━━━━━━\u001b[0m\u001b[37m\u001b[0m \u001b[1m0s\u001b[0m 9ms/step - accuracy: 0.3639 - loss: 0.7352 - val_accuracy: 0.7118 - val_loss: 0.6907\n",
      "Epoch 7/15\n",
      "\u001b[1m36/36\u001b[0m \u001b[32m━━━━━━━━━━━━━━━━━━━━\u001b[0m\u001b[37m\u001b[0m \u001b[1m0s\u001b[0m 10ms/step - accuracy: 0.4575 - loss: 0.7325 - val_accuracy: 0.7535 - val_loss: 0.6749\n",
      "Epoch 8/15\n",
      "\u001b[1m36/36\u001b[0m \u001b[32m━━━━━━━━━━━━━━━━━━━━\u001b[0m\u001b[37m\u001b[0m \u001b[1m0s\u001b[0m 9ms/step - accuracy: 0.7122 - loss: 0.7161 - val_accuracy: 0.6667 - val_loss: 0.7069\n",
      "Epoch 9/15\n",
      "\u001b[1m36/36\u001b[0m \u001b[32m━━━━━━━━━━━━━━━━━━━━\u001b[0m\u001b[37m\u001b[0m \u001b[1m0s\u001b[0m 9ms/step - accuracy: 0.6227 - loss: 0.7013 - val_accuracy: 0.6736 - val_loss: 0.7014\n",
      "Epoch 10/15\n",
      "\u001b[1m36/36\u001b[0m \u001b[32m━━━━━━━━━━━━━━━━━━━━\u001b[0m\u001b[37m\u001b[0m \u001b[1m0s\u001b[0m 10ms/step - accuracy: 0.6174 - loss: 0.7056 - val_accuracy: 0.7049 - val_loss: 0.6785\n",
      "Epoch 11/15\n",
      "\u001b[1m36/36\u001b[0m \u001b[32m━━━━━━━━━━━━━━━━━━━━\u001b[0m\u001b[37m\u001b[0m \u001b[1m0s\u001b[0m 10ms/step - accuracy: 0.6762 - loss: 0.7121 - val_accuracy: 0.6875 - val_loss: 0.6918\n",
      "Epoch 12/15\n",
      "\u001b[1m36/36\u001b[0m \u001b[32m━━━━━━━━━━━━━━━━━━━━\u001b[0m\u001b[37m\u001b[0m \u001b[1m0s\u001b[0m 13ms/step - accuracy: 0.6870 - loss: 0.6861 - val_accuracy: 0.5278 - val_loss: 0.7325\n"
     ]
    }
   ],
   "source": [
    "# Train the model\n",
    "early_stopping = EarlyStopping(monitor='val_loss', patience=5, restore_best_weights=True)\n",
    "history = model.fit(X_train, y_train, epochs=15, batch_size=16, validation_data=(X_val, y_val), class_weight=class_weights, callbacks=[early_stopping])"
   ]
  },
  {
   "cell_type": "code",
   "execution_count": 150,
   "metadata": {},
   "outputs": [
    {
     "name": "stdout",
     "output_type": "stream",
     "text": [
      "\u001b[1m16/16\u001b[0m \u001b[32m━━━━━━━━━━━━━━━━━━━━\u001b[0m\u001b[37m\u001b[0m \u001b[1m0s\u001b[0m 4ms/step - accuracy: 0.7076 - loss: 0.6834\n",
      "Test Loss: 0.6812876462936401\n",
      "Test Accuracy: 0.718426525592804\n"
     ]
    }
   ],
   "source": [
    "# Evaluate the model\n",
    "loss, accuracy = model.evaluate(rnn_X_test, rnn_y_test)\n",
    "print(f'Test Loss: {loss}')\n",
    "print(f'Test Accuracy: {accuracy}')"
   ]
  },
  {
   "cell_type": "code",
   "execution_count": 154,
   "metadata": {},
   "outputs": [
    {
     "name": "stdout",
     "output_type": "stream",
     "text": [
      "\u001b[1m16/16\u001b[0m \u001b[32m━━━━━━━━━━━━━━━━━━━━\u001b[0m\u001b[37m\u001b[0m \u001b[1m0s\u001b[0m 2ms/step \n"
     ]
    }
   ],
   "source": [
    "# Predicting sentiments on new tweets\n",
    "predictions = model.predict(rnn_X_test)\n",
    "# Convert probabilities to binary predictions\n",
    "predictions_discrete = (predictions > 0.5).astype(int)  "
   ]
  },
  {
   "cell_type": "code",
   "execution_count": 160,
   "metadata": {},
   "outputs": [],
   "source": [
    "# Initializing the performance evaluator class for RNN\n",
    "RNN_performance_evaluator = PerformanceEvaluator(true_labels=rnn_y_test, predicted_labels=predictions_discrete, predicted_probs=predictions)"
   ]
  },
  {
   "cell_type": "code",
   "execution_count": 161,
   "metadata": {},
   "outputs": [
    {
     "name": "stdout",
     "output_type": "stream",
     "text": [
      "Classification report:\n",
      "\n",
      "              precision    recall  f1-score   support\n",
      "\n",
      "           0       0.30      0.32      0.31        96\n",
      "           1       0.83      0.82      0.82       387\n",
      "\n",
      "    accuracy                           0.72       483\n",
      "   macro avg       0.57      0.57      0.57       483\n",
      "weighted avg       0.72      0.72      0.72       483\n",
      "\n"
     ]
    },
    {
     "data": {
      "image/png": "[encoded data removed]",
      "text/plain": [
       "<Figure size 400x300 with 2 Axes>"
      ]
     },
     "metadata": {},
     "output_type": "display_data"
    },
    {
     "data": {
      "image/png": "[encoded data removed]",
      "text/plain": [
       "<Figure size 400x300 with 1 Axes>"
      ]
     },
     "metadata": {},
     "output_type": "display_data"
    },
    {
     "name": "stdout",
     "output_type": "stream",
     "text": [
      "AUC: 0.55\n"
     ]
    }
   ],
   "source": [
    "RNN_performance_evaluator.evaluate()\n",
    "RNN_performance_evaluator.plot_confusion_matrix()\n",
    "RNN_performance_evaluator.plot_roc_auc()"
   ]
  },
  {
   "cell_type": "code",
   "execution_count": 153,
   "metadata": {},
   "outputs": [
    {
     "name": "stdout",
     "output_type": "stream",
     "text": [
      "              precision    recall  f1-score   support\n",
      "\n",
      "           0       0.30      0.32      0.31        96\n",
      "           1       0.83      0.82      0.82       387\n",
      "\n",
      "    accuracy                           0.72       483\n",
      "   macro avg       0.57      0.57      0.57       483\n",
      "weighted avg       0.72      0.72      0.72       483\n",
      "\n"
     ]
    },
    {
     "data": {
      "text/plain": [
       "array([[ 31,  65],\n",
       "       [ 71, 316]], dtype=int64)"
      ]
     },
     "execution_count": 153,
     "metadata": {},
     "output_type": "execute_result"
    }
   ],
   "source": [
    "print(classification_report(rnn_y_test, predictions.flatten()))\n",
    "confusion_matrix(rnn_y_test, predictions.flatten())"
   ]
  },
  {
   "cell_type": "markdown",
   "metadata": {},
   "source": [
    "# 4. Pre-trained DistilBERT"
   ]
  },
  {
   "cell_type": "markdown",
   "metadata": {},
   "source": [
    "### Fine tuning DistilBERT"
   ]
  },
  {
   "cell_type": "code",
   "execution_count": 174,
   "metadata": {},
   "outputs": [],
   "source": [
    "from transformers import DistilBertTokenizer, TFDistilBertForSequenceClassification, TextClassificationPipeline"
   ]
  },
  {
   "cell_type": "code",
   "execution_count": null,
   "metadata": {},
   "outputs": [],
   "source": []
  },
  {
   "cell_type": "code",
   "execution_count": 162,
   "metadata": {},
   "outputs": [],
   "source": [
    "from transformers import pipeline"
   ]
  },
  {
   "cell_type": "code",
   "execution_count": 163,
   "metadata": {},
   "outputs": [],
   "source": [
    "classifier = pipeline('sentiment-analysis',\n",
    "                      model = 'distilbert-base-uncased-finetuned-sst-2-english',\n",
    "                      tokenizer='distilbert-base-uncased',\n",
    "                      batch_size=16)"
   ]
  },
  {
   "cell_type": "code",
   "execution_count": 165,
   "metadata": {},
   "outputs": [
    {
     "data": {
      "text/plain": [
       "[{'label': 'NEGATIVE', 'score': 0.9902846217155457}]"
      ]
     },
     "execution_count": 165,
     "metadata": {},
     "output_type": "execute_result"
    }
   ],
   "source": [
    "classifier('Bitcoin in 2 months. Be ready for upcoming rocket ralley.')"
   ]
  },
  {
   "cell_type": "code",
   "execution_count": 168,
   "metadata": {},
   "outputs": [],
   "source": [
    "def pipeline_classify(data):\n",
    "    ''' Function to run the sentiment analysis pipeline on each row of a dataset\n",
    "    and extract the scores. '''\n",
    "\n",
    "    predictions = []\n",
    "\n",
    "    for row in data:\n",
    "          classification = classifier(row, truncation=True)[0]\n",
    "          if classification['label'] == 'POSITIVE':\n",
    "              predictions.append(classification['score'])\n",
    "          else:\n",
    "              predictions.append(1-classification['score'])\n",
    "              \n",
    "    return predictions"
   ]
  },
  {
   "cell_type": "code",
   "execution_count": 189,
   "metadata": {},
   "outputs": [
    {
     "name": "stderr",
     "output_type": "stream",
     "text": [
      "C:\\Users\\Diya\\AppData\\Local\\Temp\\ipykernel_5400\\2792385140.py:99: MarkupResemblesLocatorWarning: The input looks more like a filename than markup. You may want to open this file and pass the filehandle into Beautiful Soup.\n",
      "  tweet = BeautifulSoup(tweet, 'html.parser').get_text()\n"
     ]
    }
   ],
   "source": [
    "bert_test_df = test_datapreprocessor.preprocess(remove_spam=True, remove_hashtags=True, remove_link=True, remove_whitespace_html=True, remove_emoji=False)"
   ]
  },
  {
   "cell_type": "code",
   "execution_count": 190,
   "metadata": {},
   "outputs": [
    {
     "data": {
      "text/html": [
       "<div>\n",
       "<style scoped>\n",
       "    .dataframe tbody tr th:only-of-type {\n",
       "        vertical-align: middle;\n",
       "    }\n",
       "\n",
       "    .dataframe tbody tr th {\n",
       "        vertical-align: top;\n",
       "    }\n",
       "\n",
       "    .dataframe thead th {\n",
       "        text-align: right;\n",
       "    }\n",
       "</style>\n",
       "<table border=\"1\" class=\"dataframe\">\n",
       "  <thead>\n",
       "    <tr style=\"text-align: right;\">\n",
       "      <th></th>\n",
       "      <th>content</th>\n",
       "      <th>username</th>\n",
       "      <th>sentiment</th>\n",
       "      <th>cleaned_content</th>\n",
       "    </tr>\n",
       "  </thead>\n",
       "  <tbody>\n",
       "    <tr>\n",
       "      <th>0</th>\n",
       "      <td>#crypto $crypto #btc \\nI am Chinese crypto alp...</td>\n",
       "      <td>huahuayjy</td>\n",
       "      <td>1</td>\n",
       "      <td>#crypto $crypto #btc I am Chinese crypto alpha...</td>\n",
       "    </tr>\n",
       "    <tr>\n",
       "      <th>1</th>\n",
       "      <td>#Bitcoin would have to fall another 80% to rea...</td>\n",
       "      <td>luke_broyles</td>\n",
       "      <td>0</td>\n",
       "      <td>#Bitcoin would have to fall another 80% to rea...</td>\n",
       "    </tr>\n",
       "    <tr>\n",
       "      <th>2</th>\n",
       "      <td>#Giveaway $1000 Matic in 3Days\\n\\n🏆To win\\n1️⃣...</td>\n",
       "      <td>cryptomarsdo</td>\n",
       "      <td>1</td>\n",
       "      <td>#Giveaway $1000 Matic in 3Days 🏆To win 1️⃣ Fol...</td>\n",
       "    </tr>\n",
       "    <tr>\n",
       "      <th>3</th>\n",
       "      <td>Up or Down?\\n\\n!!! $EOS #EOS !!!\\n\\nVS\\n\\n$USD...</td>\n",
       "      <td>andreyukrnet</td>\n",
       "      <td>1</td>\n",
       "      <td>Up or Down? !!! $EOS !!! VS $USDT #USDT AND $B...</td>\n",
       "    </tr>\n",
       "    <tr>\n",
       "      <th>4</th>\n",
       "      <td>Mid Day Mix-up is LIVE! Never know who might s...</td>\n",
       "      <td>JustAman04</td>\n",
       "      <td>1</td>\n",
       "      <td>Mid Day Mix-up is LIVE! Never know who might s...</td>\n",
       "    </tr>\n",
       "  </tbody>\n",
       "</table>\n",
       "</div>"
      ],
      "text/plain": [
       "                                             content      username  sentiment  \\\n",
       "0  #crypto $crypto #btc \\nI am Chinese crypto alp...     huahuayjy          1   \n",
       "1  #Bitcoin would have to fall another 80% to rea...  luke_broyles          0   \n",
       "2  #Giveaway $1000 Matic in 3Days\\n\\n🏆To win\\n1️⃣...  cryptomarsdo          1   \n",
       "3  Up or Down?\\n\\n!!! $EOS #EOS !!!\\n\\nVS\\n\\n$USD...  andreyukrnet          1   \n",
       "4  Mid Day Mix-up is LIVE! Never know who might s...    JustAman04          1   \n",
       "\n",
       "                                     cleaned_content  \n",
       "0  #crypto $crypto #btc I am Chinese crypto alpha...  \n",
       "1  #Bitcoin would have to fall another 80% to rea...  \n",
       "2  #Giveaway $1000 Matic in 3Days 🏆To win 1️⃣ Fol...  \n",
       "3  Up or Down? !!! $EOS !!! VS $USDT #USDT AND $B...  \n",
       "4  Mid Day Mix-up is LIVE! Never know who might s...  "
      ]
     },
     "execution_count": 190,
     "metadata": {},
     "output_type": "execute_result"
    }
   ],
   "source": [
    "bert_test_df.head()"
   ]
  },
  {
   "cell_type": "code",
   "execution_count": 191,
   "metadata": {},
   "outputs": [],
   "source": [
    "bert_pred = pipeline_classify(bert_test_df['cleaned_content'])"
   ]
  },
  {
   "cell_type": "code",
   "execution_count": 172,
   "metadata": {},
   "outputs": [],
   "source": [
    "from sklearn.metrics import accuracy_score, roc_auc_score, roc_curve\n",
    "\n",
    "def assess_sentiment_classifier(ytest, yhat, cutoff=0.5, plot_roc=True):\n",
    "    ''' Function to assess a classification model in terms of the AUC\n",
    "    and classification accuracy. '''\n",
    "\n",
    "    # Calculate discrete class predictions\n",
    "    yhat_discrete = np.where(pd.DataFrame(yhat)>cutoff, 1, 0)\n",
    "    # Calculate classification accuracy and AUC\n",
    "    acc = accuracy_score(ytest, yhat_discrete)\n",
    "    auc = roc_auc_score(ytest, yhat)\n",
    "    # Confusion matrix \n",
    "    cmat = confusion_matrix(ytest, yhat_discrete)\n",
    "    # ROC analysis\n",
    "    if plot_roc==True:\n",
    "        fpr, tpr, _ = roc_curve(ytest, yhat)\n",
    "        plt.plot(fpr,tpr, label=\"AUC={:.4}\".format(auc));\n",
    "        plt.plot([0, 1], [0, 1], \"r--\")\n",
    "        plt.ylabel('True positive rate')    \n",
    "        plt.xlabel('False positive rate')    \n",
    "        plt.legend(loc='lower right')\n",
    "        plt.show();\n",
    "    \n",
    "    print(\"NN test set performance:\\tAUC={:.4f}\\tAccuracy={:.4f}\".format(auc, acc))\n",
    "    print('Confusion matrix:')\n",
    "    print(cmat)"
   ]
  },
  {
   "cell_type": "code",
   "execution_count": 192,
   "metadata": {},
   "outputs": [
    {
     "data": {
      "image/png": "[encoded data removed]",
      "text/plain": [
       "<Figure size 640x480 with 1 Axes>"
      ]
     },
     "metadata": {},
     "output_type": "display_data"
    },
    {
     "name": "stdout",
     "output_type": "stream",
     "text": [
      "NN test set performance:\tAUC=0.7932\tAccuracy=0.5072\n",
      "Confusion matrix:\n",
      "[[ 92   4]\n",
      " [234 153]]\n"
     ]
    }
   ],
   "source": [
    "assess_sentiment_classifier(test_labels, bert_pred)"
   ]
  },
  {
   "cell_type": "code",
   "execution_count": null,
   "metadata": {},
   "outputs": [],
   "source": [
    "bert_pred"
   ]
  },
  {
   "cell_type": "code",
   "execution_count": null,
   "metadata": {},
   "outputs": [],
   "source": [
    "bert_train_df = train_datapreprocessor.preprocess(remove_spam=False, remove_hashtags=True, remove_link=True, remove_whitespace_html=True)\n",
    "bert_test_df = test_datapreprocessor.preprocess(remove_spam=False, remove_hashtags=True, remove_link=True, remove_whitespace_html=True)"
   ]
  },
  {
   "cell_type": "code",
   "execution_count": null,
   "metadata": {},
   "outputs": [],
   "source": [
    "bert_train_df.head()"
   ]
  },
  {
   "cell_type": "code",
   "execution_count": null,
   "metadata": {},
   "outputs": [],
   "source": [
    "# Dataset Preparation for Handling Tweet Data\n",
    "class TweetDataset:\n",
    "    def __init__(self, texts, labels=None, tokenizer=None, max_len=40):\n",
    "        self.texts = texts\n",
    "        self.labels = labels\n",
    "        self.tokenizer = tokenizer\n",
    "        self.max_len = max_len\n",
    "        \n",
    "    # Tokenize the text samples and prepares them for input into the model.\n",
    "    def encode(self):\n",
    "        encodings = self.tokenizer(\n",
    "            self.texts,\n",
    "            truncation=True,\n",
    "            padding=True,\n",
    "            max_length=self.max_len,\n",
    "            return_tensors='tf'\n",
    "        )\n",
    "        return encodings\n",
    "    \n",
    "    # Converts the tokenized texts and labels into a TensorFlow Dataset object.\n",
    "    def prepare_data(self):\n",
    "        encodings = self.encode()\n",
    "        if self.labels is not None:\n",
    "            dataset = tf.data.Dataset.from_tensor_slices((dict(encodings), self.labels))\n",
    "        else:\n",
    "            dataset = tf.data.Dataset.from_tensor_slices(dict(encodings))\n",
    "        return dataset"
   ]
  },
  {
   "cell_type": "code",
   "execution_count": null,
   "metadata": {},
   "outputs": [],
   "source": [
    "# Class to Fit Pretrained DistilBERT and Fine-Tune It\n",
    "class SentimentAnalyzer:\n",
    "    def __init__(self, model_name='distilbert-base-uncased', num_labels=2):\n",
    "        self.tokenizer = DistilBertTokenizer.from_pretrained(model_name)\n",
    "        self.model = TFDistilBertForSequenceClassification.from_pretrained(model_name, num_labels=num_labels)\n",
    "\n",
    "    def fit_pretrained(self, test_texts, batch_size=16):\n",
    "        test_dataset = TweetDataset(texts=test_texts, tokenizer=self.tokenizer).prepare_data()\n",
    "        test_dataset = test_dataset.batch(batch_size)\n",
    "\n",
    "        predictions = self.model.predict(test_dataset).logits\n",
    "        predictions = tf.argmax(predictions, axis=-1).numpy()\n",
    "\n",
    "        return predictions\n",
    "\n",
    "    def fine_tune(self, train_texts, train_labels, test_texts, test_labels, batch_size=16, epochs=3):\n",
    "        train_dataset = TweetDataset(texts=train_texts, labels=train_labels, tokenizer=self.tokenizer).prepare_data()\n",
    "        test_dataset = TweetDataset(texts=test_texts, labels=test_labels, tokenizer=self.tokenizer).prepare_data()\n",
    "\n",
    "        train_dataset = train_dataset.shuffle(len(train_texts)).batch(batch_size)\n",
    "        test_dataset = test_dataset.batch(batch_size)\n",
    "        \n",
    "        # Assuming train_labels is your array of labels\n",
    "        class_weights = class_weight.compute_class_weight('balanced', classes=np.unique(train_labels), y=train_labels)\n",
    "        class_weight_dict = dict(enumerate(class_weights))\n",
    "\n",
    "        #optimizer = Adam(learning_rate=5e-5)\n",
    "        self.model.compile(optimizer='adam', \n",
    "                           loss=tf.keras.losses.SparseCategoricalCrossentropy(from_logits=True), #self.model.compute_loss, \n",
    "                           metrics=['accuracy'])\n",
    "\n",
    "        history = self.model.fit(\n",
    "            train_dataset,\n",
    "            validation_data=test_dataset,\n",
    "            epochs=epochs,\n",
    "            batch_size=batch_size,\n",
    "            class_weight=class_weight_dict\n",
    "        )\n",
    "\n",
    "        return history"
   ]
  },
  {
   "cell_type": "code",
   "execution_count": 171,
   "metadata": {},
   "outputs": [],
   "source": [
    "#train_texts = bert_train_df['cleaned_content'].tolist()\n",
    "#train_labels = bert_train_df['sentiment'].tolist()\n",
    "test_texts = bert_test_df['cleaned_content'].tolist()\n",
    "test_labels = bert_test_df['sentiment'].tolist()"
   ]
  },
  {
   "cell_type": "code",
   "execution_count": null,
   "metadata": {},
   "outputs": [],
   "source": [
    "train_texts"
   ]
  },
  {
   "cell_type": "code",
   "execution_count": null,
   "metadata": {},
   "outputs": [],
   "source": [
    "# Initialize the SentimentAnalyzer\n",
    "sentiment_analyzer = SentimentAnalyzer()"
   ]
  },
  {
   "cell_type": "markdown",
   "metadata": {},
   "source": [
    "### Pretrained predictions\n"
   ]
  },
  {
   "cell_type": "code",
   "execution_count": null,
   "metadata": {},
   "outputs": [],
   "source": [
    "# Fit Pretrained DistilBERT on Test Dataset\n",
    "pretrained_predictions = sentiment_analyzer.fit_pretrained(test_texts=test_texts)"
   ]
  },
  {
   "cell_type": "code",
   "execution_count": null,
   "metadata": {},
   "outputs": [],
   "source": [
    "# Class to Evaluate the Model's Performance\n",
    "class PerformanceEvaluator:\n",
    "    def __init__(self):\n",
    "        pass\n",
    "\n",
    "    def evaluate(self, true_labels, predicted_labels):\n",
    "        print('Classification report:\\n')\n",
    "        return print(classification_report(true_labels, predicted_labels))\n",
    "\n",
    "    def plot_confusion_matrix(self, true_labels, predicted_labels):\n",
    "        cm = confusion_matrix(true_labels, predicted_labels)\n",
    "        plt.figure(figsize=(6, 3))\n",
    "        sns.heatmap(cm, annot=True, fmt='d', cmap='Blues', xticklabels=['Negative (0)', 'Positive(1)'], yticklabels=['Negative (0)', 'Positive(1)'])\n",
    "        plt.xlabel('Predicted Labels')\n",
    "        plt.ylabel('True Labels')\n",
    "        plt.title('Confusion Matrix')\n",
    "        plt.show()"
   ]
  },
  {
   "cell_type": "code",
   "execution_count": null,
   "metadata": {},
   "outputs": [],
   "source": [
    "# Initialize PerformanceEvaluator\n",
    "evaluator = PerformanceEvaluator(true_labels=test_labels, predicted_labels=pretrained_predictions)\n",
    "evaluator.evaluate()\n",
    "evaluator.plot_confusion_matrix()"
   ]
  },
  {
   "cell_type": "code",
   "execution_count": null,
   "metadata": {},
   "outputs": [],
   "source": [
    "np.unique(test_labels, return_counts=True)"
   ]
  },
  {
   "cell_type": "code",
   "execution_count": null,
   "metadata": {},
   "outputs": [],
   "source": [
    "np.unique(pretrained_predictions, return_counts=True)"
   ]
  },
  {
   "cell_type": "markdown",
   "metadata": {},
   "source": [
    "### Fine tuned predictions"
   ]
  },
  {
   "cell_type": "code",
   "execution_count": null,
   "metadata": {},
   "outputs": [],
   "source": [
    "# Fine tune on train dataset and apply on test dataset\n",
    "sentiment_analyzer.fine_tune(train_texts, train_labels, test_texts, test_labels)"
   ]
  },
  {
   "cell_type": "code",
   "execution_count": null,
   "metadata": {},
   "outputs": [],
   "source": [
    "fine_tuned_predictions = sentiment_analyzer.fit_pretrained(test_texts)"
   ]
  },
  {
   "cell_type": "code",
   "execution_count": null,
   "metadata": {},
   "outputs": [],
   "source": [
    "fine_tuned_predictions"
   ]
  },
  {
   "cell_type": "code",
   "execution_count": null,
   "metadata": {},
   "outputs": [],
   "source": [
    "evaluator.evaluate(true_labels=test_labels, predicted_labels=fine_tuned_predictions)\n",
    "evaluator.plot_confusion_matrix(true_labels=test_labels, predicted_labels=fine_tuned_predictions)"
   ]
  },
  {
   "cell_type": "code",
   "execution_count": null,
   "metadata": {},
   "outputs": [],
   "source": [
    "print(tf.__version__)"
   ]
  },
  {
   "cell_type": "code",
   "execution_count": null,
   "metadata": {},
   "outputs": [],
   "source": [
    "import transformers\n",
    "print(transformers.__version__)"
   ]
  },
  {
   "cell_type": "code",
   "execution_count": null,
   "metadata": {},
   "outputs": [],
   "source": []
  },
  {
   "cell_type": "code",
   "execution_count": null,
   "metadata": {},
   "outputs": [],
   "source": [
    "classifier = pipeline('sentiment-analysis')"
   ]
  },
  {
   "cell_type": "code",
   "execution_count": null,
   "metadata": {},
   "outputs": [],
   "source": [
    "res = classifier(cleaned_train_df['content'][3])"
   ]
  },
  {
   "cell_type": "code",
   "execution_count": null,
   "metadata": {},
   "outputs": [],
   "source": [
    "print(res)"
   ]
  },
  {
   "cell_type": "code",
   "execution_count": null,
   "metadata": {},
   "outputs": [],
   "source": [
    "cleaned_train_df['content'][3]"
   ]
  },
  {
   "cell_type": "code",
   "execution_count": null,
   "metadata": {},
   "outputs": [],
   "source": [
    "cleaned_train_df['sentiment'][3]"
   ]
  },
  {
   "cell_type": "code",
   "execution_count": null,
   "metadata": {},
   "outputs": [],
   "source": []
  },
  {
   "cell_type": "code",
   "execution_count": null,
   "metadata": {},
   "outputs": [],
   "source": [
    "cleaned_test_df['sentiment'].value_counts()"
   ]
  },
  {
   "cell_type": "code",
   "execution_count": null,
   "metadata": {},
   "outputs": [],
   "source": [
    "len(X_train[0])"
   ]
  },
  {
   "cell_type": "code",
   "execution_count": null,
   "metadata": {},
   "outputs": [],
   "source": [
    "invalid_roe = [index for index, row in enumerate(X_val) if len(row) > 50]\n",
    "\n",
    "print(invalid_roe)"
   ]
  },
  {
   "cell_type": "code",
   "execution_count": null,
   "metadata": {},
   "outputs": [],
   "source": [
    "# Tokenize the text\n",
    "tokenizer = Tokenizer(num_words=5000, oov_token=1)\n",
    "# The oov_token is a placeholder token that replaces any OOV words during the text_to_sequence calls.\n",
    "#This ensures that your model can handle new, unseen words gracefully.\n",
    "tokenizer.fit_on_texts(X_train)"
   ]
  },
  {
   "cell_type": "code",
   "execution_count": null,
   "metadata": {},
   "outputs": [],
   "source": [
    "# On how many tweets did we train?\n",
    "print(tokenizer.document_count)"
   ]
  },
  {
   "cell_type": "code",
   "execution_count": null,
   "metadata": {},
   "outputs": [],
   "source": [
    "# How many unique words?\n",
    "len(tokenizer.word_counts)"
   ]
  },
  {
   "cell_type": "code",
   "execution_count": null,
   "metadata": {},
   "outputs": [],
   "source": [
    "X_train_seq = tokenizer.texts_to_sequences(X_train)\n",
    "X_val_seq = tokenizer.texts_to_sequences(X_val)"
   ]
  },
  {
   "cell_type": "code",
   "execution_count": null,
   "metadata": {},
   "outputs": [],
   "source": [
    "# Pad the sequences\n",
    "max_length = 28  # Set max length for padding\n",
    "X_train_pad = pad_sequences(X_train_seq, maxlen=max_length, padding='post')\n",
    "X_val_pad = pad_sequences(X_val_seq, maxlen=max_length, padding='post')"
   ]
  },
  {
   "cell_type": "code",
   "execution_count": null,
   "metadata": {},
   "outputs": [],
   "source": [
    "import numpy as np\n",
    "\n",
    "# Create an embedding matrix\n",
    "embedding_dim = 100  # Must match the dimension of FastText vectors\n",
    "vocab_size = len(tokenizer.word_index) + 1   #it's the total number of unique words in your tokenizer’s vocabulary plus one. The +1 accounts for the padding token (index 0).\n",
    "embedding_matrix = np.zeros((vocab_size, embedding_dim)) #embedding_matrix is initialized as a matrix of zeros with shape (vocab_size, embedding_dim). \n",
    "                                                        #This matrix will eventually hold the FastText vectors for each word in your vocabulary.\n",
    "\n",
    "for word, i in tokenizer.word_index.items():\n",
    "    if word in fasttext_model.wv:\n",
    "        embedding_matrix[i] = fasttext_model.wv[word]\n",
    "\n",
    "print(f\"Embedding matrix shape: {embedding_matrix.shape}\")"
   ]
  },
  {
   "cell_type": "code",
   "execution_count": null,
   "metadata": {},
   "outputs": [],
   "source": [
    "embedding_matrix"
   ]
  },
  {
   "cell_type": "markdown",
   "metadata": {},
   "source": [
    "### RNN Model"
   ]
  },
  {
   "cell_type": "code",
   "execution_count": null,
   "metadata": {},
   "outputs": [],
   "source": [
    "#import keras as kp"
   ]
  },
  {
   "cell_type": "code",
   "execution_count": null,
   "metadata": {},
   "outputs": [],
   "source": [
    "from tensorflow.keras.models import Sequential\n",
    "from tensorflow.keras.layers import Embedding, LSTM, Dense, Dropout\n",
    "\n",
    "model = Sequential()\n",
    "model.add(Embedding(input_dim=vocab_size, \n",
    "                    output_dim=embedding_dim, \n",
    "                    weights=[embedding_matrix], \n",
    "                    input_length=max_length, \n",
    "                    trainable=False))\n",
    "model.add(LSTM(128, return_sequences=False))\n",
    "model.add(Dropout(0.5))\n",
    "model.add(Dense(1, activation='sigmoid'))\n",
    "\n",
    "model.compile(optimizer='adam', loss='binary_crossentropy', metrics=['accuracy'])\n",
    "model.summary()"
   ]
  },
  {
   "cell_type": "code",
   "execution_count": null,
   "metadata": {},
   "outputs": [],
   "source": [
    "import gensim\n",
    "import numpy as np\n",
    "import pandas as pd\n",
    "from tensorflow.keras.preprocessing.text import Tokenizer\n",
    "from keras.preprocessing.sequence import pad_sequences\n",
    "from keras.models import Sequential\n",
    "from keras.layers import Embedding, LSTM, Dense\n",
    "from sklearn.utils.class_weight import compute_class_weight\n",
    "from sklearn.model_selection import train_test_split\n",
    "\n",
    "# Assuming 'contents' is the column with the tweets and 'sentiment' is the label (0 or 1)\n",
    "texts = cleaned_train_df['cleaned_contents'].astype(str).tolist() \n",
    "labels = cleaned_train_df['sentiment'].values\n",
    "\n",
    "# Load pre-trained FastText embeddings\n",
    "fasttext.util.download_model('en', if_exists='ignore')  # Download the model if not already present\n",
    "ft = fasttext.load_model('cc.en.300.bin')  # Load the pre-trained FastText model\n",
    "\n",
    "# Tokenize the texts\n",
    "tokenizer = Tokenizer()\n",
    "tokenizer.fit_on_texts(texts)\n",
    "sequences = tokenizer.texts_to_sequences(texts)\n",
    "\n",
    "# Vocabulary size\n",
    "vocab_size = len(tokenizer.word_index) + 1\n",
    "\n",
    "# Pad sequences to ensure uniform input length\n",
    "max_sequence_length = 50  # You can adjust this based on your data\n",
    "X = pad_sequences(sequences, maxlen=max_sequence_length)\n",
    "\n",
    "# Create an embedding matrix using the FastText embeddings\n",
    "embedding_dim = 300  # FastText embeddings typically have 300 dimensions\n",
    "embedding_matrix = np.zeros((vocab_size, embedding_dim))\n",
    "\n",
    "for word, i in tokenizer.word_index.items():\n",
    "    if i < vocab_size:\n",
    "        embedding_vector = ft.get_word_vector(word)\n",
    "        if embedding_vector is not None:\n",
    "            embedding_matrix[i] = embedding_vector\n",
    "\n",
    "# Train-test split\n",
    "X_train, X_val, y_train, y_val = train_test_split(X, labels, test_size=0.2, random_state=42)\n",
    "\n",
    "# Compute class weights to handle imbalance\n",
    "class_weights = compute_class_weight('balanced', classes=np.unique(y_train), y=y_train)\n",
    "class_weights_dict = dict(enumerate(class_weights))\n",
    "\n",
    "# Build the RNN model\n",
    "model = Sequential()\n",
    "model.add(Embedding(input_dim=vocab_size, \n",
    "                    output_dim=embedding_dim, \n",
    "                    weights=[embedding_matrix], \n",
    "                    input_length=max_sequence_length, \n",
    "                    trainable=False))  # Set trainable to False to keep FastText embeddings static\n",
    "model.add(LSTM(128, dropout=0.2, recurrent_dropout=0.2))\n",
    "model.add(Dense(1, activation='sigmoid'))\n",
    "\n",
    "# Compile the model\n",
    "model.compile(loss='binary_crossentropy', optimizer='adam', metrics=['accuracy'])\n",
    "\n",
    "# Train the model\n",
    "model.fit(X_train, y_train, \n",
    "          epochs=10, \n",
    "          batch_size=32, \n",
    "          validation_data=(X_val, y_val), \n",
    "          class_weight=class_weights_dict)\n",
    "\n",
    "# Evaluate the model\n",
    "loss, accuracy = model.evaluate(X_val, y_val)\n",
    "print(f'Validation Loss: {loss}, Validation Accuracy: {accuracy}')\n",
    "\n"
   ]
  }
 ],
 "metadata": {
  "kernelspec": {
   "display_name": "DELTA",
   "language": "python",
   "name": "python3"
  },
  "language_info": {
   "codemirror_mode": {
    "name": "ipython",
    "version": 3
   },
   "file_extension": ".py",
   "mimetype": "text/x-python",
   "name": "python",
   "nbconvert_exporter": "python",
   "pygments_lexer": "ipython3",
   "version": "3.11.9"
  }
 },
 "nbformat": 4,
 "nbformat_minor": 2
}

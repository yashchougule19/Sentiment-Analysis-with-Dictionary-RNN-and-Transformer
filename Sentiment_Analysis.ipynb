{
 "cells": [
  {
   "cell_type": "code",
   "execution_count": 47,
   "metadata": {},
   "outputs": [],
   "source": [
    "#! pipreqs --encoding=utf-8 c:/Users/Diya/Documents/GItHub/DELTA_Element3"
   ]
  },
  {
   "cell_type": "code",
   "execution_count": 58,
   "metadata": {},
   "outputs": [],
   "source": [
    "# Use python 3.11.9"
   ]
  },
  {
   "cell_type": "markdown",
   "metadata": {},
   "source": [
    "## CONTENTS\n",
    "\n",
    "- **0. Import Libraries**\n",
    "\n",
    "- **1. Data Preprocessing**\n",
    "  - 1.1. Importing and understanding the data\n",
    "  - 1.2. A note on handling Class Imbalance\n",
    "\n",
    "- **2. Benchmark: vaderSentiment Dictionary**\n",
    "  - 2.1. Clean the tweets for VaderSentiment\n",
    "  - 2.2. Fit the VaderSentiment on cleaned tweets in test data\n",
    "  - 2.3. Generate report for VaderSentiment\n",
    "\n",
    "- **3. RNN**\n",
    "  - 3.1. Clean the tweets for training the embeddings\n",
    "  - 3.2. Training the FastText embeddings\n",
    "  - 3.3. Building and Training the RNN model\n",
    "  - 3.4. Classification report for RNN\n",
    "  - 3.5. Hyperparameter tuning\n",
    "\n",
    "- **4. DistilBERT**\n",
    "  - 4.1. Clean the tweets for DistilBERT\n",
    "  - 4.2. Predict with pre-trained and fine-tuned DistilBERT\n",
    "  - 4.3. Classification report for pre-trained DistilBERT\n",
    "  - 4.4. Classification report for fine-tuned DistilBERT\n",
    "\n",
    "- **5. Final Comparison**\n",
    "  - 5.1. Code (can be ignored)\n",
    "  - 5.2. Comparison Table and conclusion\n"
   ]
  },
  {
   "cell_type": "markdown",
   "metadata": {},
   "source": [
    "____________________________________________________"
   ]
  },
  {
   "cell_type": "markdown",
   "metadata": {},
   "source": [
    "## 0. Import Libraries "
   ]
  },
  {
   "cell_type": "code",
   "execution_count": 57,
   "metadata": {},
   "outputs": [
    {
     "name": "stderr",
     "output_type": "stream",
     "text": [
      "[nltk_data] Downloading package punkt to\n",
      "[nltk_data]     C:\\Users\\Diya\\AppData\\Roaming\\nltk_data...\n",
      "[nltk_data]   Package punkt is already up-to-date!\n",
      "[nltk_data] Downloading package wordnet to\n",
      "[nltk_data]     C:\\Users\\Diya\\AppData\\Roaming\\nltk_data...\n",
      "[nltk_data]   Package wordnet is already up-to-date!\n",
      "[nltk_data] Downloading package stopwords to\n",
      "[nltk_data]     C:\\Users\\Diya\\AppData\\Roaming\\nltk_data...\n",
      "[nltk_data]   Package stopwords is already up-to-date!\n"
     ]
    },
    {
     "data": {
      "text/plain": [
       "True"
      ]
     },
     "execution_count": 57,
     "metadata": {},
     "output_type": "execute_result"
    }
   ],
   "source": [
    "# For preprocessing\n",
    "import pandas as pd\n",
    "import numpy as np\n",
    "import matplotlib.pyplot as plt\n",
    "import seaborn as sns\n",
    "\n",
    "from Data_Preprocess import DataPreprocessor\n",
    "\n",
    "from Classification_Scores import ClassificationEvaluator\n",
    "\n",
    "from Data_Augmentation import DataAugmentor\n",
    "\n",
    "from DistilBERT import DistilBERTSentimentAnalyzer, run_pretrained_analysis, run_finetuned_analysis\n",
    "\n",
    "# For VaderSentiment\n",
    "from vaderSentiment.vaderSentiment import SentimentIntensityAnalyzer\n",
    "\n",
    "# For RNN model \n",
    "import nltk\n",
    "from nltk.tokenize import word_tokenize\n",
    "from gensim.models import FastText\n",
    "from sklearn.model_selection import train_test_split\n",
    "from tensorflow.keras.preprocessing.text import Tokenizer\n",
    "from tensorflow.keras.preprocessing.sequence import pad_sequences\n",
    "from tensorflow.keras.models import Sequential\n",
    "from tensorflow.keras.layers import Input, Embedding, LSTM, GRU, Dense, Dropout, Bidirectional\n",
    "from tensorflow.keras.callbacks import EarlyStopping\n",
    "from tensorflow.keras.optimizers import Adam\n",
    "from tensorflow.keras.regularizers import l2\n",
    "from sklearn.model_selection import train_test_split\n",
    "from sklearn.utils import class_weight\n",
    "from tensorflow.keras.metrics import AUC, Precision, Recall\n",
    "from keras_tuner import BayesianOptimization\n",
    "\n",
    "nltk.download('punkt')\n",
    "nltk.download('wordnet')\n",
    "nltk.download('stopwords')"
   ]
  },
  {
   "cell_type": "markdown",
   "metadata": {},
   "source": [
    "The **DataPreprocessor** class imported from **Data_Preprocess.py** is an all in one class with methods required for processing the raw tweets before feeding them to any model. Methods are defined individually to foster flexibility, allowing customization of data perprocessing steps per the requirement of specific model. At the same time, improves both, redability of the code and understandability of the underlying actions.\n",
    "\n",
    "Below is the description of each method briefing its logic and reason.\n",
    "\n",
    "1. **remove_spam_content( )**<br>\n",
    "Tweets that are highly similar in their content (similarity>80%>) are removed. Bots often generate repeated content. I went through filtered out tweets and noticed that almost all of them were irrlevent to bitcoin and crypto.\n",
    "\n",
    "2. **remove_hashtags( )**<br> \n",
    "Initially, I removed all hashtags from tweets, but later realized that complete removal is inappropriate as it causes relevant data loss. *This method retains top 30 most frequent hashtags as all of them are related to bitcoin and crypto. Noticed significant improvement in classification after its implementation.*\n",
    "\n",
    "3. **remove_link( )**<br>\n",
    "Removes link(s) from the tweet, if any.\n",
    "\n",
    "4. **remove_whitespace_html( )**<br>\n",
    "Removes all the whitespace and HTML tags from the tweet.\n",
    "\n",
    "5. **remove_emojis( )**<br>\n",
    "Similar t hashtahs, but *only expression and emotion related emojis are retained while all others removed. The retained emojis are then demojized as the add sentiment to the tweet.*\n",
    "\n",
    "6. **clean( )**<br>\n",
    "This method removes punctuations and stop words and applies lemmatization. *It's worth to note that a significant performance improvement is observed when numbers and '$' character is retained in the tweet. This makes sense as the tweets are relaed to bitcoin and many of them have its price mentioned.*\n"
   ]
  },
  {
   "cell_type": "markdown",
   "metadata": {},
   "source": [
    "The **ClassificationEvaluator** class imported from **Classification_Scores.py** is to evaluate the performance of a classification model particularly focusing on how well it handles imbalanced classes. It has methods defined are to print classification report, plot confusion matrix, ROC-AUC Curve and Precision-Recall curve.\n",
    "\n",
    "1. **evaluate( )**<br>\n",
    "Prints the classification report with precision, recall, and F1-score for each class, along with overall accuracy.\n",
    "\n",
    "2. **plot_confusion_matrix( )**<br>\n",
    "Plots a confusion matrix heatmap showing the count of true positive, true negative, false positive, and false negative predictions.\n",
    "\n",
    "3. **plot_roc_auc( )<br>**\n",
    "Plots the ROC curve and calculates the area under the curve (AUC). Helps to understand the trade-off between true positive rate (recall) and false positive rate (1-specificity) for different threshold settings.\n",
    "\n",
    "4. **plot_precision_recall_auc( )<br>**\n",
    "First of all, flips the labels to consider minority class for plotting. Calculates and plots the precision-recall curve for the minority class (negative class) and calculates the area under this curve (PR AUC)."
   ]
  },
  {
   "cell_type": "markdown",
   "metadata": {},
   "source": [
    "The **DataAugmentor** class imported from **Data_Augmentation.py** has the method 'augment_data' defined that takes the dataframe, and the number of samples as the argument, performs the augmentation of the minority class and returns the dataframe. It's implemented to tackle the problem of call imbalance.\n",
    "\n",
    "Note: Since data augmentation is computationally expensive, I worked it out in colab and saved the augmented dataset in the directory with the name 'augmented train data.csv'. From there I imported it directly in the notebook to run the train experiments on RNN and fine tuned DistilBERT.\n",
    "\n",
    "More on data augmentation and class imbalance at the end of the section 1.Data Preprocessing."
   ]
  },
  {
   "cell_type": "markdown",
   "metadata": {},
   "source": [
    "## 1. Data Preprocessing"
   ]
  },
  {
   "cell_type": "markdown",
   "metadata": {},
   "source": [
    "### 1.1. Importing and understanding the data."
   ]
  },
  {
   "cell_type": "code",
   "execution_count": 3,
   "metadata": {},
   "outputs": [],
   "source": [
    "# Importing the train and test datasets\n",
    "train_df = pd.read_parquet('btc_tweets_train.parquet.gzip').reset_index()\n",
    "test_df = pd.read_parquet('btc_tweets_test.parquet.gzip').reset_index()"
   ]
  },
  {
   "cell_type": "code",
   "execution_count": 4,
   "metadata": {},
   "outputs": [],
   "source": [
    "# Running a few checks to understand the datasets (shape, empty tweets, info and head)\n",
    "def df_info(df):\n",
    "    print(f'shape of the datafreme: {df.shape}')\n",
    "    print(f'Number of empty values: {df.isnull().sum().sum()}')\n",
    "    print(df.info())\n",
    "    print(df.head())"
   ]
  },
  {
   "cell_type": "code",
   "execution_count": 5,
   "metadata": {},
   "outputs": [
    {
     "name": "stdout",
     "output_type": "stream",
     "text": [
      "shape of the datafreme: (1500, 6)\n",
      "Number of empty values: 0\n",
      "<class 'pandas.core.frame.DataFrame'>\n",
      "RangeIndex: 1500 entries, 0 to 1499\n",
      "Data columns (total 6 columns):\n",
      " #   Column            Non-Null Count  Dtype \n",
      "---  ------            --------------  ----- \n",
      " 0   tweet ID          1500 non-null   int64 \n",
      " 1   hashtags          1500 non-null   object\n",
      " 2   content           1500 non-null   object\n",
      " 3   username          1500 non-null   object\n",
      " 4   user_displayname  1500 non-null   object\n",
      " 5   sentiment         1500 non-null   bool  \n",
      "dtypes: bool(1), int64(1), object(4)\n",
      "memory usage: 60.2+ KB\n",
      "None\n",
      "              tweet ID                                           hashtags  \\\n",
      "0  1641579121972236290  [Bitcoin, Bitcoin, BTC, Bitcoin, BTC, SHIB, HO...   \n",
      "1  1641579176171016194                 [Bitcoin, bitcoinordinals, crypto]   \n",
      "2  1641579486071390208  [BTC, SHIB, HOGE, SAITAMA, BNB, DOGE, ETH, Bab...   \n",
      "3  1641579537103302656                                              [BTC]   \n",
      "4  1641579588399804418                                          [Bitcoin]   \n",
      "\n",
      "                                             content      username  \\\n",
      "0  $Bitcoin TO $100,000 SOONER THAN YOU THINK‼️💯🙏...   BezosCrypto   \n",
      "1  Alright I have my rares. Who else is grabbing ...   spartantc81   \n",
      "2  Bitcoin (BTC) Targets Over $100,000 as This Im...   BezosCrypto   \n",
      "3  📢 Xverse Web-based pool is live:\\n\\n•Update @x...  godfred_xcuz   \n",
      "4  Yesterday, a Bitcoin projection was displayed ...   goddess81oo   \n",
      "\n",
      "  user_displayname  sentiment  \n",
      "0       SHIB Bezos       True  \n",
      "1        SpartanTC       True  \n",
      "2       SHIB Bezos       True  \n",
      "3    Algorithm.btc       True  \n",
      "4     she is lucky       True  \n"
     ]
    }
   ],
   "source": [
    "df_info(train_df)"
   ]
  },
  {
   "cell_type": "code",
   "execution_count": 6,
   "metadata": {},
   "outputs": [
    {
     "name": "stdout",
     "output_type": "stream",
     "text": [
      "shape of the datafreme: (500, 6)\n",
      "Number of empty values: 0\n",
      "<class 'pandas.core.frame.DataFrame'>\n",
      "RangeIndex: 500 entries, 0 to 499\n",
      "Data columns (total 6 columns):\n",
      " #   Column            Non-Null Count  Dtype \n",
      "---  ------            --------------  ----- \n",
      " 0   tweet ID          500 non-null    int64 \n",
      " 1   hashtags          500 non-null    object\n",
      " 2   content           500 non-null    object\n",
      " 3   username          500 non-null    object\n",
      " 4   user_displayname  500 non-null    object\n",
      " 5   sentiment         500 non-null    bool  \n",
      "dtypes: bool(1), int64(1), object(4)\n",
      "memory usage: 20.1+ KB\n",
      "None\n",
      "              tweet ID                                           hashtags  \\\n",
      "0  1641861708246552576                                      [crypto, btc]   \n",
      "1  1641861783898972167                                 [Bitcoin, Bitcoin]   \n",
      "2  1641862152532418562  [Giveaway, BTC, SolanaGiveaways, Giveaway, Air...   \n",
      "3  1641862338369183753  [EOS, USDT, BTC, crypto, Bitcoin, etherium, Bi...   \n",
      "4  1641862430434131968                        [BTC, ETH, BSC, GroveToken]   \n",
      "\n",
      "                                             content      username  \\\n",
      "0  #crypto $crypto #btc \\nI am Chinese crypto alp...     huahuayjy   \n",
      "1  #Bitcoin would have to fall another 80% to rea...  luke_broyles   \n",
      "2  #Giveaway $1000 Matic in 3Days\\n\\n🏆To win\\n1️⃣...  cryptomarsdo   \n",
      "3  Up or Down?\\n\\n!!! $EOS #EOS !!!\\n\\nVS\\n\\n$USD...  andreyukrnet   \n",
      "4  Mid Day Mix-up is LIVE! Never know who might s...    JustAman04   \n",
      "\n",
      "         user_displayname  sentiment  \n",
      "0  花花研究院 | Crypto Alpha🇨🇳       True  \n",
      "1            Luke Broyles      False  \n",
      "2             Crypto Mars       True  \n",
      "3          Andrey Ukraine       True  \n",
      "4         Justin Anderson       True  \n"
     ]
    }
   ],
   "source": [
    "df_info(test_df)"
   ]
  },
  {
   "cell_type": "code",
   "execution_count": 7,
   "metadata": {},
   "outputs": [],
   "source": [
    "# Dropping the unnecessary features.\n",
    "# Note: Although 'hashtags' feature is removed, hashtags in the tweets are differently handled in DataPreprocess class\n",
    "train_df = train_df.drop(['tweet ID', 'user_displayname', 'hashtags'], axis=1)\n",
    "test_df = test_df.drop(['tweet ID', 'user_displayname', 'hashtags'], axis=1)"
   ]
  },
  {
   "cell_type": "code",
   "execution_count": 8,
   "metadata": {},
   "outputs": [],
   "source": [
    "# Converting the sentiment labels from bool to int\n",
    "train_df['sentiment'] = train_df['sentiment'].astype(int)\n",
    "test_df['sentiment'] = test_df['sentiment'].astype(int)"
   ]
  },
  {
   "cell_type": "markdown",
   "metadata": {},
   "source": [
    "### 1.2. A note on handling Class Imbalance"
   ]
  },
  {
   "cell_type": "markdown",
   "metadata": {},
   "source": [
    "Far as I have understood the dataset and this task, 'Call Imbalance' is the problem of utmost importance that's having significant influence on right from data preprocessing to performance evaluation and fine tuning. From all the available strategieg, below are a few that I found suiting the characteristics of our dataset and followed them to pacify the impact of class imbalance\n",
    "\n",
    "1. **Using different Metrics**<br>\n",
    "Accuracy is not the best metric in the presence of class imbalance. Hence throughout the notebook, considered other metrics like precision, recall, f1-score, ROC_AUC curve and PR curve.\n",
    "\n",
    "2. **Resampling Techniques**<br>\n",
    "- **Undersampling**: not preferred since the dataset is small and undersampling will result in loss of important information.\n",
    "- **Oversampling**: In this I particularly followed 2 approaches:-<br>\n",
    "**SMOTE** was rejected since it performs best with numerical data. I still vectorized the text and tested it, but the results were not impressive. Both recall and precision for minority (negative) class worsened.<br>\n",
    "**Data Augmentation** I used a pre-trained 'bert-base-uncased' model to generate additioanl 1000 minority class examples from the existing (270approx) samples. Trained RNN model with the 'augmented train df.csv' and below is its classification report and confusion matrix. Precision and Recall even after data augmentation is well below 50% although AUC shuowed slight improvement from 0.59 to 0.61. I think the reason is extremly limited number of minority samples to regenerate from. Hence the regenerated samples significantly lacked variation needed to train the model. <br>\n",
    "![alt text](<augmented df classification perf.png>)\n",
    "![alt text](<augmented df confusion matrix.png>)\n",
    "\n",
    "3. **Using Class Weights**\n",
    "Assigned higher weight to minority class so that the model pays more attention to them while training. Good starting point is the multiple of minority class such that 'minority class samples x multiple = majority class samples'. This is the most convenent way that yielded promising results.\n",
    "\n",
    "**Colclusion:** With different in place, use of class weights was the most effective in improving the classification metrics for the negative class. Also it is the most convenient and flexible way to work with. I have followed this approach to help training with an imbalanced dataset."
   ]
  },
  {
   "cell_type": "markdown",
   "metadata": {},
   "source": [
    "In the cell below is the code to perform data augmentation. However, since it was not giving any improved results, I havent used the augmented dataset for training. The code only sits to demonstrate the implementation. A copy of augmented data sits in the directory for review, if needed."
   ]
  },
  {
   "cell_type": "code",
   "execution_count": 21,
   "metadata": {},
   "outputs": [],
   "source": [
    "# # Clean the tweets to get cleaned augmented tweets\n",
    "# augmenter_data_preprocess = DataPreprocessor(df=train_df, content_column='content')\n",
    "# augmented_train_df = augmenter_data_preprocess.preprocess(remove_spam=True, remove_link=True, remove_hashtags=True, remove_whitespace_html=True,remove_emoji=True)\n",
    "\n",
    "# # To augment the dataset\n",
    "# augmenter = DataAugmentor()\n",
    "# augmented_train_df = augmenter.augment_data(df=augmented_train_df)\n",
    "# augmented_train_df.to_csv('augmented train data.csv')"
   ]
  },
  {
   "cell_type": "markdown",
   "metadata": {},
   "source": [
    "## 2. Benchmark: vaderSentiment Dictionary"
   ]
  },
  {
   "cell_type": "markdown",
   "metadata": {},
   "source": [
    "For sentiment analysis using VADER, it's best to apply VADER to the raw, uncleaned text to leverage its strengths in handling informal language, punctuation, and emojis. However, when it comes to Links, it is best to remove them. Links are irrelevent to the sentiment and could add unnecessary noise, potentially influencing the sentiment. Also after multiple iterations, it was obseved that most of the emojis were adding no value but the noise. Hence only expression specific emojis are retained and ret all are removed. "
   ]
  },
  {
   "cell_type": "markdown",
   "metadata": {},
   "source": [
    "The preprocessing pipeline for vaderSentiment\n",
    "- Clean the tweets\n",
    "- Then apply vader sentiment dictionary on the cleaned tweets\n",
    "- Initialize the vaderSentiment analyzer\n",
    "- Apply it on the cleaned tweets and get the compound scores\n",
    "- Set the threshold to transform the compound scores to positive class (1) or negative class (0)\n",
    "- Generate classification report"
   ]
  },
  {
   "cell_type": "markdown",
   "metadata": {},
   "source": [
    "### 2.1. Clean the tweets for VaderSentiment"
   ]
  },
  {
   "cell_type": "code",
   "execution_count": 9,
   "metadata": {},
   "outputs": [],
   "source": [
    "vader_test_df = test_df.copy()\n",
    "\n",
    "# Initialize the DataPreprocessor class for vaderSentiment\n",
    "vader_test_datapreprocessor = DataPreprocessor(df=test_df, content_column='content')"
   ]
  },
  {
   "cell_type": "code",
   "execution_count": 10,
   "metadata": {},
   "outputs": [
    {
     "name": "stderr",
     "output_type": "stream",
     "text": [
      "c:\\Users\\Diya\\Documents\\GItHub\\DELTA_Element3\\Data_Preprocess.py:114: MarkupResemblesLocatorWarning: The input looks more like a filename than markup. You may want to open this file and pass the filehandle into Beautiful Soup.\n",
      "  tweet = BeautifulSoup(tweet, 'html.parser').get_text()\n"
     ]
    }
   ],
   "source": [
    "# Getting the tweets ready by removing spam, unnecessary hashtags, links, whitespace, HTML tags and emojis\n",
    "vader_test_df = vader_test_datapreprocessor.preprocess( remove_spam=True,\n",
    "                                                        remove_hashtags=True, \n",
    "                                                        remove_link=True, \n",
    "                                                        remove_whitespace_html=True, \n",
    "                                                        remove_emoji=True )"
   ]
  },
  {
   "cell_type": "code",
   "execution_count": 11,
   "metadata": {},
   "outputs": [
    {
     "data": {
      "text/html": [
       "<div>\n",
       "<style scoped>\n",
       "    .dataframe tbody tr th:only-of-type {\n",
       "        vertical-align: middle;\n",
       "    }\n",
       "\n",
       "    .dataframe tbody tr th {\n",
       "        vertical-align: top;\n",
       "    }\n",
       "\n",
       "    .dataframe thead th {\n",
       "        text-align: right;\n",
       "    }\n",
       "</style>\n",
       "<table border=\"1\" class=\"dataframe\">\n",
       "  <thead>\n",
       "    <tr style=\"text-align: right;\">\n",
       "      <th></th>\n",
       "      <th>content</th>\n",
       "      <th>username</th>\n",
       "      <th>sentiment</th>\n",
       "      <th>cleaned_content</th>\n",
       "    </tr>\n",
       "  </thead>\n",
       "  <tbody>\n",
       "    <tr>\n",
       "      <th>0</th>\n",
       "      <td>#crypto $crypto #btc \\nI am Chinese crypto alp...</td>\n",
       "      <td>huahuayjy</td>\n",
       "      <td>1</td>\n",
       "      <td>#crypto $crypto #btc I am Chinese crypto alpha...</td>\n",
       "    </tr>\n",
       "    <tr>\n",
       "      <th>1</th>\n",
       "      <td>#Bitcoin would have to fall another 80% to rea...</td>\n",
       "      <td>luke_broyles</td>\n",
       "      <td>0</td>\n",
       "      <td>#Bitcoin would have to fall another 80% to rea...</td>\n",
       "    </tr>\n",
       "    <tr>\n",
       "      <th>2</th>\n",
       "      <td>#Giveaway $1000 Matic in 3Days\\n\\n🏆To win\\n1️⃣...</td>\n",
       "      <td>cryptomarsdo</td>\n",
       "      <td>1</td>\n",
       "      <td>#Giveaway $1000 Matic in 3Days To win  keycap_...</td>\n",
       "    </tr>\n",
       "    <tr>\n",
       "      <th>3</th>\n",
       "      <td>Up or Down?\\n\\n!!! $EOS #EOS !!!\\n\\nVS\\n\\n$USD...</td>\n",
       "      <td>andreyukrnet</td>\n",
       "      <td>1</td>\n",
       "      <td>Up or Down? !!! $EOS !!! VS $USDT #USDT AND $B...</td>\n",
       "    </tr>\n",
       "    <tr>\n",
       "      <th>4</th>\n",
       "      <td>Mid Day Mix-up is LIVE! Never know who might s...</td>\n",
       "      <td>JustAman04</td>\n",
       "      <td>1</td>\n",
       "      <td>Mid Day Mix-up is LIVE! Never know who might s...</td>\n",
       "    </tr>\n",
       "  </tbody>\n",
       "</table>\n",
       "</div>"
      ],
      "text/plain": [
       "                                             content      username  sentiment  \\\n",
       "0  #crypto $crypto #btc \\nI am Chinese crypto alp...     huahuayjy          1   \n",
       "1  #Bitcoin would have to fall another 80% to rea...  luke_broyles          0   \n",
       "2  #Giveaway $1000 Matic in 3Days\\n\\n🏆To win\\n1️⃣...  cryptomarsdo          1   \n",
       "3  Up or Down?\\n\\n!!! $EOS #EOS !!!\\n\\nVS\\n\\n$USD...  andreyukrnet          1   \n",
       "4  Mid Day Mix-up is LIVE! Never know who might s...    JustAman04          1   \n",
       "\n",
       "                                     cleaned_content  \n",
       "0  #crypto $crypto #btc I am Chinese crypto alpha...  \n",
       "1  #Bitcoin would have to fall another 80% to rea...  \n",
       "2  #Giveaway $1000 Matic in 3Days To win  keycap_...  \n",
       "3  Up or Down? !!! $EOS !!! VS $USDT #USDT AND $B...  \n",
       "4  Mid Day Mix-up is LIVE! Never know who might s...  "
      ]
     },
     "execution_count": 11,
     "metadata": {},
     "output_type": "execute_result"
    }
   ],
   "source": [
    "vader_test_df.head()"
   ]
  },
  {
   "cell_type": "code",
   "execution_count": 12,
   "metadata": {},
   "outputs": [
    {
     "data": {
      "text/plain": [
       "('🚨BREAKING NEWS🚨\\n\\nTron founder Justin Sun ( @justinsuntron ) makes a bold move and offers to purchase ALL 41,500 #Bitcoin from the US Government at a 10% discount! 💸\\n\\n💰 Is this the deal of the century? \\n\\nStay tuned to find out!\\n\\n#Crypto #BTC #Investment #USA #Tron #Bitcoin… https://t.co/F39PWK76xR',\n",
       " 'BREAKING NEWS Tron founder Justin Sun ( @justinsuntron ) makes a bold move and offers to purchase ALL 41,500 #Bitcoin from the US Government at a 10% discount!   Is this the deal of the century? Stay tuned to find out! #Crypto #BTC #Bitcoin…',\n",
       " 1)"
      ]
     },
     "execution_count": 12,
     "metadata": {},
     "output_type": "execute_result"
    }
   ],
   "source": [
    "# look over an example to see if the tweets are cleaned as expected\n",
    "index = 43\n",
    "vader_test_df['content'].iloc[index], vader_test_df['cleaned_content'].iloc[index], vader_test_df['sentiment'][index]"
   ]
  },
  {
   "cell_type": "markdown",
   "metadata": {},
   "source": [
    "### 2.2. Fit the VaderSentiment on cleaned tweets in test data"
   ]
  },
  {
   "cell_type": "code",
   "execution_count": 13,
   "metadata": {},
   "outputs": [],
   "source": [
    "# Initialize the VADER sentiment analyzer\n",
    "analyzer = SentimentIntensityAnalyzer()\n",
    "\n",
    "# Function to apply VADER sentiment analysis and get the compound score\n",
    "def get_sentiment_score(text):\n",
    "    sentiment_dict = analyzer.polarity_scores(text)\n",
    "    return sentiment_dict['compound']  # 'compound' score is a normalized score between -1 (negative) and +1 (positive)\n",
    "\n",
    "# Apply sentiment analysis to the 'content' column and create a new column for the sentiment score\n",
    "vader_test_df['vader_sentiment'] = vader_test_df['cleaned_content'].apply(get_sentiment_score)\n",
    "\n",
    "# Classify the sentiment based on the compound score.\n",
    "# Threshold of -0.05 results in the best classification performance\n",
    "def classify_sentiment(score):\n",
    "    if score >= -0.05:\n",
    "        return True\n",
    "    else:\n",
    "        return False\n",
    "\n",
    "# Apply the classification and create a new column for the sentiment label\n",
    "vader_test_df['vader_sentiment_label'] = vader_test_df['vader_sentiment'].apply(classify_sentiment).astype(int)\n"
   ]
  },
  {
   "cell_type": "code",
   "execution_count": 14,
   "metadata": {},
   "outputs": [
    {
     "data": {
      "text/html": [
       "<div>\n",
       "<style scoped>\n",
       "    .dataframe tbody tr th:only-of-type {\n",
       "        vertical-align: middle;\n",
       "    }\n",
       "\n",
       "    .dataframe tbody tr th {\n",
       "        vertical-align: top;\n",
       "    }\n",
       "\n",
       "    .dataframe thead th {\n",
       "        text-align: right;\n",
       "    }\n",
       "</style>\n",
       "<table border=\"1\" class=\"dataframe\">\n",
       "  <thead>\n",
       "    <tr style=\"text-align: right;\">\n",
       "      <th></th>\n",
       "      <th>content</th>\n",
       "      <th>username</th>\n",
       "      <th>sentiment</th>\n",
       "      <th>cleaned_content</th>\n",
       "      <th>vader_sentiment</th>\n",
       "      <th>vader_sentiment_label</th>\n",
       "    </tr>\n",
       "  </thead>\n",
       "  <tbody>\n",
       "    <tr>\n",
       "      <th>0</th>\n",
       "      <td>#crypto $crypto #btc \\nI am Chinese crypto alp...</td>\n",
       "      <td>huahuayjy</td>\n",
       "      <td>1</td>\n",
       "      <td>#crypto $crypto #btc I am Chinese crypto alpha...</td>\n",
       "      <td>0.4835</td>\n",
       "      <td>1</td>\n",
       "    </tr>\n",
       "    <tr>\n",
       "      <th>1</th>\n",
       "      <td>#Bitcoin would have to fall another 80% to rea...</td>\n",
       "      <td>luke_broyles</td>\n",
       "      <td>0</td>\n",
       "      <td>#Bitcoin would have to fall another 80% to rea...</td>\n",
       "      <td>-0.8519</td>\n",
       "      <td>0</td>\n",
       "    </tr>\n",
       "    <tr>\n",
       "      <th>2</th>\n",
       "      <td>#Giveaway $1000 Matic in 3Days\\n\\n🏆To win\\n1️⃣...</td>\n",
       "      <td>cryptomarsdo</td>\n",
       "      <td>1</td>\n",
       "      <td>#Giveaway $1000 Matic in 3Days To win  keycap_...</td>\n",
       "      <td>0.8555</td>\n",
       "      <td>1</td>\n",
       "    </tr>\n",
       "    <tr>\n",
       "      <th>3</th>\n",
       "      <td>Up or Down?\\n\\n!!! $EOS #EOS !!!\\n\\nVS\\n\\n$USD...</td>\n",
       "      <td>andreyukrnet</td>\n",
       "      <td>1</td>\n",
       "      <td>Up or Down? !!! $EOS !!! VS $USDT #USDT AND $B...</td>\n",
       "      <td>0.0000</td>\n",
       "      <td>1</td>\n",
       "    </tr>\n",
       "    <tr>\n",
       "      <th>4</th>\n",
       "      <td>Mid Day Mix-up is LIVE! Never know who might s...</td>\n",
       "      <td>JustAman04</td>\n",
       "      <td>1</td>\n",
       "      <td>Mid Day Mix-up is LIVE! Never know who might s...</td>\n",
       "      <td>-0.4184</td>\n",
       "      <td>0</td>\n",
       "    </tr>\n",
       "  </tbody>\n",
       "</table>\n",
       "</div>"
      ],
      "text/plain": [
       "                                             content      username  sentiment  \\\n",
       "0  #crypto $crypto #btc \\nI am Chinese crypto alp...     huahuayjy          1   \n",
       "1  #Bitcoin would have to fall another 80% to rea...  luke_broyles          0   \n",
       "2  #Giveaway $1000 Matic in 3Days\\n\\n🏆To win\\n1️⃣...  cryptomarsdo          1   \n",
       "3  Up or Down?\\n\\n!!! $EOS #EOS !!!\\n\\nVS\\n\\n$USD...  andreyukrnet          1   \n",
       "4  Mid Day Mix-up is LIVE! Never know who might s...    JustAman04          1   \n",
       "\n",
       "                                     cleaned_content  vader_sentiment  \\\n",
       "0  #crypto $crypto #btc I am Chinese crypto alpha...           0.4835   \n",
       "1  #Bitcoin would have to fall another 80% to rea...          -0.8519   \n",
       "2  #Giveaway $1000 Matic in 3Days To win  keycap_...           0.8555   \n",
       "3  Up or Down? !!! $EOS !!! VS $USDT #USDT AND $B...           0.0000   \n",
       "4  Mid Day Mix-up is LIVE! Never know who might s...          -0.4184   \n",
       "\n",
       "   vader_sentiment_label  \n",
       "0                      1  \n",
       "1                      0  \n",
       "2                      1  \n",
       "3                      1  \n",
       "4                      0  "
      ]
     },
     "execution_count": 14,
     "metadata": {},
     "output_type": "execute_result"
    }
   ],
   "source": [
    "vader_test_df.head()"
   ]
  },
  {
   "cell_type": "markdown",
   "metadata": {},
   "source": [
    "### 2.3. Classification report for vaderSentiment"
   ]
  },
  {
   "cell_type": "code",
   "execution_count": 15,
   "metadata": {},
   "outputs": [
    {
     "name": "stdout",
     "output_type": "stream",
     "text": [
      "Classification report:\n",
      "\n",
      "              precision    recall  f1-score   support\n",
      "\n",
      "           0       0.58      0.45      0.51        96\n",
      "           1       0.87      0.92      0.89       387\n",
      "\n",
      "    accuracy                           0.83       483\n",
      "   macro avg       0.73      0.68      0.70       483\n",
      "weighted avg       0.81      0.83      0.82       483\n",
      "\n"
     ]
    },
    {
     "data": {
      "image/png": "[encoded data removed]",
      "text/plain": [
       "<Figure size 500x300 with 2 Axes>"
      ]
     },
     "metadata": {},
     "output_type": "display_data"
    }
   ],
   "source": [
    "# Initializing the classification performance evaluator class for vader\n",
    "vader_performance_evaluator = ClassificationEvaluator(true_labels = vader_test_df['sentiment'], \n",
    "                                                      predicted_labels = vader_test_df['vader_sentiment_label'])\n",
    "\n",
    "vader_performance_evaluator.evaluate()\n",
    "vader_performance_evaluator.plot_confusion_matrix()"
   ]
  },
  {
   "cell_type": "markdown",
   "metadata": {},
   "source": [
    "\n",
    "#### vaderSentiment Classification Report Interpretation\n",
    "\n",
    "- VaderSentiment is better off in identifying positive sentiments.\n",
    "- Recall 92% indicates model captures most of the positive tweets.\n",
    "- This is expected anyways, since the dataset is imbalanced."
   ]
  },
  {
   "cell_type": "markdown",
   "metadata": {},
   "source": [
    "## 3. RNN "
   ]
  },
  {
   "cell_type": "markdown",
   "metadata": {},
   "source": [
    "### 3.1. Clean the tweets for training the embeddings"
   ]
  },
  {
   "cell_type": "code",
   "execution_count": 16,
   "metadata": {},
   "outputs": [],
   "source": [
    "# Initialize the DataPreprocessor class for DistilBERT\n",
    "rnn_train_datapreprocessor = DataPreprocessor(df=train_df, content_column='content')\n",
    "rnn_test_datapreprocessor = DataPreprocessor(df=test_df, content_column='content')"
   ]
  },
  {
   "cell_type": "code",
   "execution_count": 17,
   "metadata": {},
   "outputs": [
    {
     "name": "stderr",
     "output_type": "stream",
     "text": [
      "c:\\Users\\Diya\\Documents\\GItHub\\DELTA_Element3\\Data_Preprocess.py:114: MarkupResemblesLocatorWarning: The input looks more like a filename than markup. You may want to open this file and pass the filehandle into Beautiful Soup.\n",
      "  tweet = BeautifulSoup(tweet, 'html.parser').get_text()\n",
      "[nltk_data] Downloading package stopwords to\n",
      "[nltk_data]     C:\\Users\\Diya\\AppData\\Roaming\\nltk_data...\n",
      "[nltk_data]   Package stopwords is already up-to-date!\n",
      "c:\\Users\\Diya\\Documents\\GItHub\\DELTA_Element3\\Data_Preprocess.py:114: MarkupResemblesLocatorWarning: The input looks more like a filename than markup. You may want to open this file and pass the filehandle into Beautiful Soup.\n",
      "  tweet = BeautifulSoup(tweet, 'html.parser').get_text()\n",
      "[nltk_data] Downloading package stopwords to\n",
      "[nltk_data]     C:\\Users\\Diya\\AppData\\Roaming\\nltk_data...\n",
      "[nltk_data]   Package stopwords is already up-to-date!\n"
     ]
    }
   ],
   "source": [
    "# tweets in both, train and test datsasets are cleaned\n",
    "rnn_train_df = rnn_train_datapreprocessor.preprocess(remove_spam=True, \n",
    "                                                     remove_hashtags=True, \n",
    "                                                     remove_link=True, \n",
    "                                                     remove_whitespace_html=True, \n",
    "                                                     remove_emoji=True, \n",
    "                                                     clean_text=True)\n",
    "\n",
    "rnn_test_df = rnn_test_datapreprocessor.preprocess(remove_spam=True, \n",
    "                                                   remove_hashtags=True, \n",
    "                                                   remove_link=True, \n",
    "                                                   remove_whitespace_html=True, \n",
    "                                                   remove_emoji=True, \n",
    "                                                   clean_text=True)"
   ]
  },
  {
   "cell_type": "code",
   "execution_count": 18,
   "metadata": {},
   "outputs": [
    {
     "data": {
      "text/plain": [
       "('came back home to the @PepesPixel \\n\\n#BTC #Ordinals https://t.co/Ks8JyoL4zV',\n",
       " 'came back home to the pepespixel btc ordinal',\n",
       " 1)"
      ]
     },
     "execution_count": 18,
     "metadata": {},
     "output_type": "execute_result"
    }
   ],
   "source": [
    "# Exmple to check if cleaning is successful\n",
    "i = 43\n",
    "rnn_train_df['content'][i], rnn_train_df['cleaned_content'][i], rnn_train_df['sentiment'][i]"
   ]
  },
  {
   "cell_type": "code",
   "execution_count": 19,
   "metadata": {},
   "outputs": [
    {
     "data": {
      "text/html": [
       "<div>\n",
       "<style scoped>\n",
       "    .dataframe tbody tr th:only-of-type {\n",
       "        vertical-align: middle;\n",
       "    }\n",
       "\n",
       "    .dataframe tbody tr th {\n",
       "        vertical-align: top;\n",
       "    }\n",
       "\n",
       "    .dataframe thead th {\n",
       "        text-align: right;\n",
       "    }\n",
       "</style>\n",
       "<table border=\"1\" class=\"dataframe\">\n",
       "  <thead>\n",
       "    <tr style=\"text-align: right;\">\n",
       "      <th></th>\n",
       "      <th>content</th>\n",
       "      <th>username</th>\n",
       "      <th>sentiment</th>\n",
       "      <th>cleaned_content</th>\n",
       "    </tr>\n",
       "  </thead>\n",
       "  <tbody>\n",
       "    <tr>\n",
       "      <th>0</th>\n",
       "      <td>$Bitcoin TO $100,000 SOONER THAN YOU THINK‼️💯🙏...</td>\n",
       "      <td>BezosCrypto</td>\n",
       "      <td>1</td>\n",
       "      <td>$ bitcoin to $ 100000 sooner than you think bi...</td>\n",
       "    </tr>\n",
       "    <tr>\n",
       "      <th>1</th>\n",
       "      <td>Alright I have my rares. Who else is grabbing ...</td>\n",
       "      <td>spartantc81</td>\n",
       "      <td>1</td>\n",
       "      <td>alright i have my rares who else is grabbing s...</td>\n",
       "    </tr>\n",
       "    <tr>\n",
       "      <th>2</th>\n",
       "      <td>Bitcoin (BTC) Targets Over $100,000 as This Im...</td>\n",
       "      <td>BezosCrypto</td>\n",
       "      <td>1</td>\n",
       "      <td>bitcoin btc target over $ 100000 a this import...</td>\n",
       "    </tr>\n",
       "    <tr>\n",
       "      <th>3</th>\n",
       "      <td>📢 Xverse Web-based pool is live:\\n\\n•Update @x...</td>\n",
       "      <td>godfred_xcuz</td>\n",
       "      <td>1</td>\n",
       "      <td>xverse webbased pool is live update xverseapp ...</td>\n",
       "    </tr>\n",
       "    <tr>\n",
       "      <th>4</th>\n",
       "      <td>Yesterday, a Bitcoin projection was displayed ...</td>\n",
       "      <td>goddess81oo</td>\n",
       "      <td>1</td>\n",
       "      <td>yesterday a bitcoin projection wa displayed on...</td>\n",
       "    </tr>\n",
       "  </tbody>\n",
       "</table>\n",
       "</div>"
      ],
      "text/plain": [
       "                                             content      username  sentiment  \\\n",
       "0  $Bitcoin TO $100,000 SOONER THAN YOU THINK‼️💯🙏...   BezosCrypto          1   \n",
       "1  Alright I have my rares. Who else is grabbing ...   spartantc81          1   \n",
       "2  Bitcoin (BTC) Targets Over $100,000 as This Im...   BezosCrypto          1   \n",
       "3  📢 Xverse Web-based pool is live:\\n\\n•Update @x...  godfred_xcuz          1   \n",
       "4  Yesterday, a Bitcoin projection was displayed ...   goddess81oo          1   \n",
       "\n",
       "                                     cleaned_content  \n",
       "0  $ bitcoin to $ 100000 sooner than you think bi...  \n",
       "1  alright i have my rares who else is grabbing s...  \n",
       "2  bitcoin btc target over $ 100000 a this import...  \n",
       "3  xverse webbased pool is live update xverseapp ...  \n",
       "4  yesterday a bitcoin projection wa displayed on...  "
      ]
     },
     "execution_count": 19,
     "metadata": {},
     "output_type": "execute_result"
    }
   ],
   "source": [
    "rnn_train_df.head()"
   ]
  },
  {
   "cell_type": "markdown",
   "metadata": {},
   "source": [
    "### 3.2. Training the FastText embeddings"
   ]
  },
  {
   "cell_type": "markdown",
   "metadata": {},
   "source": [
    "#### Parameter selection in the FastText training\n",
    "\n",
    "Monitored model performance changing the following parameters and finally selected those, that RNN performed best with.\n",
    "\n",
    "- vector_size=50:  Dimensionality of the word vectors (embeddings) that the model wil learn. RNN model performed best with the size of 50.\n",
    "\n",
    "- window=5: Model will look at the 5 words before and after the target word in a sentence during training.\n",
    "\n",
    "- min_count=1:Any word that appearing even once in the corpus will be included in the vocabulary. Set to 1 since the dataset is small.\n",
    "\n",
    "- sg=0: 0 means that the model will use the Continuous Bag of Words (CBOW) algorithm, where the context (surrounding words) predicts the target word.<br>\n",
    "If sg=1, the model will use the Skip-gram algorithm, where the target word predivts the context."
   ]
  },
  {
   "cell_type": "code",
   "execution_count": 21,
   "metadata": {},
   "outputs": [],
   "source": [
    "# Tokenize the cleaned tweets (split by spaces)\n",
    "tokenized_tweets = [tweet.split() for tweet in rnn_train_df['cleaned_content']]\n",
    "\n",
    "# Train FastText model using Gensim's implementation\n",
    "fasttext_model = FastText(sentences=tokenized_tweets, vector_size=50, window=5, min_count=1, sg=0, epochs=10)"
   ]
  },
  {
   "cell_type": "code",
   "execution_count": 22,
   "metadata": {},
   "outputs": [
    {
     "name": "stdout",
     "output_type": "stream",
     "text": [
      "Vector for 'bitcoin': [-8.6953783e-01  2.1090146e-02  1.0496285e+00 -2.0635866e-01\n",
      " -6.2093300e-01  1.7846389e-01 -1.2667803e+00  1.3184445e+00\n",
      " -5.2661943e-01  8.6281210e-01  8.1262904e-01 -3.4848225e-01\n",
      "  7.8967792e-01 -3.8299635e-01 -5.4301906e-01  1.3944496e+00\n",
      "  9.7562557e-01 -8.7815052e-01 -8.8862985e-01 -9.0379488e-01\n",
      " -4.3266378e-02  3.6643767e-01  4.2109713e-01  6.0068083e-01\n",
      "  2.3107678e-01  5.3038031e-01 -1.1081201e+00 -2.0109907e-01\n",
      " -1.2592362e+00  3.7833118e-01  2.1937406e+00  6.1505270e-01\n",
      " -7.1469575e-01  1.7469046e+00 -9.8060742e-02  4.7011176e-01\n",
      " -2.3498891e-01  4.9605548e-01  2.5337466e-04  8.0533326e-02\n",
      "  4.1228658e-01  9.7027481e-01 -1.2576091e-01  1.2138741e+00\n",
      "  9.4140399e-01 -1.8388922e+00  9.9145508e-01 -3.3066127e-01\n",
      " -1.8777192e-01  1.4076610e+00]\n",
      "Words similar to 'bitcoin': [('swanbitcoin', 0.9999940395355225), ('bitcoinfrogs', 0.9999939203262329), ('bitcoinbaytpa', 0.9999923706054688), ('bitcoinwith', 0.9999921917915344), ('bitcoinlivedb', 0.9999918937683105), ('pacificbitcoin', 0.9999904036521912), ('bitcoinpunks', 0.9999889135360718), ('bitcoinjunglecr', 0.9999880790710449), ('bitcoinduliban', 0.9999876022338867), ('bitcoinapes', 0.999986469745636)]\n"
     ]
    }
   ],
   "source": [
    "# Example: Get vector for a word \n",
    "print(f\"Vector for 'bitcoin': {fasttext_model.wv['bitcoin']}\")\n",
    "\n",
    "# Example: Get most similar words\n",
    "print(f\"Words similar to 'bitcoin': {fasttext_model.wv.most_similar('bitcoin')}\")"
   ]
  },
  {
   "cell_type": "markdown",
   "metadata": {},
   "source": [
    "### 3.3. Building and Training the RNN model"
   ]
  },
  {
   "cell_type": "code",
   "execution_count": 59,
   "metadata": {},
   "outputs": [
    {
     "data": {
      "image/png": "[encoded data removed]",
      "text/plain": [
       "<Figure size 600x300 with 1 Axes>"
      ]
     },
     "metadata": {},
     "output_type": "display_data"
    }
   ],
   "source": [
    "# Tweet length plot to decide on sequence length.\n",
    "tweets = rnn_train_df['cleaned_content'].to_list()\n",
    "\n",
    "# Tokenize each tweet to calculate its length\n",
    "tweet_lengths = [len(word_tokenize(tweet)) for tweet in tweets]\n",
    "\n",
    "# Plot for the tweet length distribution\n",
    "plt.figure(figsize=(6, 3))\n",
    "sns.histplot(tweet_lengths, bins=20, kde=True, color='grey')\n",
    "plt.title('Tweet Length Distribution')\n",
    "plt.xlabel('Number of Tokens')\n",
    "plt.ylabel('Frequency')\n",
    "plt.grid(axis='y', linestyle='--', alpha=0.7)\n",
    "plt.show()\n"
   ]
  },
  {
   "cell_type": "markdown",
   "metadata": {},
   "source": [
    "Sequence length of 50 farly covers all the tweets."
   ]
  },
  {
   "cell_type": "code",
   "execution_count": 24,
   "metadata": {},
   "outputs": [],
   "source": [
    "# Parameters\n",
    "max_sequence_length = 50\n",
    "embedding_dim = 50\n",
    "embedding_matrix = fasttext_model.wv.vectors # embedding matrix to be passed as trained weights in the RNN embedding layer\n",
    "vocab_size = len(fasttext_model.wv)"
   ]
  },
  {
   "cell_type": "code",
   "execution_count": 25,
   "metadata": {},
   "outputs": [],
   "source": [
    "# Tokenize the tweets\n",
    "tokenizer = Tokenizer(num_words=vocab_size, oov_token='OOV')\n",
    "tokenizer.fit_on_texts(rnn_train_df['cleaned_content'])\n",
    "\n",
    "# sequences are tweets transformed into arrays where each word is sequentially replaced by a number which corresponds to the index of that word in the vocabulary\n",
    "train_sequences = tokenizer.texts_to_sequences(rnn_train_df['cleaned_content']) \n",
    "padded_train_sequences = pad_sequences(train_sequences, maxlen=max_sequence_length, padding='post')\n",
    "\n",
    "test_sequences = tokenizer.texts_to_sequences(rnn_test_df['cleaned_content'])\n",
    "padded_test_sequences = pad_sequences(test_sequences, maxlen=max_sequence_length, padding='post')"
   ]
  },
  {
   "cell_type": "code",
   "execution_count": 26,
   "metadata": {},
   "outputs": [
    {
     "data": {
      "text/plain": [
       "array([   1,  414,  240,  511,    4, 1471,  232,   16,  440,  137, 5816,\n",
       "        142,  101,    4,  314,  142,  262, 5163,    0,    0,    0,    0,\n",
       "          0,    0,    0,    0,    0,    0,    0,    0,    0,    0,    0,\n",
       "          0,    0,    0,    0,    0,    0,    0,    0,    0,    0,    0,\n",
       "          0,    0,    0,    0,    0,    0])"
      ]
     },
     "execution_count": 26,
     "metadata": {},
     "output_type": "execute_result"
    }
   ],
   "source": [
    "# An example look over\n",
    "padded_test_sequences[89]"
   ]
  },
  {
   "cell_type": "code",
   "execution_count": 27,
   "metadata": {},
   "outputs": [
    {
     "data": {
      "text/plain": [
       "((1438, 50), (1438,))"
      ]
     },
     "execution_count": 27,
     "metadata": {},
     "output_type": "execute_result"
    }
   ],
   "source": [
    "# Dimension check\n",
    "padded_train_sequences.shape, rnn_train_df['sentiment'].shape"
   ]
  },
  {
   "cell_type": "code",
   "execution_count": 28,
   "metadata": {},
   "outputs": [],
   "source": [
    "# Split the data to training and validation\n",
    "X_train, X_val, y_train, y_val = train_test_split(padded_train_sequences, rnn_train_df['sentiment'], test_size = 0.2, random_state = 9)\n",
    "# Changing the dtype from series to array\n",
    "y_train = y_train.to_numpy()\n",
    "y_val = y_val.to_numpy()\n",
    "\n",
    "# Preparing the test data\n",
    "rnn_X_test = padded_test_sequences\n",
    "rnn_y_test = rnn_test_df['sentiment'].to_numpy()"
   ]
  },
  {
   "cell_type": "markdown",
   "metadata": {},
   "source": [
    "- Class weights are calculated to instruct model to pay more attention to the minority class. Model performs fairly same when the weight for class 0 is incrementally changed from 2.6 to 3.1 after which it over predicts minority class imparing the model performance on majority class. \n",
    "- It is finally dictated by the classification objective to decide on which class is more important. The weights will be ajusted accordingly. In this notebook, weights with which model performs the best on both the classes are retained."
   ]
  },
  {
   "cell_type": "code",
   "execution_count": 29,
   "metadata": {},
   "outputs": [
    {
     "data": {
      "text/plain": [
       "{0: 2.625570776255708, 1: 0.6176154672395274}"
      ]
     },
     "execution_count": 29,
     "metadata": {},
     "output_type": "execute_result"
    }
   ],
   "source": [
    "# Calculate the class weights to handle imbalance\n",
    "class_weights = class_weight.compute_class_weight(class_weight='balanced', classes=np.unique(y_train), y=y_train)\n",
    "class_weights = dict(enumerate(class_weights))\n",
    "class_weights"
   ]
  },
  {
   "cell_type": "markdown",
   "metadata": {},
   "source": [
    "#### RNN Model Structure and Features:"
   ]
  },
  {
   "cell_type": "markdown",
   "metadata": {},
   "source": [
    "1. Input Layer <br>\n",
    "The model expects sequences of a specific length (max_sequence_length). This length corresponds to the number of tokens in each tweet i.e. text sequence.\n",
    "\n",
    "2. Embedding Layer<br>\n",
    "Vocabulary Size (vocab_size): The total number of unique tokens.<br>\n",
    "Embedding Dimension (embd_dim): Each word or token is represented as a vector of this length. Captures semantic information.<br>\n",
    "Pretrained Weights (embedding_matrix): The embeddings are initialized with pretrained weights, such as those from FastText. By setting trainable=False, you ensure these embeddings are not updated during training, preserving the pretrained semantic knowledge.\n",
    "RNN Layer:\n",
    "\n",
    "3. RNN Type (LSTM or GRU)<br> \n",
    "The model allows for flexibility in choosing between Long Short-Term Memory (LSTM) or Gated Recurrent Unit (GRU). \n",
    "LSTM is preferred for handling long sequences, while GRU is faster and has fewer parameters.\n",
    "Units (64): The dimensionality of the output space for the RNN layer.\n",
    "Kernel Regularizer (l2(0.02)): Adds a penalty on the weights to prevent overfitting. Encourages the model to learn simpler patterns.\n",
    "Bidirectional Option:\n",
    "\n",
    "4. Bidirectional Layer (bidirectional=True/False)<br>\n",
    "If True, wraps the RNN layer in a Bidirectional wrapper, allowing the model to learn from the sequence in both forward and backward directions.\n",
    "Enhancinces the model's understanding of context.\n",
    "\n",
    "5. Dropout Layer<br>\n",
    "Dropout (0.2): Randomly sets 20% of the inputs to zero during training to prevent overfitting. Makes the model more robust.\n",
    "\n",
    "6. Output Layer<br>\n",
    "Dense Layer: A single unit with a sigmoid activation function suitable for binary classification tasks. Outputs probability for binary classification."
   ]
  },
  {
   "cell_type": "code",
   "execution_count": 30,
   "metadata": {},
   "outputs": [],
   "source": [
    "# Build the RNN model\n",
    "def build_rnn_model(embd_dim, rnn_type='LSTM', bidirectional=False):\n",
    "    model = Sequential()\n",
    "    model.add(Input(shape=(max_sequence_length,)))\n",
    "    model.add(Embedding(input_dim = vocab_size, \n",
    "                        output_dim = embd_dim, \n",
    "                        weights=[embedding_matrix],  \n",
    "                        trainable=False))\n",
    "    \n",
    "    if rnn_type == 'LSTM':\n",
    "        rnn_layer = LSTM(units = 64, return_sequences = False, kernel_regularizer=l2(0.02))\n",
    "    elif rnn_type == 'GRU':\n",
    "        rnn_layer = GRU(units = 64, return_sequences= False, kernel_regularizer=l2(0.02))\n",
    "        \n",
    "    if bidirectional:\n",
    "        model.add(Bidirectional(rnn_layer))\n",
    "    else:\n",
    "        model.add(rnn_layer)\n",
    "        \n",
    "    model.add(Dropout(0.2))\n",
    "    model.add(Dense(1, activation = 'sigmoid', kernel_regularizer=l2(0.02)))\n",
    "    \n",
    "    model.compile(optimizer=Adam(learning_rate=0.000196), loss='binary_crossentropy', metrics=['accuracy']) #, ['accuracy'], Precision(), , AUC(), Recall())\n",
    "    return model"
   ]
  },
  {
   "cell_type": "code",
   "execution_count": 31,
   "metadata": {},
   "outputs": [
    {
     "data": {
      "text/html": [
       "<pre style=\"white-space:pre;overflow-x:auto;line-height:normal;font-family:Menlo,'DejaVu Sans Mono',consolas,'Courier New',monospace\"><span style=\"font-weight: bold\">Model: \"sequential\"</span>\n",
       "</pre>\n"
      ],
      "text/plain": [
       "\u001b[1mModel: \"sequential\"\u001b[0m\n"
      ]
     },
     "metadata": {},
     "output_type": "display_data"
    },
    {
     "data": {
      "text/html": [
       "<pre style=\"white-space:pre;overflow-x:auto;line-height:normal;font-family:Menlo,'DejaVu Sans Mono',consolas,'Courier New',monospace\">┏━━━━━━━━━━━━━━━━━━━━━━━━━━━━━━━━━┳━━━━━━━━━━━━━━━━━━━━━━━━┳━━━━━━━━━━━━━━━┓\n",
       "┃<span style=\"font-weight: bold\"> Layer (type)                    </span>┃<span style=\"font-weight: bold\"> Output Shape           </span>┃<span style=\"font-weight: bold\">       Param # </span>┃\n",
       "┡━━━━━━━━━━━━━━━━━━━━━━━━━━━━━━━━━╇━━━━━━━━━━━━━━━━━━━━━━━━╇━━━━━━━━━━━━━━━┩\n",
       "│ embedding (<span style=\"color: #0087ff; text-decoration-color: #0087ff\">Embedding</span>)           │ (<span style=\"color: #00d7ff; text-decoration-color: #00d7ff\">None</span>, <span style=\"color: #00af00; text-decoration-color: #00af00\">50</span>, <span style=\"color: #00af00; text-decoration-color: #00af00\">50</span>)         │       <span style=\"color: #00af00; text-decoration-color: #00af00\">294,400</span> │\n",
       "├─────────────────────────────────┼────────────────────────┼───────────────┤\n",
       "│ lstm (<span style=\"color: #0087ff; text-decoration-color: #0087ff\">LSTM</span>)                     │ (<span style=\"color: #00d7ff; text-decoration-color: #00d7ff\">None</span>, <span style=\"color: #00af00; text-decoration-color: #00af00\">64</span>)             │        <span style=\"color: #00af00; text-decoration-color: #00af00\">29,440</span> │\n",
       "├─────────────────────────────────┼────────────────────────┼───────────────┤\n",
       "│ dropout (<span style=\"color: #0087ff; text-decoration-color: #0087ff\">Dropout</span>)               │ (<span style=\"color: #00d7ff; text-decoration-color: #00d7ff\">None</span>, <span style=\"color: #00af00; text-decoration-color: #00af00\">64</span>)             │             <span style=\"color: #00af00; text-decoration-color: #00af00\">0</span> │\n",
       "├─────────────────────────────────┼────────────────────────┼───────────────┤\n",
       "│ dense (<span style=\"color: #0087ff; text-decoration-color: #0087ff\">Dense</span>)                   │ (<span style=\"color: #00d7ff; text-decoration-color: #00d7ff\">None</span>, <span style=\"color: #00af00; text-decoration-color: #00af00\">1</span>)              │            <span style=\"color: #00af00; text-decoration-color: #00af00\">65</span> │\n",
       "└─────────────────────────────────┴────────────────────────┴───────────────┘\n",
       "</pre>\n"
      ],
      "text/plain": [
       "┏━━━━━━━━━━━━━━━━━━━━━━━━━━━━━━━━━┳━━━━━━━━━━━━━━━━━━━━━━━━┳━━━━━━━━━━━━━━━┓\n",
       "┃\u001b[1m \u001b[0m\u001b[1mLayer (type)                   \u001b[0m\u001b[1m \u001b[0m┃\u001b[1m \u001b[0m\u001b[1mOutput Shape          \u001b[0m\u001b[1m \u001b[0m┃\u001b[1m \u001b[0m\u001b[1m      Param #\u001b[0m\u001b[1m \u001b[0m┃\n",
       "┡━━━━━━━━━━━━━━━━━━━━━━━━━━━━━━━━━╇━━━━━━━━━━━━━━━━━━━━━━━━╇━━━━━━━━━━━━━━━┩\n",
       "│ embedding (\u001b[38;5;33mEmbedding\u001b[0m)           │ (\u001b[38;5;45mNone\u001b[0m, \u001b[38;5;34m50\u001b[0m, \u001b[38;5;34m50\u001b[0m)         │       \u001b[38;5;34m294,400\u001b[0m │\n",
       "├─────────────────────────────────┼────────────────────────┼───────────────┤\n",
       "│ lstm (\u001b[38;5;33mLSTM\u001b[0m)                     │ (\u001b[38;5;45mNone\u001b[0m, \u001b[38;5;34m64\u001b[0m)             │        \u001b[38;5;34m29,440\u001b[0m │\n",
       "├─────────────────────────────────┼────────────────────────┼───────────────┤\n",
       "│ dropout (\u001b[38;5;33mDropout\u001b[0m)               │ (\u001b[38;5;45mNone\u001b[0m, \u001b[38;5;34m64\u001b[0m)             │             \u001b[38;5;34m0\u001b[0m │\n",
       "├─────────────────────────────────┼────────────────────────┼───────────────┤\n",
       "│ dense (\u001b[38;5;33mDense\u001b[0m)                   │ (\u001b[38;5;45mNone\u001b[0m, \u001b[38;5;34m1\u001b[0m)              │            \u001b[38;5;34m65\u001b[0m │\n",
       "└─────────────────────────────────┴────────────────────────┴───────────────┘\n"
      ]
     },
     "metadata": {},
     "output_type": "display_data"
    },
    {
     "data": {
      "text/html": [
       "<pre style=\"white-space:pre;overflow-x:auto;line-height:normal;font-family:Menlo,'DejaVu Sans Mono',consolas,'Courier New',monospace\"><span style=\"font-weight: bold\"> Total params: </span><span style=\"color: #00af00; text-decoration-color: #00af00\">323,905</span> (1.24 MB)\n",
       "</pre>\n"
      ],
      "text/plain": [
       "\u001b[1m Total params: \u001b[0m\u001b[38;5;34m323,905\u001b[0m (1.24 MB)\n"
      ]
     },
     "metadata": {},
     "output_type": "display_data"
    },
    {
     "data": {
      "text/html": [
       "<pre style=\"white-space:pre;overflow-x:auto;line-height:normal;font-family:Menlo,'DejaVu Sans Mono',consolas,'Courier New',monospace\"><span style=\"font-weight: bold\"> Trainable params: </span><span style=\"color: #00af00; text-decoration-color: #00af00\">29,505</span> (115.25 KB)\n",
       "</pre>\n"
      ],
      "text/plain": [
       "\u001b[1m Trainable params: \u001b[0m\u001b[38;5;34m29,505\u001b[0m (115.25 KB)\n"
      ]
     },
     "metadata": {},
     "output_type": "display_data"
    },
    {
     "data": {
      "text/html": [
       "<pre style=\"white-space:pre;overflow-x:auto;line-height:normal;font-family:Menlo,'DejaVu Sans Mono',consolas,'Courier New',monospace\"><span style=\"font-weight: bold\"> Non-trainable params: </span><span style=\"color: #00af00; text-decoration-color: #00af00\">294,400</span> (1.12 MB)\n",
       "</pre>\n"
      ],
      "text/plain": [
       "\u001b[1m Non-trainable params: \u001b[0m\u001b[38;5;34m294,400\u001b[0m (1.12 MB)\n"
      ]
     },
     "metadata": {},
     "output_type": "display_data"
    }
   ],
   "source": [
    "# Initialize the model\n",
    "model = build_rnn_model(embd_dim=embedding_dim, rnn_type='LSTM', bidirectional=False)\n",
    "model.summary()"
   ]
  },
  {
   "cell_type": "code",
   "execution_count": 32,
   "metadata": {},
   "outputs": [
    {
     "name": "stdout",
     "output_type": "stream",
     "text": [
      "Epoch 1/40\n",
      "\u001b[1m96/96\u001b[0m \u001b[32m━━━━━━━━━━━━━━━━━━━━\u001b[0m\u001b[37m\u001b[0m \u001b[1m4s\u001b[0m 20ms/step - accuracy: 0.4360 - loss: 2.3141 - val_accuracy: 0.7986 - val_loss: 1.9445\n",
      "Epoch 2/40\n",
      "\u001b[1m96/96\u001b[0m \u001b[32m━━━━━━━━━━━━━━━━━━━━\u001b[0m\u001b[37m\u001b[0m \u001b[1m2s\u001b[0m 16ms/step - accuracy: 0.6519 - loss: 1.8896 - val_accuracy: 0.7049 - val_loss: 1.6891\n",
      "Epoch 3/40\n",
      "\u001b[1m96/96\u001b[0m \u001b[32m━━━━━━━━━━━━━━━━━━━━\u001b[0m\u001b[37m\u001b[0m \u001b[1m2s\u001b[0m 16ms/step - accuracy: 0.4602 - loss: 1.6400 - val_accuracy: 0.6181 - val_loss: 1.4708\n",
      "Epoch 4/40\n",
      "\u001b[1m96/96\u001b[0m \u001b[32m━━━━━━━━━━━━━━━━━━━━\u001b[0m\u001b[37m\u001b[0m \u001b[1m2s\u001b[0m 16ms/step - accuracy: 0.5396 - loss: 1.4129 - val_accuracy: 0.2014 - val_loss: 1.3421\n",
      "Epoch 5/40\n",
      "\u001b[1m96/96\u001b[0m \u001b[32m━━━━━━━━━━━━━━━━━━━━\u001b[0m\u001b[37m\u001b[0m \u001b[1m2s\u001b[0m 17ms/step - accuracy: 0.5243 - loss: 1.2467 - val_accuracy: 0.2014 - val_loss: 1.3187\n",
      "Epoch 6/40\n",
      "\u001b[1m96/96\u001b[0m \u001b[32m━━━━━━━━━━━━━━━━━━━━\u001b[0m\u001b[37m\u001b[0m \u001b[1m2s\u001b[0m 16ms/step - accuracy: 0.4131 - loss: 1.1647 - val_accuracy: 0.2014 - val_loss: 1.1729\n",
      "Epoch 7/40\n",
      "\u001b[1m96/96\u001b[0m \u001b[32m━━━━━━━━━━━━━━━━━━━━\u001b[0m\u001b[37m\u001b[0m \u001b[1m2s\u001b[0m 17ms/step - accuracy: 0.3397 - loss: 1.1196 - val_accuracy: 0.7917 - val_loss: 0.9782\n",
      "Epoch 8/40\n",
      "\u001b[1m96/96\u001b[0m \u001b[32m━━━━━━━━━━━━━━━━━━━━\u001b[0m\u001b[37m\u001b[0m \u001b[1m2s\u001b[0m 16ms/step - accuracy: 0.6115 - loss: 1.0111 - val_accuracy: 0.2014 - val_loss: 1.0468\n",
      "Epoch 9/40\n",
      "\u001b[1m96/96\u001b[0m \u001b[32m━━━━━━━━━━━━━━━━━━━━\u001b[0m\u001b[37m\u001b[0m \u001b[1m2s\u001b[0m 15ms/step - accuracy: 0.3493 - loss: 0.9735 - val_accuracy: 0.7847 - val_loss: 0.9040\n",
      "Epoch 10/40\n",
      "\u001b[1m96/96\u001b[0m \u001b[32m━━━━━━━━━━━━━━━━━━━━\u001b[0m\u001b[37m\u001b[0m \u001b[1m2s\u001b[0m 16ms/step - accuracy: 0.6561 - loss: 0.9056 - val_accuracy: 0.7882 - val_loss: 0.8571\n",
      "Epoch 11/40\n",
      "\u001b[1m96/96\u001b[0m \u001b[32m━━━━━━━━━━━━━━━━━━━━\u001b[0m\u001b[37m\u001b[0m \u001b[1m2s\u001b[0m 16ms/step - accuracy: 0.6613 - loss: 0.8742 - val_accuracy: 0.2014 - val_loss: 0.8924\n",
      "Epoch 12/40\n",
      "\u001b[1m96/96\u001b[0m \u001b[32m━━━━━━━━━━━━━━━━━━━━\u001b[0m\u001b[37m\u001b[0m \u001b[1m2s\u001b[0m 16ms/step - accuracy: 0.4034 - loss: 0.8794 - val_accuracy: 0.7917 - val_loss: 0.8120\n",
      "Epoch 13/40\n",
      "\u001b[1m96/96\u001b[0m \u001b[32m━━━━━━━━━━━━━━━━━━━━\u001b[0m\u001b[37m\u001b[0m \u001b[1m2s\u001b[0m 16ms/step - accuracy: 0.6056 - loss: 0.8573 - val_accuracy: 0.7917 - val_loss: 0.7901\n",
      "Epoch 14/40\n",
      "\u001b[1m96/96\u001b[0m \u001b[32m━━━━━━━━━━━━━━━━━━━━\u001b[0m\u001b[37m\u001b[0m \u001b[1m2s\u001b[0m 16ms/step - accuracy: 0.5573 - loss: 0.8531 - val_accuracy: 0.7326 - val_loss: 0.8156\n",
      "Epoch 15/40\n",
      "\u001b[1m96/96\u001b[0m \u001b[32m━━━━━━━━━━━━━━━━━━━━\u001b[0m\u001b[37m\u001b[0m \u001b[1m2s\u001b[0m 17ms/step - accuracy: 0.4799 - loss: 0.8583 - val_accuracy: 0.7708 - val_loss: 0.7780\n",
      "Epoch 16/40\n",
      "\u001b[1m96/96\u001b[0m \u001b[32m━━━━━━━━━━━━━━━━━━━━\u001b[0m\u001b[37m\u001b[0m \u001b[1m2s\u001b[0m 16ms/step - accuracy: 0.6098 - loss: 0.8147 - val_accuracy: 0.7188 - val_loss: 0.8065\n",
      "Epoch 17/40\n",
      "\u001b[1m96/96\u001b[0m \u001b[32m━━━━━━━━━━━━━━━━━━━━\u001b[0m\u001b[37m\u001b[0m \u001b[1m2s\u001b[0m 16ms/step - accuracy: 0.5844 - loss: 0.7903 - val_accuracy: 0.4549 - val_loss: 0.8149\n",
      "Epoch 18/40\n",
      "\u001b[1m96/96\u001b[0m \u001b[32m━━━━━━━━━━━━━━━━━━━━\u001b[0m\u001b[37m\u001b[0m \u001b[1m2s\u001b[0m 16ms/step - accuracy: 0.4517 - loss: 0.8066 - val_accuracy: 0.7743 - val_loss: 0.7545\n",
      "Epoch 19/40\n",
      "\u001b[1m96/96\u001b[0m \u001b[32m━━━━━━━━━━━━━━━━━━━━\u001b[0m\u001b[37m\u001b[0m \u001b[1m2s\u001b[0m 16ms/step - accuracy: 0.6053 - loss: 0.7792 - val_accuracy: 0.6910 - val_loss: 0.7831\n",
      "Epoch 20/40\n",
      "\u001b[1m96/96\u001b[0m \u001b[32m━━━━━━━━━━━━━━━━━━━━\u001b[0m\u001b[37m\u001b[0m \u001b[1m2s\u001b[0m 15ms/step - accuracy: 0.5363 - loss: 0.7790 - val_accuracy: 0.5729 - val_loss: 0.7894\n",
      "Epoch 21/40\n",
      "\u001b[1m96/96\u001b[0m \u001b[32m━━━━━━━━━━━━━━━━━━━━\u001b[0m\u001b[37m\u001b[0m \u001b[1m2s\u001b[0m 16ms/step - accuracy: 0.4778 - loss: 0.7831 - val_accuracy: 0.7118 - val_loss: 0.7626\n"
     ]
    }
   ],
   "source": [
    "# Train the model\n",
    "early_stopping = EarlyStopping(monitor='val_loss', patience=3, restore_best_weights=True)\n",
    "history = model.fit(X_train, y_train, epochs=40, batch_size=12, validation_data=(X_val, y_val), class_weight=class_weights, callbacks=[early_stopping])"
   ]
  },
  {
   "cell_type": "code",
   "execution_count": 33,
   "metadata": {},
   "outputs": [
    {
     "name": "stdout",
     "output_type": "stream",
     "text": [
      "\u001b[1m16/16\u001b[0m \u001b[32m━━━━━━━━━━━━━━━━━━━━\u001b[0m\u001b[37m\u001b[0m \u001b[1m0s\u001b[0m 10ms/step - accuracy: 0.7981 - loss: 0.7515\n"
     ]
    }
   ],
   "source": [
    "# Evaluate the model\n",
    "loss, accuracy = model.evaluate(rnn_X_test, rnn_y_test)"
   ]
  },
  {
   "cell_type": "code",
   "execution_count": 34,
   "metadata": {},
   "outputs": [
    {
     "name": "stdout",
     "output_type": "stream",
     "text": [
      "\u001b[1m16/16\u001b[0m \u001b[32m━━━━━━━━━━━━━━━━━━━━\u001b[0m\u001b[37m\u001b[0m \u001b[1m0s\u001b[0m 18ms/step\n"
     ]
    }
   ],
   "source": [
    "# Predicting sentiments on new tweets\n",
    "rnn_predictions = model.predict(rnn_X_test)\n",
    "# Convert probabilities to binary predictions\n",
    "rnn_predictions_discrete = (rnn_predictions >= 0.5).astype(int)  "
   ]
  },
  {
   "cell_type": "markdown",
   "metadata": {},
   "source": [
    "### 3.4. Classification report for RNN"
   ]
  },
  {
   "cell_type": "code",
   "execution_count": 31,
   "metadata": {},
   "outputs": [
    {
     "name": "stdout",
     "output_type": "stream",
     "text": [
      "Classification report:\n",
      "\n",
      "              precision    recall  f1-score   support\n",
      "\n",
      "           0       0.50      0.19      0.27        96\n",
      "           1       0.83      0.95      0.88       387\n",
      "\n",
      "    accuracy                           0.80       483\n",
      "   macro avg       0.66      0.57      0.58       483\n",
      "weighted avg       0.76      0.80      0.76       483\n",
      "\n"
     ]
    },
    {
     "data": {
      "image/png": "[encoded data removed]",
      "text/plain": [
       "<Figure size 500x300 with 2 Axes>"
      ]
     },
     "metadata": {},
     "output_type": "display_data"
    },
    {
     "data": {
      "image/png": "[encoded data removed]",
      "text/plain": [
       "<Figure size 400x300 with 1 Axes>"
      ]
     },
     "metadata": {},
     "output_type": "display_data"
    },
    {
     "name": "stdout",
     "output_type": "stream",
     "text": [
      "AUC: 0.58\n"
     ]
    },
    {
     "data": {
      "image/png": "[encoded data removed]",
      "text/plain": [
       "<Figure size 450x300 with 1 Axes>"
      ]
     },
     "metadata": {},
     "output_type": "display_data"
    }
   ],
   "source": [
    "# # Initializing the performance evaluator class for RNN\n",
    "rnn_performance_evaluator = ClassificationEvaluator(true_labels=rnn_y_test, \n",
    "                                                    predicted_labels=rnn_predictions_discrete, \n",
    "                                                    predicted_probs=rnn_predictions)\n",
    "\n",
    "rnn_performance_evaluator.evaluate()\n",
    "rnn_performance_evaluator.plot_confusion_matrix()\n",
    "rnn_performance_evaluator.plot_roc_auc()\n",
    "rnn_performance_evaluator.plot_precision_recall_auc()"
   ]
  },
  {
   "cell_type": "markdown",
   "metadata": {},
   "source": [
    "#### RNN Classification Report Interpretation\n",
    "\n",
    "1. Classification Report\n",
    "- Mdodel's performance on class 1 (positive) is fairly good. However, all the three metrics, precision, recall and f1-score on class 0 need attention. This can be atrributed to the imbalance in the dataset with class 1 having more instances (387) than class 0 (96). The performance would have been better, if the model would have had more negative samples to learn from.\n",
    "\n",
    "2. ROC_AUC Curve\n",
    "- The AUC of 0.58 suggests that the model has limited ability to distinguish between the positive and negative classes. Its marginally better than random guessing.\n",
    "\n",
    "3. PR Curve\n",
    "- Low AUC (0.17) suggests poor model performance in distinguishing between the positive and negative classes for minority class.<br>\n",
    "- Both precision and recall are low across different thresholds meaning a struggling model to identify minority class, resulting in may fasle positives and fasle negatives. Can be noticed in the confusion matrix.<br>"
   ]
  },
  {
   "cell_type": "markdown",
   "metadata": {},
   "source": [
    "### 3.4. Hyperparameter tuning"
   ]
  },
  {
   "cell_type": "code",
   "execution_count": 108,
   "metadata": {},
   "outputs": [],
   "source": [
    "def build_hypermodel(hp):\n",
    "    model = Sequential()\n",
    "    model.add(Input(shape=(max_sequence_length,)))\n",
    "    model.add(Embedding(input_dim=vocab_size, \n",
    "                        output_dim=embedding_dim,\n",
    "                        weights=[embedding_matrix],  \n",
    "                        trainable=False))\n",
    "    \n",
    "    # Choose between LSTM and GRU\n",
    "    rnn_type = hp.Choice('rnn_type', ['LSTM', 'GRU'])\n",
    "    rnn_units = 64 #hp.Int('rnn_units', min_value=32, max_value=128, step=32)\n",
    "    \n",
    "    if rnn_type == 'LSTM':\n",
    "        rnn_layer = LSTM(units=rnn_units, return_sequences=False, kernel_regularizer=l2(hp.Float('l2', 0.0, 0.1, step=0.01)))\n",
    "    else:\n",
    "        rnn_layer = GRU(units=rnn_units, return_sequences=False, kernel_regularizer=l2(hp.Float('l2', 0.0, 0.1, step=0.01)))\n",
    "    \n",
    "    # Add Bidirectional wrapper if specified\n",
    "    if hp.Boolean('bidirectional'):\n",
    "        model.add(Bidirectional(rnn_layer))\n",
    "    else:\n",
    "        model.add(rnn_layer)\n",
    "    \n",
    "    model.add(Dropout(rate=hp.Float('dropout', 0.1, 0.5, step=0.1)))\n",
    "    model.add(Dense(1, activation='sigmoid', kernel_regularizer=l2(hp.Float('l2_dense', 0.0, 0.1, step=0.01))))\n",
    "    \n",
    "    # Compile the model\n",
    "    model.compile(optimizer=Adam(learning_rate=hp.Float('learning_rate', 1e-5, 1e-3, sampling='log')),\n",
    "                  loss='binary_crossentropy', \n",
    "                  metrics=['accuracy'])\n",
    "    return model\n"
   ]
  },
  {
   "cell_type": "code",
   "execution_count": 109,
   "metadata": {},
   "outputs": [
    {
     "name": "stdout",
     "output_type": "stream",
     "text": [
      "Reloading Tuner from bayesian_optimization\\rnn_tuning\\tuner0.json\n"
     ]
    }
   ],
   "source": [
    "tuner = BayesianOptimization(\n",
    "    build_hypermodel,\n",
    "    objective='val_accuracy',\n",
    "    max_trials=10,  \n",
    "    executions_per_trial=1,  # Averages the results over multiple runs\n",
    "    directory='bayesian_optimization',\n",
    "    project_name='rnn_tuning'\n",
    ")"
   ]
  },
  {
   "cell_type": "code",
   "execution_count": 111,
   "metadata": {},
   "outputs": [
    {
     "name": "stdout",
     "output_type": "stream",
     "text": [
      "Best RNN type: GRU\n",
      "Use bidirectional: False\n",
      "Best dropout rate: 0.2\n",
      "Best learning rate: 2.5525782159678046e-05\n"
     ]
    },
    {
     "data": {
      "text/html": [
       "<pre style=\"white-space:pre;overflow-x:auto;line-height:normal;font-family:Menlo,'DejaVu Sans Mono',consolas,'Courier New',monospace\"><span style=\"font-weight: bold\">Model: \"sequential\"</span>\n",
       "</pre>\n"
      ],
      "text/plain": [
       "\u001b[1mModel: \"sequential\"\u001b[0m\n"
      ]
     },
     "metadata": {},
     "output_type": "display_data"
    },
    {
     "data": {
      "text/html": [
       "<pre style=\"white-space:pre;overflow-x:auto;line-height:normal;font-family:Menlo,'DejaVu Sans Mono',consolas,'Courier New',monospace\">┏━━━━━━━━━━━━━━━━━━━━━━━━━━━━━━━━━┳━━━━━━━━━━━━━━━━━━━━━━━━┳━━━━━━━━━━━━━━━┓\n",
       "┃<span style=\"font-weight: bold\"> Layer (type)                    </span>┃<span style=\"font-weight: bold\"> Output Shape           </span>┃<span style=\"font-weight: bold\">       Param # </span>┃\n",
       "┡━━━━━━━━━━━━━━━━━━━━━━━━━━━━━━━━━╇━━━━━━━━━━━━━━━━━━━━━━━━╇━━━━━━━━━━━━━━━┩\n",
       "│ embedding (<span style=\"color: #0087ff; text-decoration-color: #0087ff\">Embedding</span>)           │ (<span style=\"color: #00d7ff; text-decoration-color: #00d7ff\">None</span>, <span style=\"color: #00af00; text-decoration-color: #00af00\">50</span>, <span style=\"color: #00af00; text-decoration-color: #00af00\">50</span>)         │       <span style=\"color: #00af00; text-decoration-color: #00af00\">294,400</span> │\n",
       "├─────────────────────────────────┼────────────────────────┼───────────────┤\n",
       "│ gru (<span style=\"color: #0087ff; text-decoration-color: #0087ff\">GRU</span>)                       │ (<span style=\"color: #00d7ff; text-decoration-color: #00d7ff\">None</span>, <span style=\"color: #00af00; text-decoration-color: #00af00\">64</span>)             │        <span style=\"color: #00af00; text-decoration-color: #00af00\">22,272</span> │\n",
       "├─────────────────────────────────┼────────────────────────┼───────────────┤\n",
       "│ dropout (<span style=\"color: #0087ff; text-decoration-color: #0087ff\">Dropout</span>)               │ (<span style=\"color: #00d7ff; text-decoration-color: #00d7ff\">None</span>, <span style=\"color: #00af00; text-decoration-color: #00af00\">64</span>)             │             <span style=\"color: #00af00; text-decoration-color: #00af00\">0</span> │\n",
       "├─────────────────────────────────┼────────────────────────┼───────────────┤\n",
       "│ dense (<span style=\"color: #0087ff; text-decoration-color: #0087ff\">Dense</span>)                   │ (<span style=\"color: #00d7ff; text-decoration-color: #00d7ff\">None</span>, <span style=\"color: #00af00; text-decoration-color: #00af00\">1</span>)              │            <span style=\"color: #00af00; text-decoration-color: #00af00\">65</span> │\n",
       "└─────────────────────────────────┴────────────────────────┴───────────────┘\n",
       "</pre>\n"
      ],
      "text/plain": [
       "┏━━━━━━━━━━━━━━━━━━━━━━━━━━━━━━━━━┳━━━━━━━━━━━━━━━━━━━━━━━━┳━━━━━━━━━━━━━━━┓\n",
       "┃\u001b[1m \u001b[0m\u001b[1mLayer (type)                   \u001b[0m\u001b[1m \u001b[0m┃\u001b[1m \u001b[0m\u001b[1mOutput Shape          \u001b[0m\u001b[1m \u001b[0m┃\u001b[1m \u001b[0m\u001b[1m      Param #\u001b[0m\u001b[1m \u001b[0m┃\n",
       "┡━━━━━━━━━━━━━━━━━━━━━━━━━━━━━━━━━╇━━━━━━━━━━━━━━━━━━━━━━━━╇━━━━━━━━━━━━━━━┩\n",
       "│ embedding (\u001b[38;5;33mEmbedding\u001b[0m)           │ (\u001b[38;5;45mNone\u001b[0m, \u001b[38;5;34m50\u001b[0m, \u001b[38;5;34m50\u001b[0m)         │       \u001b[38;5;34m294,400\u001b[0m │\n",
       "├─────────────────────────────────┼────────────────────────┼───────────────┤\n",
       "│ gru (\u001b[38;5;33mGRU\u001b[0m)                       │ (\u001b[38;5;45mNone\u001b[0m, \u001b[38;5;34m64\u001b[0m)             │        \u001b[38;5;34m22,272\u001b[0m │\n",
       "├─────────────────────────────────┼────────────────────────┼───────────────┤\n",
       "│ dropout (\u001b[38;5;33mDropout\u001b[0m)               │ (\u001b[38;5;45mNone\u001b[0m, \u001b[38;5;34m64\u001b[0m)             │             \u001b[38;5;34m0\u001b[0m │\n",
       "├─────────────────────────────────┼────────────────────────┼───────────────┤\n",
       "│ dense (\u001b[38;5;33mDense\u001b[0m)                   │ (\u001b[38;5;45mNone\u001b[0m, \u001b[38;5;34m1\u001b[0m)              │            \u001b[38;5;34m65\u001b[0m │\n",
       "└─────────────────────────────────┴────────────────────────┴───────────────┘\n"
      ]
     },
     "metadata": {},
     "output_type": "display_data"
    },
    {
     "data": {
      "text/html": [
       "<pre style=\"white-space:pre;overflow-x:auto;line-height:normal;font-family:Menlo,'DejaVu Sans Mono',consolas,'Courier New',monospace\"><span style=\"font-weight: bold\"> Total params: </span><span style=\"color: #00af00; text-decoration-color: #00af00\">316,737</span> (1.21 MB)\n",
       "</pre>\n"
      ],
      "text/plain": [
       "\u001b[1m Total params: \u001b[0m\u001b[38;5;34m316,737\u001b[0m (1.21 MB)\n"
      ]
     },
     "metadata": {},
     "output_type": "display_data"
    },
    {
     "data": {
      "text/html": [
       "<pre style=\"white-space:pre;overflow-x:auto;line-height:normal;font-family:Menlo,'DejaVu Sans Mono',consolas,'Courier New',monospace\"><span style=\"font-weight: bold\"> Trainable params: </span><span style=\"color: #00af00; text-decoration-color: #00af00\">22,337</span> (87.25 KB)\n",
       "</pre>\n"
      ],
      "text/plain": [
       "\u001b[1m Trainable params: \u001b[0m\u001b[38;5;34m22,337\u001b[0m (87.25 KB)\n"
      ]
     },
     "metadata": {},
     "output_type": "display_data"
    },
    {
     "data": {
      "text/html": [
       "<pre style=\"white-space:pre;overflow-x:auto;line-height:normal;font-family:Menlo,'DejaVu Sans Mono',consolas,'Courier New',monospace\"><span style=\"font-weight: bold\"> Non-trainable params: </span><span style=\"color: #00af00; text-decoration-color: #00af00\">294,400</span> (1.12 MB)\n",
       "</pre>\n"
      ],
      "text/plain": [
       "\u001b[1m Non-trainable params: \u001b[0m\u001b[38;5;34m294,400\u001b[0m (1.12 MB)\n"
      ]
     },
     "metadata": {},
     "output_type": "display_data"
    }
   ],
   "source": [
    "# Early stopping callback\n",
    "hpt_early_stopping = EarlyStopping(monitor='val_loss', patience=5, restore_best_weights=True)\n",
    "\n",
    "# # Start the search\n",
    "tuner.search(X_train, y_train,\n",
    "             epochs=10,\n",
    "             validation_data=(X_val, y_val),\n",
    "             batch_size=32,\n",
    "             callbacks=[hpt_early_stopping])\n",
    "\n",
    "\n",
    "# # Get the best hyperparameters and model\n",
    "best_hps = tuner.get_best_hyperparameters(num_trials=1)[0]\n",
    "best_model = tuner.get_best_models(num_models=1)[0]\n",
    "\n",
    "# Print the best hyperparameters\n",
    "print(f\"Best RNN type: {best_hps.get('rnn_type')}\")\n",
    "print(f\"Use bidirectional: {best_hps.get('bidirectional')}\")\n",
    "print(f\"Best dropout rate: {best_hps.get('dropout')}\")\n",
    "print(f\"Best learning rate: {best_hps.get('learning_rate')}\")\n",
    "\n",
    "# Summary of the best model\n",
    "best_model.summary()"
   ]
  },
  {
   "cell_type": "code",
   "execution_count": 101,
   "metadata": {},
   "outputs": [],
   "source": [
    "# # In case if the tuning code throws Value error, then need to clear the old model states from the memory\n",
    "# from tensorflow.keras import backend as K\n",
    "# K.clear_session()"
   ]
  },
  {
   "cell_type": "markdown",
   "metadata": {},
   "source": [
    "Only to display the output, I have ran 10 trials, but have performed a run of 100 trials. The learning rate, RNN type is derived from that run."
   ]
  },
  {
   "cell_type": "markdown",
   "metadata": {},
   "source": [
    "## 4. DistilBERT"
   ]
  },
  {
   "cell_type": "markdown",
   "metadata": {},
   "source": [
    "### 4.1. Clean the tweets for DistilBERT"
   ]
  },
  {
   "cell_type": "code",
   "execution_count": 38,
   "metadata": {},
   "outputs": [],
   "source": [
    "# Initialize the DataPreprocessor class for DistilBERT\n",
    "dtb_train_datapreprocessor = DataPreprocessor(df=train_df, content_column='content')\n",
    "dtb_test_datapreprocessor = DataPreprocessor(df=test_df, content_column='content')"
   ]
  },
  {
   "cell_type": "code",
   "execution_count": null,
   "metadata": {},
   "outputs": [],
   "source": [
    "#! pip install accelerate\n",
    "#! pip install transformers[torch]"
   ]
  },
  {
   "cell_type": "code",
   "execution_count": 39,
   "metadata": {},
   "outputs": [
    {
     "name": "stderr",
     "output_type": "stream",
     "text": [
      "c:\\Users\\Diya\\Documents\\GItHub\\DELTA_Element3\\Data_Preprocess.py:114: MarkupResemblesLocatorWarning: The input looks more like a filename than markup. You may want to open this file and pass the filehandle into Beautiful Soup.\n",
      "  tweet = BeautifulSoup(tweet, 'html.parser').get_text()\n",
      "c:\\Users\\Diya\\Documents\\GItHub\\DELTA_Element3\\Data_Preprocess.py:114: MarkupResemblesLocatorWarning: The input looks more like a filename than markup. You may want to open this file and pass the filehandle into Beautiful Soup.\n",
      "  tweet = BeautifulSoup(tweet, 'html.parser').get_text()\n"
     ]
    }
   ],
   "source": [
    "dtb_train_df = dtb_train_datapreprocessor.preprocess(remove_spam=True, \n",
    "                                                     remove_hashtags=True, \n",
    "                                                     remove_emoji=True, \n",
    "                                                     remove_link=True, \n",
    "                                                     remove_whitespace_html=True)\n",
    "\n",
    "dtb_test_df = dtb_test_datapreprocessor.preprocess(remove_spam=True, \n",
    "                                                   remove_hashtags=True, \n",
    "                                                   remove_emoji=True, \n",
    "                                                   remove_link=True, \n",
    "                                                   remove_whitespace_html=True)"
   ]
  },
  {
   "cell_type": "code",
   "execution_count": 40,
   "metadata": {},
   "outputs": [
    {
     "data": {
      "text/plain": [
       "('#Hex launched &amp; gained 11,900%\\n(Nomics .com)\\n\\n#Pulsechain 2 do- 3X of $HEX \\n\\nWhy?\\n\\n#PLS -Already has 40k user \\n75-85k new Buyer\\nOver 60 projects ready\\n\\nAlmost 80% supply be locked\\nBy #OG #Staking #Validator \\n\\nRetweet ❤️ $PLS ppl\\n\\n#BTC #BNB #HEX #PLS #PLSX #ETH #Crypto #XRP #USDT https://t.co/ZG3OlPOyUy',\n",
       " 'launched & gained 11,900% (Nomics .com) 2 do- 3X of $HEX Why? -Already has 40k user 75-85k new Buyer Over 60 projects ready Almost 80% supply be locked By Retweet  $PLS ppl #BTC #BNB X #ETH #Crypto #XRP #USDT',\n",
       " 1)"
      ]
     },
     "execution_count": 40,
     "metadata": {},
     "output_type": "execute_result"
    }
   ],
   "source": [
    "i = 7\n",
    "dtb_test_df['content'][i], dtb_test_df['cleaned_content'][i], dtb_test_df['sentiment'][i]"
   ]
  },
  {
   "cell_type": "code",
   "execution_count": 41,
   "metadata": {},
   "outputs": [
    {
     "data": {
      "text/html": [
       "<div>\n",
       "<style scoped>\n",
       "    .dataframe tbody tr th:only-of-type {\n",
       "        vertical-align: middle;\n",
       "    }\n",
       "\n",
       "    .dataframe tbody tr th {\n",
       "        vertical-align: top;\n",
       "    }\n",
       "\n",
       "    .dataframe thead th {\n",
       "        text-align: right;\n",
       "    }\n",
       "</style>\n",
       "<table border=\"1\" class=\"dataframe\">\n",
       "  <thead>\n",
       "    <tr style=\"text-align: right;\">\n",
       "      <th></th>\n",
       "      <th>content</th>\n",
       "      <th>username</th>\n",
       "      <th>sentiment</th>\n",
       "      <th>cleaned_content</th>\n",
       "    </tr>\n",
       "  </thead>\n",
       "  <tbody>\n",
       "    <tr>\n",
       "      <th>0</th>\n",
       "      <td>#crypto $crypto #btc \\nI am Chinese crypto alp...</td>\n",
       "      <td>huahuayjy</td>\n",
       "      <td>1</td>\n",
       "      <td>#crypto $crypto #btc I am Chinese crypto alpha...</td>\n",
       "    </tr>\n",
       "    <tr>\n",
       "      <th>1</th>\n",
       "      <td>#Bitcoin would have to fall another 80% to rea...</td>\n",
       "      <td>luke_broyles</td>\n",
       "      <td>0</td>\n",
       "      <td>#Bitcoin would have to fall another 80% to rea...</td>\n",
       "    </tr>\n",
       "    <tr>\n",
       "      <th>2</th>\n",
       "      <td>#Giveaway $1000 Matic in 3Days\\n\\n🏆To win\\n1️⃣...</td>\n",
       "      <td>cryptomarsdo</td>\n",
       "      <td>1</td>\n",
       "      <td>#Giveaway $1000 Matic in 3Days To win  keycap_...</td>\n",
       "    </tr>\n",
       "    <tr>\n",
       "      <th>3</th>\n",
       "      <td>Up or Down?\\n\\n!!! $EOS #EOS !!!\\n\\nVS\\n\\n$USD...</td>\n",
       "      <td>andreyukrnet</td>\n",
       "      <td>1</td>\n",
       "      <td>Up or Down? !!! $EOS !!! VS $USDT #USDT AND $B...</td>\n",
       "    </tr>\n",
       "    <tr>\n",
       "      <th>4</th>\n",
       "      <td>Mid Day Mix-up is LIVE! Never know who might s...</td>\n",
       "      <td>JustAman04</td>\n",
       "      <td>1</td>\n",
       "      <td>Mid Day Mix-up is LIVE! Never know who might s...</td>\n",
       "    </tr>\n",
       "  </tbody>\n",
       "</table>\n",
       "</div>"
      ],
      "text/plain": [
       "                                             content      username  sentiment  \\\n",
       "0  #crypto $crypto #btc \\nI am Chinese crypto alp...     huahuayjy          1   \n",
       "1  #Bitcoin would have to fall another 80% to rea...  luke_broyles          0   \n",
       "2  #Giveaway $1000 Matic in 3Days\\n\\n🏆To win\\n1️⃣...  cryptomarsdo          1   \n",
       "3  Up or Down?\\n\\n!!! $EOS #EOS !!!\\n\\nVS\\n\\n$USD...  andreyukrnet          1   \n",
       "4  Mid Day Mix-up is LIVE! Never know who might s...    JustAman04          1   \n",
       "\n",
       "                                     cleaned_content  \n",
       "0  #crypto $crypto #btc I am Chinese crypto alpha...  \n",
       "1  #Bitcoin would have to fall another 80% to rea...  \n",
       "2  #Giveaway $1000 Matic in 3Days To win  keycap_...  \n",
       "3  Up or Down? !!! $EOS !!! VS $USDT #USDT AND $B...  \n",
       "4  Mid Day Mix-up is LIVE! Never know who might s...  "
      ]
     },
     "execution_count": 41,
     "metadata": {},
     "output_type": "execute_result"
    }
   ],
   "source": [
    "dtb_test_df.head()"
   ]
  },
  {
   "cell_type": "code",
   "execution_count": 42,
   "metadata": {},
   "outputs": [],
   "source": [
    "# Split the data to training and validation\n",
    "dtb_X_train, dtb_X_val, dtb_y_train, dtb_y_val = train_test_split(dtb_train_df['cleaned_content'], dtb_train_df['sentiment'], test_size = 0.2, random_state = 9)\n",
    "# Changing the dtype from series to array\n",
    "dtb_y_train = dtb_y_train #.to_numpy()\n",
    "dtb_y_val = dtb_y_val #.to_numpy()\n",
    "\n",
    "# Preparing the test data\n",
    "dtb_X_test = dtb_test_df['cleaned_content']\n",
    "dtb_y_test = dtb_test_df['sentiment']"
   ]
  },
  {
   "cell_type": "markdown",
   "metadata": {},
   "source": [
    "### 4.2. Predict with pre-trained and fine-tuned DistilBERT"
   ]
  },
  {
   "cell_type": "markdown",
   "metadata": {},
   "source": [
    "The entire pipeline of generating predicitons using a pre-trained DistilBERT and then fine-tuned DistilBERT is implemented in a class 'DistilBERTSentimentAnalyzer' imported from 'DistilBERT.py'. Here is the detailed description of the approach.\n",
    "\n",
    "#### **Pre-trained Analysis Pipeline:**\n",
    "\n",
    "1. **Tokenization:**\n",
    "   - 'pretrained_tokenizer' to tokenize and preprocess the input tweets.\n",
    "   - Convert the tweets into a format suitable for the model. Padds and truncates the tweets to specified maximum length.\n",
    "\n",
    "2. **Prediction:**\n",
    "   - Pass the tokenized input to the 'pretrained_model'.\n",
    "   - The model outputs logits, which represent the raw predictions.\n",
    "   - 'torch.argmax' to convert the logits into predicted class labels.\n",
    "\n",
    "3. **Evaluation:**\n",
    "   - Evaluate the performance of the pre-trained model on the test data using the predicted labels.\n",
    "\n",
    "**Function:**\n",
    "- 'run_pretrained_analysis(analyzer, test_texts)'\n",
    "\n",
    "#### **Fine-tuned Analysis Pipeline:**\n",
    "\n",
    "1. **Tokenization:**\n",
    "   - 'finetuned_tokenizer' to tokenize and preprocess the training, validation, and test tweets.\n",
    "   - Prepares the data for training and evaluation.\n",
    "\n",
    "2. **Prepare Labels:**\n",
    "   - Convert the training and validation labels into tensors.\n",
    "\n",
    "3. **Initial Training (with Frozen Layers):**\n",
    "   - Freeze all layers of the 'finetuned_model' except for the output layer.\n",
    "   - Set up training arguments using 'TrainingArguments'.\n",
    "   - Define training and validation datasets.\n",
    "   - Train the model using the 'Trainer' class, updating only the output layer initially.\n",
    "\n",
    "4. **Gradual Unfreezing:**\n",
    "   - Unfreeze all layers of the model to allow for further fine-tuning.\n",
    "   - Continue training the model with all layers unfrozen to adjust pre-trained features for the specific task.\n",
    "\n",
    "5. **Evaluation:**\n",
    "   - Evaluate the fine-tuned model on the test data using the updated weights.\n",
    "\n",
    "**Function:**\n",
    "- 'run_finetuned_analysis(analyzer, train_texts, train_labels, val_texts, val_labels, test_texts)'"
   ]
  },
  {
   "cell_type": "code",
   "execution_count": 43,
   "metadata": {},
   "outputs": [
    {
     "data": {
      "application/vnd.jupyter.widget-view+json": {
       "model_id": "f0335a4b91534fcea8f99a147c485e7e",
       "version_major": 2,
       "version_minor": 0
      },
      "text/plain": [
       "  0%|          | 0/72 [00:00<?, ?it/s]"
      ]
     },
     "metadata": {},
     "output_type": "display_data"
    },
    {
     "name": "stderr",
     "output_type": "stream",
     "text": [
      "c:\\Users\\Diya\\Documents\\GItHub\\DELTA_Element3\\DistilBERT.py:14: UserWarning: To copy construct from a tensor, it is recommended to use sourceTensor.clone().detach() or sourceTensor.clone().detach().requires_grad_(True), rather than torch.tensor(sourceTensor).\n",
      "  item = {key: torch.tensor(val[idx]) for key, val in self.encodings.items()}\n",
      "c:\\Users\\Diya\\Documents\\GItHub\\DELTA_Element3\\DistilBERT.py:15: UserWarning: To copy construct from a tensor, it is recommended to use sourceTensor.clone().detach() or sourceTensor.clone().detach().requires_grad_(True), rather than torch.tensor(sourceTensor).\n",
      "  item['labels'] = torch.tensor(self.labels[idx])\n"
     ]
    },
    {
     "name": "stdout",
     "output_type": "stream",
     "text": [
      "{'train_runtime': 164.0326, 'train_samples_per_second': 7.011, 'train_steps_per_second': 0.439, 'train_loss': 0.4096068541208903, 'epoch': 1.0}\n"
     ]
    },
    {
     "data": {
      "application/vnd.jupyter.widget-view+json": {
       "model_id": "9e7e111be75444198fae20813a2b211f",
       "version_major": 2,
       "version_minor": 0
      },
      "text/plain": [
       "  0%|          | 0/72 [00:00<?, ?it/s]"
      ]
     },
     "metadata": {},
     "output_type": "display_data"
    },
    {
     "name": "stdout",
     "output_type": "stream",
     "text": [
      "{'train_runtime': 172.8606, 'train_samples_per_second': 6.653, 'train_steps_per_second': 0.417, 'train_loss': 0.18311840958065456, 'epoch': 1.0}\n"
     ]
    }
   ],
   "source": [
    "# Initialize the analyzer\n",
    "analyzer = DistilBERTSentimentAnalyzer(\n",
    "    pretrained_model_name='DT12the/distilbert-sentiment-analysis',\n",
    "    finetuned_model_name='distilbert-base-uncased-finetuned-sst-2-english'\n",
    ")\n",
    "\n",
    "# Example usage with your data\n",
    "pt_dtb_predictions = run_pretrained_analysis(analyzer, dtb_test_df['cleaned_content'].to_list())\n",
    "\n",
    "# # Fine-tune and evaluate\n",
    "ft_dtb_predictions = run_finetuned_analysis(\n",
    "    analyzer,\n",
    "    train_texts = dtb_X_train.to_list(),\n",
    "    train_labels = dtb_y_train.values,\n",
    "    val_texts = dtb_X_val.to_list(),\n",
    "    val_labels = dtb_y_val.values,\n",
    "    test_texts= dtb_X_test.to_list()\n",
    ")"
   ]
  },
  {
   "cell_type": "markdown",
   "metadata": {},
   "source": [
    "### 4.3. Classification report for pre-trained DistilBERT"
   ]
  },
  {
   "cell_type": "code",
   "execution_count": 44,
   "metadata": {},
   "outputs": [
    {
     "name": "stdout",
     "output_type": "stream",
     "text": [
      "Classification report:\n",
      "\n",
      "              precision    recall  f1-score   support\n",
      "\n",
      "           0       0.73      0.60      0.66        96\n",
      "           1       0.91      0.95      0.93       387\n",
      "\n",
      "    accuracy                           0.88       483\n",
      "   macro avg       0.82      0.77      0.79       483\n",
      "weighted avg       0.87      0.88      0.87       483\n",
      "\n"
     ]
    },
    {
     "data": {
      "image/png": "[encoded data removed]",
      "text/plain": [
       "<Figure size 500x300 with 2 Axes>"
      ]
     },
     "metadata": {},
     "output_type": "display_data"
    }
   ],
   "source": [
    "# The pre-trained DistilBERT maps positive class to 0 and negative class to 1, which is opposite of our labels. Hence flipped them\n",
    "flipped_predictions = 1 - pt_dtb_predictions\n",
    "\n",
    "# Initializing the performance evaluator class for pre-trained DistilBERT\n",
    "pt_dtb_performance_evaluator = ClassificationEvaluator(true_labels=dtb_test_df['sentiment'].to_list(), \n",
    "                                                       predicted_labels=flipped_predictions)\n",
    "\n",
    "pt_dtb_performance_evaluator.evaluate()\n",
    "pt_dtb_performance_evaluator.plot_confusion_matrix()"
   ]
  },
  {
   "cell_type": "markdown",
   "metadata": {},
   "source": [
    "### 4.4. Classification report for fine-tuned DistilBERT"
   ]
  },
  {
   "cell_type": "code",
   "execution_count": 45,
   "metadata": {},
   "outputs": [
    {
     "name": "stdout",
     "output_type": "stream",
     "text": [
      "Classification report:\n",
      "\n",
      "              precision    recall  f1-score   support\n",
      "\n",
      "           0       0.79      0.62      0.70        96\n",
      "           1       0.91      0.96      0.93       387\n",
      "\n",
      "    accuracy                           0.89       483\n",
      "   macro avg       0.85      0.79      0.82       483\n",
      "weighted avg       0.89      0.89      0.89       483\n",
      "\n"
     ]
    },
    {
     "data": {
      "image/png": "[encoded data removed]",
      "text/plain": [
       "<Figure size 500x300 with 2 Axes>"
      ]
     },
     "metadata": {},
     "output_type": "display_data"
    }
   ],
   "source": [
    "# Initializing the performance evaluator class for pre-trained DistilBERT\n",
    "ft_dtb_performance_evaluator = ClassificationEvaluator(true_labels=dtb_test_df['sentiment'].to_list(), \n",
    "                                                       predicted_labels=ft_dtb_predictions)\n",
    "\n",
    "ft_dtb_performance_evaluator.evaluate()\n",
    "ft_dtb_performance_evaluator.plot_confusion_matrix()"
   ]
  },
  {
   "cell_type": "markdown",
   "metadata": {},
   "source": [
    "## 5. Final Comparison"
   ]
  },
  {
   "cell_type": "markdown",
   "metadata": {},
   "source": [
    "### 5.1. Code"
   ]
  },
  {
   "cell_type": "code",
   "execution_count": 60,
   "metadata": {},
   "outputs": [],
   "source": [
    "from sklearn.metrics import classification_report\n",
    "\n",
    "def get_classification_scores(true_labels, predicted_labels):\n",
    "    report = classification_report(true_labels, predicted_labels, output_dict=True)\n",
    "    # Extract the relevant scores\n",
    "    scores = {\n",
    "        'precision_0': report['0']['precision'],\n",
    "        'recall_0': report['0']['recall'],\n",
    "        'f1_score_0': report['0']['f1-score'],\n",
    "        'precision_1': report['1']['precision'],\n",
    "        'recall_1': report['1']['recall'],\n",
    "        'f1_score_1': report['1']['f1-score'],\n",
    "        'accuracy': report['accuracy']\n",
    "    }\n",
    "    return scores\n",
    "\n",
    "model_predictions = {\n",
    "    'vaderSentiment': vader_test_df['vader_sentiment_label'],\n",
    "    'RNN (LSTM 64)': rnn_predictions_discrete, \n",
    "    'Pre-trained DistilBERT': flipped_predictions,\n",
    "    'Fine-tuned DistilBERT': ft_dtb_predictions,  \n",
    "}\n",
    "\n",
    "# True labels\n",
    "true_labels = dtb_test_df['sentiment'].to_list()\n",
    "\n",
    "results = []\n",
    "\n",
    "for model_name, predictions in model_predictions.items():\n",
    "    scores = get_classification_scores(true_labels, predictions)\n",
    "    scores['model'] = model_name\n",
    "    results.append(scores)\n",
    "\n",
    "# Convert the results to a DataFrame\n",
    "results_df = pd.DataFrame(results)\n",
    "results_df = results_df.set_index('model').map(lambda x: f\"{x:.2f}\")"
   ]
  },
  {
   "cell_type": "markdown",
   "metadata": {},
   "source": [
    "### 5.2. Comparison Table and conclusion"
   ]
  },
  {
   "cell_type": "code",
   "execution_count": 61,
   "metadata": {},
   "outputs": [
    {
     "data": {
      "text/html": [
       "<div>\n",
       "<style scoped>\n",
       "    .dataframe tbody tr th:only-of-type {\n",
       "        vertical-align: middle;\n",
       "    }\n",
       "\n",
       "    .dataframe tbody tr th {\n",
       "        vertical-align: top;\n",
       "    }\n",
       "\n",
       "    .dataframe thead th {\n",
       "        text-align: right;\n",
       "    }\n",
       "</style>\n",
       "<table border=\"1\" class=\"dataframe\">\n",
       "  <thead>\n",
       "    <tr style=\"text-align: right;\">\n",
       "      <th></th>\n",
       "      <th>precision_0</th>\n",
       "      <th>recall_0</th>\n",
       "      <th>f1_score_0</th>\n",
       "      <th>precision_1</th>\n",
       "      <th>recall_1</th>\n",
       "      <th>f1_score_1</th>\n",
       "      <th>accuracy</th>\n",
       "    </tr>\n",
       "    <tr>\n",
       "      <th>model</th>\n",
       "      <th></th>\n",
       "      <th></th>\n",
       "      <th></th>\n",
       "      <th></th>\n",
       "      <th></th>\n",
       "      <th></th>\n",
       "      <th></th>\n",
       "    </tr>\n",
       "  </thead>\n",
       "  <tbody>\n",
       "    <tr>\n",
       "      <th>vaderSentiment</th>\n",
       "      <td>0.58</td>\n",
       "      <td>0.45</td>\n",
       "      <td>0.51</td>\n",
       "      <td>0.87</td>\n",
       "      <td>0.92</td>\n",
       "      <td>0.89</td>\n",
       "      <td>0.83</td>\n",
       "    </tr>\n",
       "    <tr>\n",
       "      <th>RNN (LSTM 64)</th>\n",
       "      <td>0.48</td>\n",
       "      <td>0.24</td>\n",
       "      <td>0.32</td>\n",
       "      <td>0.83</td>\n",
       "      <td>0.94</td>\n",
       "      <td>0.88</td>\n",
       "      <td>0.80</td>\n",
       "    </tr>\n",
       "    <tr>\n",
       "      <th>Pre-trained DistilBERT</th>\n",
       "      <td>0.73</td>\n",
       "      <td>0.60</td>\n",
       "      <td>0.66</td>\n",
       "      <td>0.91</td>\n",
       "      <td>0.95</td>\n",
       "      <td>0.93</td>\n",
       "      <td>0.88</td>\n",
       "    </tr>\n",
       "    <tr>\n",
       "      <th>Fine-tuned DistilBERT</th>\n",
       "      <td>0.79</td>\n",
       "      <td>0.62</td>\n",
       "      <td>0.70</td>\n",
       "      <td>0.91</td>\n",
       "      <td>0.96</td>\n",
       "      <td>0.93</td>\n",
       "      <td>0.89</td>\n",
       "    </tr>\n",
       "  </tbody>\n",
       "</table>\n",
       "</div>"
      ],
      "text/plain": [
       "                       precision_0 recall_0 f1_score_0 precision_1 recall_1  \\\n",
       "model                                                                         \n",
       "vaderSentiment                0.58     0.45       0.51        0.87     0.92   \n",
       "RNN (LSTM 64)                 0.48     0.24       0.32        0.83     0.94   \n",
       "Pre-trained DistilBERT        0.73     0.60       0.66        0.91     0.95   \n",
       "Fine-tuned DistilBERT         0.79     0.62       0.70        0.91     0.96   \n",
       "\n",
       "                       f1_score_1 accuracy  \n",
       "model                                       \n",
       "vaderSentiment               0.89     0.83  \n",
       "RNN (LSTM 64)                0.88     0.80  \n",
       "Pre-trained DistilBERT       0.93     0.88  \n",
       "Fine-tuned DistilBERT        0.93     0.89  "
      ]
     },
     "execution_count": 61,
     "metadata": {},
     "output_type": "execute_result"
    }
   ],
   "source": [
    "results_df"
   ]
  },
  {
   "cell_type": "markdown",
   "metadata": {},
   "source": [
    "- The table compares the classification performane of all 4 models tracking their precision, recall and F1 score for both the classes.\n",
    "- From the numbers, **Fine-tuned DistilBERT** is the best overall, consistently giving high scores in precision, recall, and F1 score for both categories. It outperforms other models, particularly the minority class, which is crucial in this imbalanced dataset.\n",
    "- Having said that, it is worth to note the performance of our benchmark model i.e. VaderSentiment. Although comparatively simpler, it outperforms RNN in every other metric (optimistically thinking that I have fitted the best possible RNN).\n",
    "- I have noticed improved performance every model as I refined my data preprocessing, after learning from every iteration. Hence I will attribute a large share of improved performance to data preprocessing and I believe that there still sope for improvement."
   ]
  }
 ],
 "metadata": {
  "kernelspec": {
   "display_name": "Python 3 (ipykernel)",
   "language": "python",
   "name": "python3"
  },
  "language_info": {
   "codemirror_mode": {
    "name": "ipython",
    "version": 3
   },
   "file_extension": ".py",
   "mimetype": "text/x-python",
   "name": "python",
   "nbconvert_exporter": "python",
   "pygments_lexer": "ipython3",
   "version": "3.11.9"
  }
 },
 "nbformat": 4,
 "nbformat_minor": 4
}
